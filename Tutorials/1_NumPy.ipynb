{
  "nbformat": 4,
  "nbformat_minor": 0,
  "metadata": {
    "colab": {
      "provenance": [],
      "toc_visible": true,
      "authorship_tag": "ABX9TyOsVqtBVU+obusxb1TtDeWk",
      "include_colab_link": true
    },
    "kernelspec": {
      "name": "python3",
      "display_name": "Python 3"
    },
    "language_info": {
      "name": "python"
    }
  },
  "cells": [
    {
      "cell_type": "markdown",
      "metadata": {
        "id": "view-in-github",
        "colab_type": "text"
      },
      "source": [
        "<a href=\"https://colab.research.google.com/github/AdrianaCaetano/Data_Analysis_with_Python/blob/main/Tutorials/1_NumPy.ipynb\" target=\"_parent\"><img src=\"https://colab.research.google.com/assets/colab-badge.svg\" alt=\"Open In Colab\"/></a>"
      ]
    },
    {
      "cell_type": "markdown",
      "source": [
        "# Data Analysis with Python \n",
        "### from freeCodeCamp Certification\n",
        "\n",
        "\n"
      ],
      "metadata": {
        "id": "ejgj3QJrwU2I"
      }
    },
    {
      "cell_type": "markdown",
      "source": [
        "# Numpy Module"
      ],
      "metadata": {
        "id": "Au7hRe5IT0vm"
      }
    },
    {
      "cell_type": "code",
      "source": [
        "import numpy as np"
      ],
      "metadata": {
        "id": "N96iSlmpTLfW"
      },
      "execution_count": 2,
      "outputs": []
    },
    {
      "cell_type": "code",
      "source": [
        "a = np.array([1, 2, 3, 4])\n",
        "b = np.array([0, .5, 1, 1.5, 2])"
      ],
      "metadata": {
        "id": "1qPu_2kvTVyL"
      },
      "execution_count": 3,
      "outputs": []
    },
    {
      "cell_type": "code",
      "source": [
        "# Access individual elements 0  of array a and 1 of array b\n",
        "\n",
        "a[0],b[1]"
      ],
      "metadata": {
        "colab": {
          "base_uri": "https://localhost:8080/"
        },
        "id": "45O7yF3aYbla",
        "outputId": "4d69b9d9-ee94-4591-b9e8-df7b6e8f361d"
      },
      "execution_count": 4,
      "outputs": [
        {
          "output_type": "execute_result",
          "data": {
            "text/plain": [
              "(1, 0.5)"
            ]
          },
          "metadata": {},
          "execution_count": 4
        }
      ]
    },
    {
      "cell_type": "markdown",
      "source": [
        "## Slicing Arrays"
      ],
      "metadata": {
        "id": "-oJdycx7Y9jk"
      }
    },
    {
      "cell_type": "code",
      "source": [
        "# array[start, end]\n",
        "# array a from element 0 to the end\n",
        "\n",
        "a[0:]"
      ],
      "metadata": {
        "colab": {
          "base_uri": "https://localhost:8080/"
        },
        "id": "LA7beHC7TurZ",
        "outputId": "4b3869d6-cedb-4867-a35f-cf0ce0d931fc"
      },
      "execution_count": null,
      "outputs": [
        {
          "output_type": "execute_result",
          "data": {
            "text/plain": [
              "array([1, 2, 3, 4])"
            ]
          },
          "metadata": {},
          "execution_count": 6
        }
      ]
    },
    {
      "cell_type": "code",
      "source": [
        "# array a from element 1 to 3 (3 is not included)\n",
        "\n",
        "a[1:3]"
      ],
      "metadata": {
        "colab": {
          "base_uri": "https://localhost:8080/"
        },
        "id": "bZQhvePUT9PD",
        "outputId": "906d8e15-3ce8-454f-cef2-5755b65dc24b"
      },
      "execution_count": null,
      "outputs": [
        {
          "output_type": "execute_result",
          "data": {
            "text/plain": [
              "array([2, 3])"
            ]
          },
          "metadata": {},
          "execution_count": 7
        }
      ]
    },
    {
      "cell_type": "code",
      "source": [
        "# array a from element 1 to one before last element (-1)\n",
        "\n",
        "a[1:-1]"
      ],
      "metadata": {
        "colab": {
          "base_uri": "https://localhost:8080/"
        },
        "id": "tv_oFj6wXFDz",
        "outputId": "1bfa3f5f-64f7-43ba-c3b7-73d2ea72fbed"
      },
      "execution_count": null,
      "outputs": [
        {
          "output_type": "execute_result",
          "data": {
            "text/plain": [
              "array([2, 3])"
            ]
          },
          "metadata": {},
          "execution_count": 9
        }
      ]
    },
    {
      "cell_type": "code",
      "source": [
        "# different than Python lists, you can access multiple elements\n",
        "\n",
        "b[0], b[2], b[-1]"
      ],
      "metadata": {
        "colab": {
          "base_uri": "https://localhost:8080/"
        },
        "id": "mAs7Izz7ZeET",
        "outputId": "2ddef05d-838b-448d-f380-3331c2c92a25"
      },
      "execution_count": null,
      "outputs": [
        {
          "output_type": "execute_result",
          "data": {
            "text/plain": [
              "(0.0, 1.0, 2.0)"
            ]
          },
          "metadata": {},
          "execution_count": 12
        }
      ]
    },
    {
      "cell_type": "code",
      "source": [
        "# or you may pass a list to access the elements, which will return a numpy array\n",
        "\n",
        "b[[0, 2, -1]]"
      ],
      "metadata": {
        "colab": {
          "base_uri": "https://localhost:8080/"
        },
        "id": "gXqjkLf_ZqTi",
        "outputId": "7ca406b2-6cdc-4624-d623-d6199328fda1"
      },
      "execution_count": null,
      "outputs": [
        {
          "output_type": "execute_result",
          "data": {
            "text/plain": [
              "array([0., 1., 2.])"
            ]
          },
          "metadata": {},
          "execution_count": 13
        }
      ]
    },
    {
      "cell_type": "markdown",
      "source": [
        "## Multi-dimensional arrays = Matrices"
      ],
      "metadata": {
        "id": "usRjjNXDrBUE"
      }
    },
    {
      "cell_type": "code",
      "source": [
        "# Create a matrix from a list\n",
        "li = [1,2,3,4,5,6]\n",
        "a = np.matrix(li)\n",
        "a"
      ],
      "metadata": {
        "colab": {
          "base_uri": "https://localhost:8080/"
        },
        "id": "lo8p696s0UbT",
        "outputId": "577d5043-6614-4180-93b2-d1fa9e107802"
      },
      "execution_count": 5,
      "outputs": [
        {
          "output_type": "execute_result",
          "data": {
            "text/plain": [
              "matrix([[1, 2, 3, 4, 5, 6]])"
            ]
          },
          "metadata": {},
          "execution_count": 5
        }
      ]
    },
    {
      "cell_type": "code",
      "source": [
        "# Change the shape\n",
        "a.reshape(2,3)"
      ],
      "metadata": {
        "colab": {
          "base_uri": "https://localhost:8080/"
        },
        "id": "Iege6ZIf0rKn",
        "outputId": "bb85c7c2-b1ec-4e92-cf3c-ca8de493529e"
      },
      "execution_count": 6,
      "outputs": [
        {
          "output_type": "execute_result",
          "data": {
            "text/plain": [
              "matrix([[1, 2, 3],\n",
              "        [4, 5, 6]])"
            ]
          },
          "metadata": {},
          "execution_count": 6
        }
      ]
    },
    {
      "cell_type": "code",
      "source": [
        "a.reshape(3,2)"
      ],
      "metadata": {
        "colab": {
          "base_uri": "https://localhost:8080/"
        },
        "id": "YJb4nMoX00PF",
        "outputId": "15e57937-6c74-4f3d-a6b7-9f65f41509ce"
      },
      "execution_count": 7,
      "outputs": [
        {
          "output_type": "execute_result",
          "data": {
            "text/plain": [
              "matrix([[1, 2],\n",
              "        [3, 4],\n",
              "        [5, 6]])"
            ]
          },
          "metadata": {},
          "execution_count": 7
        }
      ]
    },
    {
      "cell_type": "code",
      "execution_count": null,
      "metadata": {
        "id": "qrZyJU3bSWZJ"
      },
      "outputs": [],
      "source": [
        "A = np.array([\n",
        "    ['a', 'b', 'c'],\n",
        "    ['d', 'e', 'f'],\n",
        "    ['g', 'h', 'i']\n",
        "])"
      ]
    },
    {
      "cell_type": "code",
      "source": [
        "# Shape of the matrix\n",
        "A.shape"
      ],
      "metadata": {
        "colab": {
          "base_uri": "https://localhost:8080/"
        },
        "id": "c0lQgwknrHDE",
        "outputId": "105feb60-059a-4a9b-ca32-a18493e80e70"
      },
      "execution_count": null,
      "outputs": [
        {
          "output_type": "execute_result",
          "data": {
            "text/plain": [
              "(3, 3)"
            ]
          },
          "metadata": {},
          "execution_count": 4
        }
      ]
    },
    {
      "cell_type": "code",
      "source": [
        "# How many dimensions \n",
        "A.ndim"
      ],
      "metadata": {
        "colab": {
          "base_uri": "https://localhost:8080/"
        },
        "id": "Jfw9xz6NrMyZ",
        "outputId": "07396a8d-7ff6-4833-a9cc-2d7d0a59cf9a"
      },
      "execution_count": null,
      "outputs": [
        {
          "output_type": "execute_result",
          "data": {
            "text/plain": [
              "2"
            ]
          },
          "metadata": {},
          "execution_count": 5
        }
      ]
    },
    {
      "cell_type": "code",
      "source": [
        "# How many elements\n",
        "A.size"
      ],
      "metadata": {
        "colab": {
          "base_uri": "https://localhost:8080/"
        },
        "id": "HizDpVG1rm-U",
        "outputId": "ca673526-f66e-41d7-c277-1079808ea7da"
      },
      "execution_count": null,
      "outputs": [
        {
          "output_type": "execute_result",
          "data": {
            "text/plain": [
              "9"
            ]
          },
          "metadata": {},
          "execution_count": 6
        }
      ]
    },
    {
      "cell_type": "code",
      "source": [
        "B = np.array([\n",
        "[\n",
        "    [10,11,12],\n",
        "    [13,14,15],\n",
        "],\n",
        "[\n",
        "    [1,2,3],\n",
        "    [4,5,6],\n",
        "]\n",
        "])"
      ],
      "metadata": {
        "id": "ppgxrxOkrxiM"
      },
      "execution_count": null,
      "outputs": []
    },
    {
      "cell_type": "code",
      "source": [
        "B"
      ],
      "metadata": {
        "colab": {
          "base_uri": "https://localhost:8080/"
        },
        "id": "Q7wypwI3sJZ7",
        "outputId": "36061d83-e0de-40bb-8a1e-e8f8eb83ccaf"
      },
      "execution_count": null,
      "outputs": [
        {
          "output_type": "execute_result",
          "data": {
            "text/plain": [
              "array([[[10, 11, 12],\n",
              "        [13, 14, 15]],\n",
              "\n",
              "       [[ 1,  2,  3],\n",
              "        [ 4,  5,  6]]])"
            ]
          },
          "metadata": {},
          "execution_count": 8
        }
      ]
    },
    {
      "cell_type": "code",
      "source": [
        "# Shape returns the size of each dimension\n",
        "B.shape"
      ],
      "metadata": {
        "colab": {
          "base_uri": "https://localhost:8080/"
        },
        "id": "Jt0ch3EcsLbl",
        "outputId": "6c197a78-7a80-4122-9744-39116594cd8a"
      },
      "execution_count": null,
      "outputs": [
        {
          "output_type": "execute_result",
          "data": {
            "text/plain": [
              "(2, 2, 3)"
            ]
          },
          "metadata": {},
          "execution_count": 9
        }
      ]
    },
    {
      "cell_type": "code",
      "source": [
        "# how many dimensions\n",
        "B.ndim"
      ],
      "metadata": {
        "colab": {
          "base_uri": "https://localhost:8080/"
        },
        "id": "BWF87U2BsTzo",
        "outputId": "9ed2d5c8-07b3-41d6-b6b4-46c2465e1a1f"
      },
      "execution_count": null,
      "outputs": [
        {
          "output_type": "execute_result",
          "data": {
            "text/plain": [
              "3"
            ]
          },
          "metadata": {},
          "execution_count": 12
        }
      ]
    },
    {
      "cell_type": "code",
      "source": [
        "# total size of elements\n",
        "B.size"
      ],
      "metadata": {
        "colab": {
          "base_uri": "https://localhost:8080/"
        },
        "id": "kxBVVdFEsOty",
        "outputId": "e699fc26-df83-4ae3-ccbf-f430aa85bbcd"
      },
      "execution_count": null,
      "outputs": [
        {
          "output_type": "execute_result",
          "data": {
            "text/plain": [
              "12"
            ]
          },
          "metadata": {},
          "execution_count": 11
        }
      ]
    },
    {
      "cell_type": "markdown",
      "source": [
        "## Slicing Matrices"
      ],
      "metadata": {
        "id": "mm094vl9spl-"
      }
    },
    {
      "cell_type": "code",
      "source": [
        "C = np.array([\n",
        "  #  0  1  2  \n",
        "    [1, 2, 3], # 0\n",
        "    [4, 5, 6], # 1\n",
        "    [7, 8, 9]  # 2\n",
        "])"
      ],
      "metadata": {
        "id": "VR9-vWy8tGhC"
      },
      "execution_count": null,
      "outputs": []
    },
    {
      "cell_type": "code",
      "source": [
        "# silicing retrieves the row\n",
        "\n",
        "C[1]"
      ],
      "metadata": {
        "colab": {
          "base_uri": "https://localhost:8080/"
        },
        "id": "MUuV2TDCswKz",
        "outputId": "12ea9f0c-211f-444e-9619-7b2ce4d31e42"
      },
      "execution_count": null,
      "outputs": [
        {
          "output_type": "execute_result",
          "data": {
            "text/plain": [
              "array([4, 5, 6])"
            ]
          },
          "metadata": {},
          "execution_count": 15
        }
      ]
    },
    {
      "cell_type": "code",
      "source": [
        "# to retrieve element at index 0 of the row 1 matrix_name[row_index][col_index]\n",
        "\n",
        "C[1][0]"
      ],
      "metadata": {
        "colab": {
          "base_uri": "https://localhost:8080/"
        },
        "id": "E7ZqieiHtfP-",
        "outputId": "00d875f9-614e-4782-8f48-daaf00cbddac"
      },
      "execution_count": null,
      "outputs": [
        {
          "output_type": "execute_result",
          "data": {
            "text/plain": [
              "4"
            ]
          },
          "metadata": {},
          "execution_count": 17
        }
      ]
    },
    {
      "cell_type": "code",
      "source": [
        "# or using the numpy selector [d1, d2, d3, ...]\n",
        "\n",
        "C[1,0]   # row 1, element 0"
      ],
      "metadata": {
        "colab": {
          "base_uri": "https://localhost:8080/"
        },
        "id": "OGWbgWSHtw5f",
        "outputId": "6d1af422-6884-434f-ac6b-a401a6d6be62"
      },
      "execution_count": null,
      "outputs": [
        {
          "output_type": "execute_result",
          "data": {
            "text/plain": [
              "4"
            ]
          },
          "metadata": {},
          "execution_count": 19
        }
      ]
    },
    {
      "cell_type": "code",
      "source": [
        "C[0:2]  # all elements of d1 (rows) from 0 to 2 (2 not included)"
      ],
      "metadata": {
        "colab": {
          "base_uri": "https://localhost:8080/"
        },
        "id": "rtGf8OdGt-Al",
        "outputId": "2962501a-a81c-493b-c0a4-30e9e12741eb"
      },
      "execution_count": null,
      "outputs": [
        {
          "output_type": "execute_result",
          "data": {
            "text/plain": [
              "array([[1, 2, 3],\n",
              "       [4, 5, 6]])"
            ]
          },
          "metadata": {},
          "execution_count": 20
        }
      ]
    },
    {
      "cell_type": "code",
      "source": [
        "# array [d1 start:end, d2 start:end]\n",
        "\n",
        "C[:,:2] # all elements of d1 (rows), up to element 2 (not included) of d2 (columns)"
      ],
      "metadata": {
        "colab": {
          "base_uri": "https://localhost:8080/"
        },
        "id": "k_jqvfHTuQEo",
        "outputId": "d52d52ec-0ee0-4f58-9e68-20ffd1db6479"
      },
      "execution_count": null,
      "outputs": [
        {
          "output_type": "execute_result",
          "data": {
            "text/plain": [
              "array([[1, 2],\n",
              "       [4, 5],\n",
              "       [7, 8]])"
            ]
          },
          "metadata": {},
          "execution_count": 22
        }
      ]
    },
    {
      "cell_type": "code",
      "source": [
        "C[:2,:2]"
      ],
      "metadata": {
        "colab": {
          "base_uri": "https://localhost:8080/"
        },
        "id": "ibJXo44LulzL",
        "outputId": "a6ac499b-1aa2-4505-ff23-932ead67e64a"
      },
      "execution_count": null,
      "outputs": [
        {
          "output_type": "execute_result",
          "data": {
            "text/plain": [
              "array([[1, 2],\n",
              "       [4, 5]])"
            ]
          },
          "metadata": {},
          "execution_count": 23
        }
      ]
    },
    {
      "cell_type": "code",
      "source": [
        "# From row 2 to the end, from col 2 to the end\n",
        "C[2:, 2:]"
      ],
      "metadata": {
        "colab": {
          "base_uri": "https://localhost:8080/"
        },
        "id": "hyd8d6jhuoOe",
        "outputId": "3123df96-c9dc-4505-e3a7-7115a88c9096"
      },
      "execution_count": null,
      "outputs": [
        {
          "output_type": "execute_result",
          "data": {
            "text/plain": [
              "array([[9]])"
            ]
          },
          "metadata": {},
          "execution_count": 24
        }
      ]
    },
    {
      "cell_type": "code",
      "source": [
        "# From all rows up to row 2 (not included), from col 2 to the end\n",
        "C[:2, 2:]"
      ],
      "metadata": {
        "colab": {
          "base_uri": "https://localhost:8080/"
        },
        "id": "-LHbMf8burfP",
        "outputId": "1836da67-93c9-4a97-e53f-7f19354b11b8"
      },
      "execution_count": null,
      "outputs": [
        {
          "output_type": "execute_result",
          "data": {
            "text/plain": [
              "array([[3],\n",
              "       [6]])"
            ]
          },
          "metadata": {},
          "execution_count": 25
        }
      ]
    },
    {
      "cell_type": "code",
      "source": [
        "# From row 2 to the end, from all columns up to col 2 (not included)\n",
        "C[2:, :2]"
      ],
      "metadata": {
        "colab": {
          "base_uri": "https://localhost:8080/"
        },
        "id": "hscnU-IxuvD3",
        "outputId": "2cc9e13f-af46-4ade-fd22-5edd8b14fc90"
      },
      "execution_count": null,
      "outputs": [
        {
          "output_type": "execute_result",
          "data": {
            "text/plain": [
              "array([[7, 8]])"
            ]
          },
          "metadata": {},
          "execution_count": 26
        }
      ]
    },
    {
      "cell_type": "code",
      "source": [
        "# Update all elements of a row at once\n",
        "\n",
        "C[1] = np.array([10,10,10])\n",
        "C"
      ],
      "metadata": {
        "colab": {
          "base_uri": "https://localhost:8080/"
        },
        "id": "WAHL_ciUvOeg",
        "outputId": "eb5f129e-531b-40d1-a9d3-163035aa92cd"
      },
      "execution_count": null,
      "outputs": [
        {
          "output_type": "execute_result",
          "data": {
            "text/plain": [
              "array([[ 1,  2,  3],\n",
              "       [10, 10, 10],\n",
              "       [ 7,  8,  9]])"
            ]
          },
          "metadata": {},
          "execution_count": 28
        }
      ]
    },
    {
      "cell_type": "code",
      "source": [
        "# Update all elements of a row at once\n",
        "\n",
        "C[2] = 99\n",
        "C"
      ],
      "metadata": {
        "colab": {
          "base_uri": "https://localhost:8080/"
        },
        "id": "lcVs5EA0vUPV",
        "outputId": "be62c21c-0297-4479-caad-6345d71ea9e3"
      },
      "execution_count": null,
      "outputs": [
        {
          "output_type": "execute_result",
          "data": {
            "text/plain": [
              "array([[ 1,  2,  3],\n",
              "       [10, 10, 10],\n",
              "       [99, 99, 99]])"
            ]
          },
          "metadata": {},
          "execution_count": 29
        }
      ]
    },
    {
      "cell_type": "markdown",
      "source": [
        "## Mathematics"
      ],
      "metadata": {
        "id": "KRzsNW1m1_Nq"
      }
    },
    {
      "cell_type": "code",
      "source": [
        "a = np.array([1,2,3,4])\n",
        "a"
      ],
      "metadata": {
        "colab": {
          "base_uri": "https://localhost:8080/"
        },
        "id": "S1jEkCXl2CWW",
        "outputId": "9ad00976-4023-42b2-8963-fe5aad5949ce"
      },
      "execution_count": 11,
      "outputs": [
        {
          "output_type": "execute_result",
          "data": {
            "text/plain": [
              "array([1, 2, 3, 4])"
            ]
          },
          "metadata": {},
          "execution_count": 11
        }
      ]
    },
    {
      "cell_type": "code",
      "source": [
        "# Add to all elements\n",
        "a + 1"
      ],
      "metadata": {
        "colab": {
          "base_uri": "https://localhost:8080/"
        },
        "id": "aeLQiERR2Go6",
        "outputId": "4cdebdfe-8b51-406e-a680-ce49540894fa"
      },
      "execution_count": 12,
      "outputs": [
        {
          "output_type": "execute_result",
          "data": {
            "text/plain": [
              "array([2, 3, 4, 5])"
            ]
          },
          "metadata": {},
          "execution_count": 12
        }
      ]
    },
    {
      "cell_type": "code",
      "source": [
        "# Subtract to all elements\n",
        "a - 1"
      ],
      "metadata": {
        "colab": {
          "base_uri": "https://localhost:8080/"
        },
        "id": "1DU1ZlFj2K3-",
        "outputId": "29dd6e19-4639-43d3-b3cc-51c7cfd9994c"
      },
      "execution_count": 13,
      "outputs": [
        {
          "output_type": "execute_result",
          "data": {
            "text/plain": [
              "array([0, 1, 2, 3])"
            ]
          },
          "metadata": {},
          "execution_count": 13
        }
      ]
    },
    {
      "cell_type": "code",
      "source": [
        "# Multiply to all elements\n",
        "a * 2"
      ],
      "metadata": {
        "colab": {
          "base_uri": "https://localhost:8080/"
        },
        "id": "g8elUJzv2QPi",
        "outputId": "3b48fb5b-21cd-43ce-959e-1861fa69d645"
      },
      "execution_count": 14,
      "outputs": [
        {
          "output_type": "execute_result",
          "data": {
            "text/plain": [
              "array([2, 4, 6, 8])"
            ]
          },
          "metadata": {},
          "execution_count": 14
        }
      ]
    },
    {
      "cell_type": "code",
      "source": [
        "# To the power \n",
        "a ** 2"
      ],
      "metadata": {
        "colab": {
          "base_uri": "https://localhost:8080/"
        },
        "id": "eVa32in22U1A",
        "outputId": "6f8e56c3-3e96-460d-a040-a2c7dc420549"
      },
      "execution_count": 15,
      "outputs": [
        {
          "output_type": "execute_result",
          "data": {
            "text/plain": [
              "array([ 1,  4,  9, 16])"
            ]
          },
          "metadata": {},
          "execution_count": 15
        }
      ]
    },
    {
      "cell_type": "code",
      "source": [
        "# Sum elements of two arrays element wise\n",
        "b = np.array([1,0,1,0])\n",
        "\n",
        "a + b"
      ],
      "metadata": {
        "colab": {
          "base_uri": "https://localhost:8080/"
        },
        "id": "ds0-StMX2p1J",
        "outputId": "0d17556f-6f3f-4dfa-ed29-56248be7f29b"
      },
      "execution_count": 16,
      "outputs": [
        {
          "output_type": "execute_result",
          "data": {
            "text/plain": [
              "array([2, 2, 4, 4])"
            ]
          },
          "metadata": {},
          "execution_count": 16
        }
      ]
    },
    {
      "cell_type": "code",
      "source": [
        "# Take sine of each value\n",
        "\n",
        "np.sin(a)"
      ],
      "metadata": {
        "colab": {
          "base_uri": "https://localhost:8080/"
        },
        "id": "O3kTy1C227BS",
        "outputId": "2b684076-6a2c-41f5-8673-027e555dedd1"
      },
      "execution_count": 17,
      "outputs": [
        {
          "output_type": "execute_result",
          "data": {
            "text/plain": [
              "array([ 0.84147098,  0.90929743,  0.14112001, -0.7568025 ])"
            ]
          },
          "metadata": {},
          "execution_count": 17
        }
      ]
    },
    {
      "cell_type": "code",
      "source": [
        "# Take cosine of each element\n",
        "\n",
        "np.cos(a)"
      ],
      "metadata": {
        "id": "2L-GdClj3GdC"
      },
      "execution_count": null,
      "outputs": []
    },
    {
      "cell_type": "markdown",
      "source": [
        "## Summary Statistics"
      ],
      "metadata": {
        "id": "I_u1zvrivcCe"
      }
    },
    {
      "cell_type": "code",
      "source": [
        "D = np.array([\n",
        "    [1, 2, 3], \n",
        "    [4, 5, 6], \n",
        "    [7, 8, 9]  \n",
        "])\n",
        "D"
      ],
      "metadata": {
        "colab": {
          "base_uri": "https://localhost:8080/"
        },
        "id": "6HIcGcgfvdwR",
        "outputId": "e375548b-390d-43ae-b1ff-bd955445a957"
      },
      "execution_count": 8,
      "outputs": [
        {
          "output_type": "execute_result",
          "data": {
            "text/plain": [
              "array([[1, 2, 3],\n",
              "       [4, 5, 6],\n",
              "       [7, 8, 9]])"
            ]
          },
          "metadata": {},
          "execution_count": 8
        }
      ]
    },
    {
      "cell_type": "code",
      "source": [
        "# sum of all elements\n",
        "D.sum()"
      ],
      "metadata": {
        "colab": {
          "base_uri": "https://localhost:8080/"
        },
        "id": "kw2NddSQvoft",
        "outputId": "12b11d97-ec53-4b21-d74e-28fb141c3c4a"
      },
      "execution_count": null,
      "outputs": [
        {
          "output_type": "execute_result",
          "data": {
            "text/plain": [
              "45"
            ]
          },
          "metadata": {},
          "execution_count": 32
        }
      ]
    },
    {
      "cell_type": "code",
      "source": [
        "# sum per column\n",
        "D.sum(axis=0)  "
      ],
      "metadata": {
        "colab": {
          "base_uri": "https://localhost:8080/"
        },
        "id": "R4J3xvv2v7j_",
        "outputId": "bec32627-f82e-4e1c-aef5-814eb505ef13"
      },
      "execution_count": null,
      "outputs": [
        {
          "output_type": "execute_result",
          "data": {
            "text/plain": [
              "array([12, 15, 18])"
            ]
          },
          "metadata": {},
          "execution_count": 36
        }
      ]
    },
    {
      "cell_type": "code",
      "source": [
        "# sum per rows\n",
        "D.sum(axis=1)  "
      ],
      "metadata": {
        "colab": {
          "base_uri": "https://localhost:8080/"
        },
        "id": "Y00D3ymVv_G7",
        "outputId": "609c4157-505c-4d81-c9d4-69020ae98c78"
      },
      "execution_count": null,
      "outputs": [
        {
          "output_type": "execute_result",
          "data": {
            "text/plain": [
              "array([ 6, 15, 24])"
            ]
          },
          "metadata": {},
          "execution_count": 37
        }
      ]
    },
    {
      "cell_type": "code",
      "source": [
        "np.min(D)"
      ],
      "metadata": {
        "colab": {
          "base_uri": "https://localhost:8080/"
        },
        "id": "-ejpgojJ5G_N",
        "outputId": "0c227ec3-9beb-49bb-8bcf-1e372771f4ad"
      },
      "execution_count": 27,
      "outputs": [
        {
          "output_type": "execute_result",
          "data": {
            "text/plain": [
              "1"
            ]
          },
          "metadata": {},
          "execution_count": 27
        }
      ]
    },
    {
      "cell_type": "code",
      "source": [
        "# min per row\n",
        "np.min(D, axis=1)"
      ],
      "metadata": {
        "colab": {
          "base_uri": "https://localhost:8080/"
        },
        "id": "khLJXQ8m5OY3",
        "outputId": "d8ce03a7-6a71-4354-94e4-d70b4b7f15c1"
      },
      "execution_count": 29,
      "outputs": [
        {
          "output_type": "execute_result",
          "data": {
            "text/plain": [
              "array([1, 4, 7])"
            ]
          },
          "metadata": {},
          "execution_count": 29
        }
      ]
    },
    {
      "cell_type": "code",
      "source": [
        "np.max(D)"
      ],
      "metadata": {
        "colab": {
          "base_uri": "https://localhost:8080/"
        },
        "id": "S-xzxJ3s5Jge",
        "outputId": "0322d76e-5cc4-40a2-c04f-943e393ddb42"
      },
      "execution_count": 28,
      "outputs": [
        {
          "output_type": "execute_result",
          "data": {
            "text/plain": [
              "9"
            ]
          },
          "metadata": {},
          "execution_count": 28
        }
      ]
    },
    {
      "cell_type": "code",
      "source": [
        "# max per column\n",
        "np.max(D, axis=0)"
      ],
      "metadata": {
        "colab": {
          "base_uri": "https://localhost:8080/"
        },
        "id": "rGpUTuhA5aKV",
        "outputId": "d364dfbd-e12b-4ca9-e3ed-9509fedcba00"
      },
      "execution_count": 30,
      "outputs": [
        {
          "output_type": "execute_result",
          "data": {
            "text/plain": [
              "array([7, 8, 9])"
            ]
          },
          "metadata": {},
          "execution_count": 30
        }
      ]
    },
    {
      "cell_type": "code",
      "source": [
        "D.mean()"
      ],
      "metadata": {
        "colab": {
          "base_uri": "https://localhost:8080/"
        },
        "id": "C08T855Rvtek",
        "outputId": "c4fd144c-769a-470d-d8b1-7bd712b457eb"
      },
      "execution_count": null,
      "outputs": [
        {
          "output_type": "execute_result",
          "data": {
            "text/plain": [
              "5.0"
            ]
          },
          "metadata": {},
          "execution_count": 33
        }
      ]
    },
    {
      "cell_type": "code",
      "source": [
        "D.std()"
      ],
      "metadata": {
        "colab": {
          "base_uri": "https://localhost:8080/"
        },
        "id": "dpCEYppzvypm",
        "outputId": "ab9d4b70-ac90-4185-9d1a-807745fea612"
      },
      "execution_count": null,
      "outputs": [
        {
          "output_type": "execute_result",
          "data": {
            "text/plain": [
              "2.581988897471611"
            ]
          },
          "metadata": {},
          "execution_count": 34
        }
      ]
    },
    {
      "cell_type": "code",
      "source": [
        "D.var()"
      ],
      "metadata": {
        "colab": {
          "base_uri": "https://localhost:8080/"
        },
        "id": "hNNsuO2Yv0M9",
        "outputId": "008e2c5a-66d5-4d24-da4b-3740bc074cf5"
      },
      "execution_count": null,
      "outputs": [
        {
          "output_type": "execute_result",
          "data": {
            "text/plain": [
              "6.666666666666667"
            ]
          },
          "metadata": {},
          "execution_count": 35
        }
      ]
    },
    {
      "cell_type": "markdown",
      "source": [
        "## Broadcasting and vectorized operations"
      ],
      "metadata": {
        "id": "m_BD48J6wgHO"
      }
    },
    {
      "cell_type": "code",
      "source": [
        "a = np.arange(10)\n",
        "a"
      ],
      "metadata": {
        "colab": {
          "base_uri": "https://localhost:8080/"
        },
        "id": "nm31Nz7IwRDf",
        "outputId": "4ef508a6-c3df-4eb8-9f45-735caf28d5e7"
      },
      "execution_count": null,
      "outputs": [
        {
          "output_type": "execute_result",
          "data": {
            "text/plain": [
              "array([0, 1, 2, 3, 4, 5, 6, 7, 8, 9])"
            ]
          },
          "metadata": {},
          "execution_count": 40
        }
      ]
    },
    {
      "cell_type": "code",
      "source": [
        "a + 10"
      ],
      "metadata": {
        "colab": {
          "base_uri": "https://localhost:8080/"
        },
        "id": "V_846C4iwvp-",
        "outputId": "6bb3c01d-5481-4068-b1fd-6eaa7e4250fe"
      },
      "execution_count": null,
      "outputs": [
        {
          "output_type": "execute_result",
          "data": {
            "text/plain": [
              "array([10, 11, 12, 13, 14, 15, 16, 17, 18, 19])"
            ]
          },
          "metadata": {},
          "execution_count": 41
        }
      ]
    },
    {
      "cell_type": "code",
      "source": [
        "# Array multiplied by 10\n",
        "# optimized in Numpy\n",
        "a * 10"
      ],
      "metadata": {
        "colab": {
          "base_uri": "https://localhost:8080/"
        },
        "id": "Zrw8IR-HwyQr",
        "outputId": "c44ecb9c-207a-42b9-f46e-04a64c7cefa8"
      },
      "execution_count": null,
      "outputs": [
        {
          "output_type": "execute_result",
          "data": {
            "text/plain": [
              "array([ 0, 10, 20, 30, 40, 50, 60, 70, 80, 90])"
            ]
          },
          "metadata": {},
          "execution_count": 42
        }
      ]
    },
    {
      "cell_type": "code",
      "source": [
        "# original array never changed\n",
        "a"
      ],
      "metadata": {
        "colab": {
          "base_uri": "https://localhost:8080/"
        },
        "id": "JBHFoKXIw17e",
        "outputId": "83cd4bf0-7d28-4afe-deff-881c43e445ec"
      },
      "execution_count": null,
      "outputs": [
        {
          "output_type": "execute_result",
          "data": {
            "text/plain": [
              "array([0, 1, 2, 3, 4, 5, 6, 7, 8, 9])"
            ]
          },
          "metadata": {},
          "execution_count": 43
        }
      ]
    },
    {
      "cell_type": "code",
      "source": [
        "# Using = modifies the original array \n",
        "a += 100"
      ],
      "metadata": {
        "id": "j8bVH6I9w344"
      },
      "execution_count": null,
      "outputs": []
    },
    {
      "cell_type": "code",
      "source": [
        "a"
      ],
      "metadata": {
        "colab": {
          "base_uri": "https://localhost:8080/"
        },
        "id": "JdGwj_69w6y6",
        "outputId": "6553f6d5-f1e9-431d-83c4-b52ac613bc56"
      },
      "execution_count": null,
      "outputs": [
        {
          "output_type": "execute_result",
          "data": {
            "text/plain": [
              "array([100, 101, 102, 103, 104, 105, 106, 107, 108, 109])"
            ]
          },
          "metadata": {},
          "execution_count": 45
        }
      ]
    },
    {
      "cell_type": "code",
      "source": [
        "# Python list can do the same thing, but it's not optimized as in Numpy\n",
        "\n",
        "ls = [1,2,3,4]\n",
        "ls"
      ],
      "metadata": {
        "colab": {
          "base_uri": "https://localhost:8080/"
        },
        "id": "RWQwNXE-w-7H",
        "outputId": "fc1689c2-c418-4b61-83c7-43060f03934d"
      },
      "execution_count": null,
      "outputs": [
        {
          "output_type": "execute_result",
          "data": {
            "text/plain": [
              "[1, 2, 3, 4]"
            ]
          },
          "metadata": {},
          "execution_count": 46
        }
      ]
    },
    {
      "cell_type": "code",
      "source": [
        "# Python list multiplied by 10\n",
        "\n",
        "[i*10 for i in ls]"
      ],
      "metadata": {
        "colab": {
          "base_uri": "https://localhost:8080/"
        },
        "id": "ncPXGC0bxFF_",
        "outputId": "397fc029-65ed-48fb-9637-372b687c1863"
      },
      "execution_count": null,
      "outputs": [
        {
          "output_type": "execute_result",
          "data": {
            "text/plain": [
              "[10, 20, 30, 40]"
            ]
          },
          "metadata": {},
          "execution_count": 47
        }
      ]
    },
    {
      "cell_type": "markdown",
      "source": [
        "## Arrays and arrays operations\n",
        "\n",
        "\n",
        "Both arrays must have the same shape"
      ],
      "metadata": {
        "id": "WuY-W1JFyiYh"
      }
    },
    {
      "cell_type": "code",
      "source": [
        "a = np.arange(4)\n",
        "b = np.array([10,10,10,10])\n",
        "print(a)\n",
        "print(b)"
      ],
      "metadata": {
        "id": "kn63bQ0WxNbs",
        "colab": {
          "base_uri": "https://localhost:8080/"
        },
        "outputId": "a0ab6d53-d4d4-4571-f360-f359c4d9967b"
      },
      "execution_count": 76,
      "outputs": [
        {
          "output_type": "stream",
          "name": "stdout",
          "text": [
            "[0 1 2 3]\n",
            "[10 10 10 10]\n"
          ]
        }
      ]
    },
    {
      "cell_type": "code",
      "source": [
        "a + b"
      ],
      "metadata": {
        "colab": {
          "base_uri": "https://localhost:8080/"
        },
        "id": "Q9WqlLB7xS3t",
        "outputId": "e21e0217-b8aa-4f99-f9ff-42cb314ed4cf"
      },
      "execution_count": null,
      "outputs": [
        {
          "output_type": "execute_result",
          "data": {
            "text/plain": [
              "array([10, 11, 12, 13])"
            ]
          },
          "metadata": {},
          "execution_count": 53
        }
      ]
    },
    {
      "cell_type": "code",
      "source": [
        "a * b"
      ],
      "metadata": {
        "colab": {
          "base_uri": "https://localhost:8080/"
        },
        "id": "BmfCoOMfxfHG",
        "outputId": "4814e2a9-a5a0-4e9c-97e3-346a576982d7"
      },
      "execution_count": null,
      "outputs": [
        {
          "output_type": "execute_result",
          "data": {
            "text/plain": [
              "array([ 0, 10, 20, 30])"
            ]
          },
          "metadata": {},
          "execution_count": 54
        }
      ]
    },
    {
      "cell_type": "code",
      "source": [
        "b - a"
      ],
      "metadata": {
        "colab": {
          "base_uri": "https://localhost:8080/"
        },
        "id": "7G5I1dvLGsCW",
        "outputId": "c9feb95f-2783-4b8b-9790-8c91d1487e05"
      },
      "execution_count": 77,
      "outputs": [
        {
          "output_type": "execute_result",
          "data": {
            "text/plain": [
              "array([10,  9,  8,  7])"
            ]
          },
          "metadata": {},
          "execution_count": 77
        }
      ]
    },
    {
      "cell_type": "code",
      "source": [
        "b ** a"
      ],
      "metadata": {
        "colab": {
          "base_uri": "https://localhost:8080/"
        },
        "id": "xsI5fifeGwT0",
        "outputId": "b5cb0a50-3cbf-402c-fb9d-39ceddce5c9b"
      },
      "execution_count": 78,
      "outputs": [
        {
          "output_type": "execute_result",
          "data": {
            "text/plain": [
              "array([   1,   10,  100, 1000])"
            ]
          },
          "metadata": {},
          "execution_count": 78
        }
      ]
    },
    {
      "cell_type": "markdown",
      "source": [
        "## Boolean Arrays and Boolean Masking"
      ],
      "metadata": {
        "id": "wrWnKPIhxiKz"
      }
    },
    {
      "cell_type": "code",
      "source": [
        "a = np.arange(4)\n",
        "a"
      ],
      "metadata": {
        "colab": {
          "base_uri": "https://localhost:8080/"
        },
        "id": "hFjcWsmcxjaG",
        "outputId": "67e376fc-75b0-444f-90c7-c2387ede8f52"
      },
      "execution_count": null,
      "outputs": [
        {
          "output_type": "execute_result",
          "data": {
            "text/plain": [
              "array([0, 1, 2, 3])"
            ]
          },
          "metadata": {},
          "execution_count": 55
        }
      ]
    },
    {
      "cell_type": "code",
      "source": [
        "# select eleement using Python syntax\n",
        "a[0], a[-1]"
      ],
      "metadata": {
        "colab": {
          "base_uri": "https://localhost:8080/"
        },
        "id": "-bn8XExy0u2u",
        "outputId": "979bd413-3ba5-46ff-b56b-dd3eee49843a"
      },
      "execution_count": null,
      "outputs": [
        {
          "output_type": "execute_result",
          "data": {
            "text/plain": [
              "(0, 3)"
            ]
          },
          "metadata": {},
          "execution_count": 72
        }
      ]
    },
    {
      "cell_type": "code",
      "source": [
        "# select elements using numpy\n",
        "a[[0,-1]]"
      ],
      "metadata": {
        "colab": {
          "base_uri": "https://localhost:8080/"
        },
        "id": "f68d3XZAy5yX",
        "outputId": "89b41fec-98ff-45c6-fbaf-6893466352a5"
      },
      "execution_count": null,
      "outputs": [
        {
          "output_type": "execute_result",
          "data": {
            "text/plain": [
              "array([0, 3])"
            ]
          },
          "metadata": {},
          "execution_count": 57
        }
      ]
    },
    {
      "cell_type": "code",
      "source": [
        "# select elements using True or False\n",
        "a[[True, False, False, True]]"
      ],
      "metadata": {
        "colab": {
          "base_uri": "https://localhost:8080/"
        },
        "id": "aiTht0zjzBbM",
        "outputId": "c2e043c8-c0ae-4e9c-e5f3-c0b993ef4e8f"
      },
      "execution_count": null,
      "outputs": [
        {
          "output_type": "execute_result",
          "data": {
            "text/plain": [
              "array([0, 3])"
            ]
          },
          "metadata": {},
          "execution_count": 73
        }
      ]
    },
    {
      "cell_type": "code",
      "source": [
        "a[[True, False, True, False]]"
      ],
      "metadata": {
        "colab": {
          "base_uri": "https://localhost:8080/"
        },
        "id": "Rhh3MqoOzHi9",
        "outputId": "83ee9fe3-d6c4-41e6-9da5-9e42669ac6c6"
      },
      "execution_count": null,
      "outputs": [
        {
          "output_type": "execute_result",
          "data": {
            "text/plain": [
              "array([0, 2])"
            ]
          },
          "metadata": {},
          "execution_count": 59
        }
      ]
    },
    {
      "cell_type": "code",
      "source": [
        "a[[True, True, False, True]]"
      ],
      "metadata": {
        "colab": {
          "base_uri": "https://localhost:8080/"
        },
        "id": "To7nsizfzM-I",
        "outputId": "2333f6c7-1eed-4425-f550-71e707d54e7c"
      },
      "execution_count": null,
      "outputs": [
        {
          "output_type": "execute_result",
          "data": {
            "text/plain": [
              "array([0, 1, 3])"
            ]
          },
          "metadata": {},
          "execution_count": 74
        }
      ]
    },
    {
      "cell_type": "code",
      "source": [
        "a >= 2"
      ],
      "metadata": {
        "colab": {
          "base_uri": "https://localhost:8080/"
        },
        "id": "P-WWzqONzRb3",
        "outputId": "3e7ad701-0139-4ff1-e027-d0d0503c4ab3"
      },
      "execution_count": null,
      "outputs": [
        {
          "output_type": "execute_result",
          "data": {
            "text/plain": [
              "array([False, False,  True,  True])"
            ]
          },
          "metadata": {},
          "execution_count": 61
        }
      ]
    },
    {
      "cell_type": "code",
      "source": [
        "# filtering/selecting numerical arrays with a boolean condition\n",
        "a[a>=2]"
      ],
      "metadata": {
        "colab": {
          "base_uri": "https://localhost:8080/"
        },
        "id": "fvFpgbJazTq1",
        "outputId": "ab84d172-b3a4-492e-a6a7-d44cb19ac53f"
      },
      "execution_count": null,
      "outputs": [
        {
          "output_type": "execute_result",
          "data": {
            "text/plain": [
              "array([2, 3])"
            ]
          },
          "metadata": {},
          "execution_count": 62
        }
      ]
    },
    {
      "cell_type": "code",
      "source": [
        "a.mean()"
      ],
      "metadata": {
        "colab": {
          "base_uri": "https://localhost:8080/"
        },
        "id": "2J0Gm-rmzZ5H",
        "outputId": "c63385a9-2b0b-4a72-e538-27657fe3d372"
      },
      "execution_count": null,
      "outputs": [
        {
          "output_type": "execute_result",
          "data": {
            "text/plain": [
              "1.5"
            ]
          },
          "metadata": {},
          "execution_count": 63
        }
      ]
    },
    {
      "cell_type": "code",
      "source": [
        "# retrieve all elements greeater than the mean\n",
        "a[a > a.mean()]"
      ],
      "metadata": {
        "colab": {
          "base_uri": "https://localhost:8080/"
        },
        "id": "HJLDWbCGzc_s",
        "outputId": "7fa17766-9211-41eb-a49a-df7ecaf4242b"
      },
      "execution_count": null,
      "outputs": [
        {
          "output_type": "execute_result",
          "data": {
            "text/plain": [
              "array([2, 3])"
            ]
          },
          "metadata": {},
          "execution_count": 65
        }
      ]
    },
    {
      "cell_type": "code",
      "source": [
        "# retrieve all elements that are NOT greater than the mean\n",
        "a[~(a>a.mean())]"
      ],
      "metadata": {
        "colab": {
          "base_uri": "https://localhost:8080/"
        },
        "id": "3fogeQdGzgRH",
        "outputId": "55b9a6f2-eaf0-4c4f-c195-107b57ec908f"
      },
      "execution_count": null,
      "outputs": [
        {
          "output_type": "execute_result",
          "data": {
            "text/plain": [
              "array([0, 1])"
            ]
          },
          "metadata": {},
          "execution_count": 66
        }
      ]
    },
    {
      "cell_type": "code",
      "source": [
        "# OR\n",
        "a[(a==0) | (a==2)]"
      ],
      "metadata": {
        "colab": {
          "base_uri": "https://localhost:8080/"
        },
        "id": "EcmtCpFtzqzL",
        "outputId": "7db03b1f-40bc-4080-9074-be41f6cfcc97"
      },
      "execution_count": null,
      "outputs": [
        {
          "output_type": "execute_result",
          "data": {
            "text/plain": [
              "array([0, 2])"
            ]
          },
          "metadata": {},
          "execution_count": 68
        }
      ]
    },
    {
      "cell_type": "code",
      "source": [
        "# AND\n",
        "a[(a<=2) & (a % 2 == 0)]"
      ],
      "metadata": {
        "colab": {
          "base_uri": "https://localhost:8080/"
        },
        "id": "bDMHzncwz0Ed",
        "outputId": "8ef238a5-72f8-4881-b699-5f8dd6c27cfb"
      },
      "execution_count": null,
      "outputs": [
        {
          "output_type": "execute_result",
          "data": {
            "text/plain": [
              "array([0, 2])"
            ]
          },
          "metadata": {},
          "execution_count": 69
        }
      ]
    },
    {
      "cell_type": "code",
      "source": [
        "A = np.random.randint(100, size=(3,3))\n",
        "A"
      ],
      "metadata": {
        "colab": {
          "base_uri": "https://localhost:8080/"
        },
        "id": "TfLcE23Ez_aB",
        "outputId": "94e7ef5a-ee7d-4157-cef7-8f06309caf78"
      },
      "execution_count": 90,
      "outputs": [
        {
          "output_type": "execute_result",
          "data": {
            "text/plain": [
              "array([[64, 77, 30],\n",
              "       [12, 37,  1],\n",
              "       [47, 32,  9]])"
            ]
          },
          "metadata": {},
          "execution_count": 90
        }
      ]
    },
    {
      "cell_type": "code",
      "source": [
        "# Where values are greater than 30\n",
        "A > 30"
      ],
      "metadata": {
        "colab": {
          "base_uri": "https://localhost:8080/"
        },
        "id": "Wa8KOR4-0KQT",
        "outputId": "73c1f930-6319-4bdd-ad26-c92aad865de7"
      },
      "execution_count": 91,
      "outputs": [
        {
          "output_type": "execute_result",
          "data": {
            "text/plain": [
              "array([[ True,  True, False],\n",
              "       [False,  True, False],\n",
              "       [ True,  True, False]])"
            ]
          },
          "metadata": {},
          "execution_count": 91
        }
      ]
    },
    {
      "cell_type": "code",
      "source": [
        "# boolean operations can be used to filter the data\n",
        "A[A>30]"
      ],
      "metadata": {
        "colab": {
          "base_uri": "https://localhost:8080/"
        },
        "id": "K6mFJQVS1-Xa",
        "outputId": "9a563030-fc53-4b4a-a6c4-53589fdb6d7b"
      },
      "execution_count": 92,
      "outputs": [
        {
          "output_type": "execute_result",
          "data": {
            "text/plain": [
              "array([64, 77, 37, 47, 32])"
            ]
          },
          "metadata": {},
          "execution_count": 92
        }
      ]
    },
    {
      "cell_type": "code",
      "source": [
        "# Return the reverse, only values that are NOT grater than 30\n",
        "A[~(A>30)]"
      ],
      "metadata": {
        "colab": {
          "base_uri": "https://localhost:8080/"
        },
        "id": "V0YNhtUbG_YS",
        "outputId": "5a31845f-5159-4efb-d220-1b0399b66905"
      },
      "execution_count": 93,
      "outputs": [
        {
          "output_type": "execute_result",
          "data": {
            "text/plain": [
              "array([30, 12,  1,  9])"
            ]
          },
          "metadata": {},
          "execution_count": 93
        }
      ]
    },
    {
      "cell_type": "code",
      "source": [
        "np.any(A > 30)"
      ],
      "metadata": {
        "colab": {
          "base_uri": "https://localhost:8080/"
        },
        "id": "EmwfSJM6IhDf",
        "outputId": "37dac5c7-5f91-4e57-f23e-6061aaff80e7"
      },
      "execution_count": 94,
      "outputs": [
        {
          "output_type": "execute_result",
          "data": {
            "text/plain": [
              "True"
            ]
          },
          "metadata": {},
          "execution_count": 94
        }
      ]
    },
    {
      "cell_type": "code",
      "source": [
        "# Which columns has values > 30\n",
        "np.any(A>30, axis=0) "
      ],
      "metadata": {
        "colab": {
          "base_uri": "https://localhost:8080/"
        },
        "id": "ID9gZ8BSIlsU",
        "outputId": "e0bcb083-78c3-43be-d4f4-bd021bb57c2f"
      },
      "execution_count": 95,
      "outputs": [
        {
          "output_type": "execute_result",
          "data": {
            "text/plain": [
              "array([ True,  True, False])"
            ]
          },
          "metadata": {},
          "execution_count": 95
        }
      ]
    },
    {
      "cell_type": "code",
      "source": [
        "# Which columns has all values > 30\n",
        "np.all(A>30, axis=0) "
      ],
      "metadata": {
        "colab": {
          "base_uri": "https://localhost:8080/"
        },
        "id": "XWKqVetYI7uN",
        "outputId": "d38e2637-611b-4a11-afe2-9e029033ec7d"
      },
      "execution_count": 96,
      "outputs": [
        {
          "output_type": "execute_result",
          "data": {
            "text/plain": [
              "array([False,  True, False])"
            ]
          },
          "metadata": {},
          "execution_count": 96
        }
      ]
    },
    {
      "cell_type": "code",
      "source": [
        "((A > 30) & (A < 60))"
      ],
      "metadata": {
        "colab": {
          "base_uri": "https://localhost:8080/"
        },
        "id": "3EX6L6clJW0K",
        "outputId": "fe4c80e5-3fa8-469f-ae40-f9a1171d47e2"
      },
      "execution_count": 97,
      "outputs": [
        {
          "output_type": "execute_result",
          "data": {
            "text/plain": [
              "array([[False, False, False],\n",
              "       [False,  True, False],\n",
              "       [ True,  True, False]])"
            ]
          },
          "metadata": {},
          "execution_count": 97
        }
      ]
    },
    {
      "cell_type": "code",
      "source": [
        "((A > 30) | (A < 60))"
      ],
      "metadata": {
        "colab": {
          "base_uri": "https://localhost:8080/"
        },
        "id": "Y7d20H92JnuF",
        "outputId": "ab54d60c-bf61-4b12-888f-a9524a3d2d35"
      },
      "execution_count": 98,
      "outputs": [
        {
          "output_type": "execute_result",
          "data": {
            "text/plain": [
              "array([[ True,  True,  True],\n",
              "       [ True,  True,  True],\n",
              "       [ True,  True,  True]])"
            ]
          },
          "metadata": {},
          "execution_count": 98
        }
      ]
    },
    {
      "cell_type": "markdown",
      "source": [
        "## Linear Algebra\n",
        "\n",
        "Not an element wise computation like the math operations"
      ],
      "metadata": {
        "id": "cBzHVNCX18OO"
      }
    },
    {
      "cell_type": "code",
      "source": [
        "A = np.array([\n",
        "    [1,2,3],\n",
        "    [4,5,6],\n",
        "    [7,8,9]\n",
        "])\n",
        "\n",
        "B = np.array([\n",
        "    [1,2],\n",
        "    [10,20],\n",
        "    [2,4]\n",
        "])"
      ],
      "metadata": {
        "id": "Y5Oxxlhb0Mrk"
      },
      "execution_count": 22,
      "outputs": []
    },
    {
      "cell_type": "code",
      "source": [
        "# Dot product\n",
        "A.dot(B)"
      ],
      "metadata": {
        "colab": {
          "base_uri": "https://localhost:8080/"
        },
        "id": "DHh4xWZ72xNC",
        "outputId": "44157d25-606b-4032-9564-f9f5fe8cfb25"
      },
      "execution_count": null,
      "outputs": [
        {
          "output_type": "execute_result",
          "data": {
            "text/plain": [
              "array([[ 27,  54],\n",
              "       [ 66, 132],\n",
              "       [105, 210]])"
            ]
          },
          "metadata": {},
          "execution_count": 93
        }
      ]
    },
    {
      "cell_type": "code",
      "source": [
        "# Cross product\n",
        "A @ B"
      ],
      "metadata": {
        "colab": {
          "base_uri": "https://localhost:8080/"
        },
        "id": "8euJJRKJ25VV",
        "outputId": "fcc1b527-10c2-43cb-8d59-353db2be678c"
      },
      "execution_count": null,
      "outputs": [
        {
          "output_type": "execute_result",
          "data": {
            "text/plain": [
              "array([[ 27,  54],\n",
              "       [ 66, 132],\n",
              "       [105, 210]])"
            ]
          },
          "metadata": {},
          "execution_count": 94
        }
      ]
    },
    {
      "cell_type": "code",
      "source": [
        "# Transpose matrix\n",
        "B.T"
      ],
      "metadata": {
        "colab": {
          "base_uri": "https://localhost:8080/"
        },
        "id": "3ddI392F29zj",
        "outputId": "2aaab124-1891-4747-c729-53ac9878d1c2"
      },
      "execution_count": null,
      "outputs": [
        {
          "output_type": "execute_result",
          "data": {
            "text/plain": [
              "array([[ 1, 10,  2],\n",
              "       [ 2, 20,  4]])"
            ]
          },
          "metadata": {},
          "execution_count": 95
        }
      ]
    },
    {
      "cell_type": "code",
      "source": [
        "B"
      ],
      "metadata": {
        "colab": {
          "base_uri": "https://localhost:8080/"
        },
        "id": "Q5U6Wsth3Mbq",
        "outputId": "74f200e1-215b-499e-ca8f-d37673221680"
      },
      "execution_count": null,
      "outputs": [
        {
          "output_type": "execute_result",
          "data": {
            "text/plain": [
              "array([[ 1,  2],\n",
              "       [10, 20],\n",
              "       [ 2,  4]])"
            ]
          },
          "metadata": {},
          "execution_count": 96
        }
      ]
    },
    {
      "cell_type": "code",
      "source": [
        "A"
      ],
      "metadata": {
        "colab": {
          "base_uri": "https://localhost:8080/"
        },
        "id": "tVvbbDYy3GOX",
        "outputId": "425493b3-5a00-4845-8e6e-0013acabf2b2"
      },
      "execution_count": null,
      "outputs": [
        {
          "output_type": "execute_result",
          "data": {
            "text/plain": [
              "array([[1, 2, 3],\n",
              "       [4, 5, 6],\n",
              "       [7, 8, 9]])"
            ]
          },
          "metadata": {},
          "execution_count": 97
        }
      ]
    },
    {
      "cell_type": "code",
      "source": [
        "B.T @ A"
      ],
      "metadata": {
        "colab": {
          "base_uri": "https://localhost:8080/"
        },
        "id": "f5jtGvU-3I6L",
        "outputId": "c5cb75c5-6bfa-4412-c87f-789d3b9b2d05"
      },
      "execution_count": null,
      "outputs": [
        {
          "output_type": "execute_result",
          "data": {
            "text/plain": [
              "array([[ 55,  68,  81],\n",
              "       [110, 136, 162]])"
            ]
          },
          "metadata": {},
          "execution_count": 98
        }
      ]
    },
    {
      "cell_type": "markdown",
      "source": [
        "## Sizes of Objects in Memory"
      ],
      "metadata": {
        "id": "nMxL9N7E43Bb"
      }
    },
    {
      "cell_type": "code",
      "source": [
        "import sys"
      ],
      "metadata": {
        "id": "gPPlOrwo4_gc"
      },
      "execution_count": null,
      "outputs": []
    },
    {
      "cell_type": "code",
      "source": [
        "# an integer in python in bytes\n",
        "sys.getsizeof(1)"
      ],
      "metadata": {
        "colab": {
          "base_uri": "https://localhost:8080/"
        },
        "id": "z_FpDdRs47b6",
        "outputId": "49e63b33-14e8-480d-bf4b-697c17c1eeda"
      },
      "execution_count": null,
      "outputs": [
        {
          "output_type": "execute_result",
          "data": {
            "text/plain": [
              "28"
            ]
          },
          "metadata": {},
          "execution_count": 101
        }
      ]
    },
    {
      "cell_type": "code",
      "source": [
        "# long integer in Python\n",
        "sys.getsizeof(10**100)"
      ],
      "metadata": {
        "colab": {
          "base_uri": "https://localhost:8080/"
        },
        "id": "v1l9LkSW5IAL",
        "outputId": "c07b91b6-c46c-4090-df13-5cf3ef18d301"
      },
      "execution_count": null,
      "outputs": [
        {
          "output_type": "execute_result",
          "data": {
            "text/plain": [
              "72"
            ]
          },
          "metadata": {},
          "execution_count": 103
        }
      ]
    },
    {
      "cell_type": "code",
      "source": [
        "# float in Python\n",
        "sys.getsizeof(3.14)"
      ],
      "metadata": {
        "colab": {
          "base_uri": "https://localhost:8080/"
        },
        "id": "12krJORL5_GF",
        "outputId": "78c5096f-ef40-4309-80e5-c7e3c013d10c"
      },
      "execution_count": null,
      "outputs": [
        {
          "output_type": "execute_result",
          "data": {
            "text/plain": [
              "24"
            ]
          },
          "metadata": {},
          "execution_count": 108
        }
      ]
    },
    {
      "cell_type": "code",
      "source": [
        "# numpy int size (in bytes)\n",
        "np.dtype(int).itemsize"
      ],
      "metadata": {
        "colab": {
          "base_uri": "https://localhost:8080/"
        },
        "id": "yEEScIj85RpO",
        "outputId": "88ef705f-ffea-4baa-825a-643acbdb99bd"
      },
      "execution_count": null,
      "outputs": [
        {
          "output_type": "execute_result",
          "data": {
            "text/plain": [
              "8"
            ]
          },
          "metadata": {},
          "execution_count": 104
        }
      ]
    },
    {
      "cell_type": "code",
      "source": [
        "# numpy int size (in bytes)\n",
        "np.dtype(np.int8).itemsize"
      ],
      "metadata": {
        "colab": {
          "base_uri": "https://localhost:8080/"
        },
        "id": "x304Txjb6bI4",
        "outputId": "e431a6e0-0d6a-4fa6-ef4d-dffbcc13f2cd"
      },
      "execution_count": null,
      "outputs": [
        {
          "output_type": "execute_result",
          "data": {
            "text/plain": [
              "1"
            ]
          },
          "metadata": {},
          "execution_count": 109
        }
      ]
    },
    {
      "cell_type": "code",
      "source": [
        "# numpy float size\n",
        "np.dtype(float).itemsize"
      ],
      "metadata": {
        "colab": {
          "base_uri": "https://localhost:8080/"
        },
        "id": "rH6nT3oC5bds",
        "outputId": "dbf2e64b-8c72-4d89-b9a0-f7a055fa53c7"
      },
      "execution_count": null,
      "outputs": [
        {
          "output_type": "execute_result",
          "data": {
            "text/plain": [
              "8"
            ]
          },
          "metadata": {},
          "execution_count": 105
        }
      ]
    },
    {
      "cell_type": "code",
      "source": [
        "# Lists are even larger\n",
        "sys.getsizeof([1])"
      ],
      "metadata": {
        "colab": {
          "base_uri": "https://localhost:8080/"
        },
        "id": "2uUu4KWv5gxo",
        "outputId": "aa5af0a5-b32f-4e94-8b29-2851cfd34b32"
      },
      "execution_count": null,
      "outputs": [
        {
          "output_type": "execute_result",
          "data": {
            "text/plain": [
              "64"
            ]
          },
          "metadata": {},
          "execution_count": 106
        }
      ]
    },
    {
      "cell_type": "code",
      "source": [
        "# Numpy array with one element\n",
        "np.array([1]).nbytes"
      ],
      "metadata": {
        "colab": {
          "base_uri": "https://localhost:8080/"
        },
        "id": "ex88HsZg5oJH",
        "outputId": "5ad83633-1ce5-48df-8c6e-e1e283727013"
      },
      "execution_count": null,
      "outputs": [
        {
          "output_type": "execute_result",
          "data": {
            "text/plain": [
              "8"
            ]
          },
          "metadata": {},
          "execution_count": 107
        }
      ]
    },
    {
      "cell_type": "markdown",
      "source": [
        "## Performance"
      ],
      "metadata": {
        "id": "Smhnd7aB52i6"
      }
    },
    {
      "cell_type": "code",
      "source": [
        "ls = list(range(1000))\n"
      ],
      "metadata": {
        "id": "PukgUYd76m-W"
      },
      "execution_count": null,
      "outputs": []
    },
    {
      "cell_type": "code",
      "source": [
        "a = np.arange(1000)"
      ],
      "metadata": {
        "id": "e-hVgHMU6tmL"
      },
      "execution_count": null,
      "outputs": []
    },
    {
      "cell_type": "code",
      "source": [
        "%time np.sum(a**2)"
      ],
      "metadata": {
        "colab": {
          "base_uri": "https://localhost:8080/"
        },
        "id": "k0llsc1u6ylm",
        "outputId": "f95df097-c5d4-4b8a-cd0d-a1f25f00ec2a"
      },
      "execution_count": null,
      "outputs": [
        {
          "output_type": "stream",
          "name": "stdout",
          "text": [
            "CPU times: user 52 µs, sys: 5 µs, total: 57 µs\n",
            "Wall time: 60.1 µs\n"
          ]
        },
        {
          "output_type": "execute_result",
          "data": {
            "text/plain": [
              "332833500"
            ]
          },
          "metadata": {},
          "execution_count": 116
        }
      ]
    },
    {
      "cell_type": "code",
      "source": [
        "%time sum([x**2 for x in ls])"
      ],
      "metadata": {
        "colab": {
          "base_uri": "https://localhost:8080/"
        },
        "id": "zvnaBmJp64BL",
        "outputId": "a6e11e4f-3fa7-44d6-fbb9-f1c3a11e338a"
      },
      "execution_count": null,
      "outputs": [
        {
          "output_type": "stream",
          "name": "stdout",
          "text": [
            "CPU times: user 334 µs, sys: 0 ns, total: 334 µs\n",
            "Wall time: 337 µs\n"
          ]
        },
        {
          "output_type": "execute_result",
          "data": {
            "text/plain": [
              "332833500"
            ]
          },
          "metadata": {},
          "execution_count": 117
        }
      ]
    },
    {
      "cell_type": "markdown",
      "source": [
        "## Useful Numpy Functions"
      ],
      "metadata": {
        "id": "waHnzEEK_rnh"
      }
    },
    {
      "cell_type": "markdown",
      "source": [
        "### Random"
      ],
      "metadata": {
        "id": "5xnZi26D_u7A"
      }
    },
    {
      "cell_type": "code",
      "source": [
        "# Array of decimal values\n",
        "np.random.random(size=2)"
      ],
      "metadata": {
        "colab": {
          "base_uri": "https://localhost:8080/"
        },
        "id": "RekVzJlz_xZg",
        "outputId": "502f2932-61a8-41c3-9e18-503c46650de8"
      },
      "execution_count": null,
      "outputs": [
        {
          "output_type": "execute_result",
          "data": {
            "text/plain": [
              "array([0.93348173, 0.44794706])"
            ]
          },
          "metadata": {},
          "execution_count": 118
        }
      ]
    },
    {
      "cell_type": "code",
      "source": [
        "# Matrix of decimal values passing the shape\n",
        "np.random.rand(3,4)"
      ],
      "metadata": {
        "colab": {
          "base_uri": "https://localhost:8080/"
        },
        "id": "hkRNNYYoBqfk",
        "outputId": "5dc78ad5-51a9-42ce-d1c5-53736ef2a3dc"
      },
      "execution_count": 59,
      "outputs": [
        {
          "output_type": "execute_result",
          "data": {
            "text/plain": [
              "array([[0.06427865, 0.99683721, 0.52069987, 0.29629278],\n",
              "       [0.17442917, 0.50152604, 0.03691397, 0.23561718],\n",
              "       [0.1396491 , 0.62000001, 0.83232018, 0.12734134]])"
            ]
          },
          "metadata": {},
          "execution_count": 59
        }
      ]
    },
    {
      "cell_type": "code",
      "source": [
        "np.random.rand(2,2,3) "
      ],
      "metadata": {
        "colab": {
          "base_uri": "https://localhost:8080/"
        },
        "id": "STM8NENRCBsl",
        "outputId": "aa272f62-5c3f-4e28-b3d9-1b07012f17d5"
      },
      "execution_count": 61,
      "outputs": [
        {
          "output_type": "execute_result",
          "data": {
            "text/plain": [
              "array([[[0.35186299, 0.45636478, 0.35774571],\n",
              "        [0.8827067 , 0.54429627, 0.77573883]],\n",
              "\n",
              "       [[0.70835595, 0.10407047, 0.19038382],\n",
              "        [0.95802542, 0.74861711, 0.16177002]]])"
            ]
          },
          "metadata": {},
          "execution_count": 61
        }
      ]
    },
    {
      "cell_type": "code",
      "source": [
        "# passing a shape\n",
        "np.random.random_sample(a.shape)"
      ],
      "metadata": {
        "colab": {
          "base_uri": "https://localhost:8080/"
        },
        "id": "duEjavZUCU9k",
        "outputId": "7c30331a-1c3d-4c40-d7b0-378e1805ad0e"
      },
      "execution_count": 63,
      "outputs": [
        {
          "output_type": "execute_result",
          "data": {
            "text/plain": [
              "array([[0.17917342, 0.6887741 , 0.97140826],\n",
              "       [0.00193061, 0.7986972 , 0.33328231],\n",
              "       [0.62134131, 0.059507  , 0.00905937],\n",
              "       [0.74965155, 0.01828834, 0.77130305],\n",
              "       [0.55929597, 0.58416341, 0.03108357]])"
            ]
          },
          "metadata": {},
          "execution_count": 63
        }
      ]
    },
    {
      "cell_type": "code",
      "source": [
        "np.random.normal(size=2)"
      ],
      "metadata": {
        "colab": {
          "base_uri": "https://localhost:8080/"
        },
        "id": "rBq-r5-b_0eu",
        "outputId": "6a31c905-2859-40be-c1e3-28e448796e95"
      },
      "execution_count": null,
      "outputs": [
        {
          "output_type": "execute_result",
          "data": {
            "text/plain": [
              "array([ 1.12606051, -0.69273006])"
            ]
          },
          "metadata": {},
          "execution_count": 119
        }
      ]
    },
    {
      "cell_type": "code",
      "source": [
        "# Integer values (start value included, end value excluded, size)\n",
        "np.random.randint(-3,8, size=(3,3))"
      ],
      "metadata": {
        "colab": {
          "base_uri": "https://localhost:8080/"
        },
        "id": "4VvzYz6x6jEr",
        "outputId": "dfe75258-919d-46ae-9a81-aa4fb62ab4b8"
      },
      "execution_count": 35,
      "outputs": [
        {
          "output_type": "execute_result",
          "data": {
            "text/plain": [
              "array([[ 7, -3,  1],\n",
              "       [ 2, -3,  4],\n",
              "       [ 3,  3, -3]])"
            ]
          },
          "metadata": {},
          "execution_count": 35
        }
      ]
    },
    {
      "cell_type": "markdown",
      "source": [
        "### Arange"
      ],
      "metadata": {
        "id": "cihxnonn_9s4"
      }
    },
    {
      "cell_type": "code",
      "source": [
        "np.arange(10)"
      ],
      "metadata": {
        "colab": {
          "base_uri": "https://localhost:8080/"
        },
        "id": "8UNUZs_d_-5k",
        "outputId": "5d9ab8c4-2592-4d1a-f8c6-b3b8da4d35b7"
      },
      "execution_count": 18,
      "outputs": [
        {
          "output_type": "execute_result",
          "data": {
            "text/plain": [
              "array([0, 1, 2, 3, 4, 5, 6, 7, 8, 9])"
            ]
          },
          "metadata": {},
          "execution_count": 18
        }
      ]
    },
    {
      "cell_type": "code",
      "source": [
        "np.arange(5,10)"
      ],
      "metadata": {
        "colab": {
          "base_uri": "https://localhost:8080/"
        },
        "id": "xQKAD2ltAB56",
        "outputId": "aaa8ff4b-ec75-4d54-ea63-726620cce1cf"
      },
      "execution_count": null,
      "outputs": [
        {
          "output_type": "execute_result",
          "data": {
            "text/plain": [
              "array([5, 6, 7, 8, 9])"
            ]
          },
          "metadata": {},
          "execution_count": 122
        }
      ]
    },
    {
      "cell_type": "code",
      "source": [
        "np.arange(0,1,.1)"
      ],
      "metadata": {
        "colab": {
          "base_uri": "https://localhost:8080/"
        },
        "id": "3yI12grmAEE8",
        "outputId": "b0da18c2-990b-4b7d-f51f-339fb7c6d405"
      },
      "execution_count": null,
      "outputs": [
        {
          "output_type": "execute_result",
          "data": {
            "text/plain": [
              "array([0. , 0.1, 0.2, 0.3, 0.4, 0.5, 0.6, 0.7, 0.8, 0.9])"
            ]
          },
          "metadata": {},
          "execution_count": 123
        }
      ]
    },
    {
      "cell_type": "markdown",
      "source": [
        "### Reshape"
      ],
      "metadata": {
        "id": "Dp-5QIxRAJYv"
      }
    },
    {
      "cell_type": "code",
      "source": [
        "np.arange(10).reshape(2,5)"
      ],
      "metadata": {
        "colab": {
          "base_uri": "https://localhost:8080/"
        },
        "id": "9Fug7eI9AIeG",
        "outputId": "aadc8b20-c064-4f0e-8104-1362806681e2"
      },
      "execution_count": null,
      "outputs": [
        {
          "output_type": "execute_result",
          "data": {
            "text/plain": [
              "array([[0, 1, 2, 3, 4],\n",
              "       [5, 6, 7, 8, 9]])"
            ]
          },
          "metadata": {},
          "execution_count": 124
        }
      ]
    },
    {
      "cell_type": "code",
      "source": [
        "np.arange(10).reshape(5,2)"
      ],
      "metadata": {
        "colab": {
          "base_uri": "https://localhost:8080/"
        },
        "id": "zeyTD5a8APYs",
        "outputId": "efed5aaf-1d17-4843-a700-4323488d9889"
      },
      "execution_count": null,
      "outputs": [
        {
          "output_type": "execute_result",
          "data": {
            "text/plain": [
              "array([[0, 1],\n",
              "       [2, 3],\n",
              "       [4, 5],\n",
              "       [6, 7],\n",
              "       [8, 9]])"
            ]
          },
          "metadata": {},
          "execution_count": 125
        }
      ]
    },
    {
      "cell_type": "markdown",
      "source": [
        "### Linspace"
      ],
      "metadata": {
        "id": "1ZC6BkjaAUJ1"
      }
    },
    {
      "cell_type": "code",
      "source": [
        "np.linspace(0,1,5)"
      ],
      "metadata": {
        "colab": {
          "base_uri": "https://localhost:8080/"
        },
        "id": "XzOrMcj0AVxE",
        "outputId": "ca1f49f0-a4a2-4427-b082-1252f2805a56"
      },
      "execution_count": 19,
      "outputs": [
        {
          "output_type": "execute_result",
          "data": {
            "text/plain": [
              "array([0.  , 0.25, 0.5 , 0.75, 1.  ])"
            ]
          },
          "metadata": {},
          "execution_count": 19
        }
      ]
    },
    {
      "cell_type": "code",
      "source": [
        "np.linspace(0,1,20)"
      ],
      "metadata": {
        "colab": {
          "base_uri": "https://localhost:8080/"
        },
        "id": "yBCF1NgbAaY6",
        "outputId": "aa95e691-1608-4be0-a00a-d6aa88dea7ed"
      },
      "execution_count": null,
      "outputs": [
        {
          "output_type": "execute_result",
          "data": {
            "text/plain": [
              "array([0.        , 0.05263158, 0.10526316, 0.15789474, 0.21052632,\n",
              "       0.26315789, 0.31578947, 0.36842105, 0.42105263, 0.47368421,\n",
              "       0.52631579, 0.57894737, 0.63157895, 0.68421053, 0.73684211,\n",
              "       0.78947368, 0.84210526, 0.89473684, 0.94736842, 1.        ])"
            ]
          },
          "metadata": {},
          "execution_count": 127
        }
      ]
    },
    {
      "cell_type": "code",
      "source": [
        "np.linspace(0,1,20, False)"
      ],
      "metadata": {
        "colab": {
          "base_uri": "https://localhost:8080/"
        },
        "id": "LlMakrPLAh-6",
        "outputId": "bffc586c-3782-4f89-d263-d5cc7306ad78"
      },
      "execution_count": null,
      "outputs": [
        {
          "output_type": "execute_result",
          "data": {
            "text/plain": [
              "array([0.  , 0.05, 0.1 , 0.15, 0.2 , 0.25, 0.3 , 0.35, 0.4 , 0.45, 0.5 ,\n",
              "       0.55, 0.6 , 0.65, 0.7 , 0.75, 0.8 , 0.85, 0.9 , 0.95])"
            ]
          },
          "metadata": {},
          "execution_count": 128
        }
      ]
    },
    {
      "cell_type": "markdown",
      "source": [
        "### Zeros and Ones"
      ],
      "metadata": {
        "id": "bHKmmfEsApCT"
      }
    },
    {
      "cell_type": "code",
      "source": [
        "np.zeros(5)"
      ],
      "metadata": {
        "colab": {
          "base_uri": "https://localhost:8080/"
        },
        "id": "2xGCWXrIAouv",
        "outputId": "a5c11cdc-0a5c-4084-9844-d9c37a7bd5a9"
      },
      "execution_count": null,
      "outputs": [
        {
          "output_type": "execute_result",
          "data": {
            "text/plain": [
              "array([0., 0., 0., 0., 0.])"
            ]
          },
          "metadata": {},
          "execution_count": 129
        }
      ]
    },
    {
      "cell_type": "code",
      "source": [
        "np.zeros((3,3))"
      ],
      "metadata": {
        "colab": {
          "base_uri": "https://localhost:8080/"
        },
        "id": "q-8dOX7tAtvF",
        "outputId": "91b36f4c-fb79-4cad-fdbc-78d3d4901b38"
      },
      "execution_count": null,
      "outputs": [
        {
          "output_type": "execute_result",
          "data": {
            "text/plain": [
              "array([[0., 0., 0.],\n",
              "       [0., 0., 0.],\n",
              "       [0., 0., 0.]])"
            ]
          },
          "metadata": {},
          "execution_count": 130
        }
      ]
    },
    {
      "cell_type": "code",
      "source": [
        "np.zeros((3,3),dtype=np.int8)"
      ],
      "metadata": {
        "colab": {
          "base_uri": "https://localhost:8080/"
        },
        "id": "QHs6EPf4AxEp",
        "outputId": "5f8eb095-3d12-4bbd-cd64-1b255d1628db"
      },
      "execution_count": null,
      "outputs": [
        {
          "output_type": "execute_result",
          "data": {
            "text/plain": [
              "array([[0, 0, 0],\n",
              "       [0, 0, 0],\n",
              "       [0, 0, 0]], dtype=int8)"
            ]
          },
          "metadata": {},
          "execution_count": 132
        }
      ]
    },
    {
      "cell_type": "code",
      "source": [
        "np.ones(5)"
      ],
      "metadata": {
        "colab": {
          "base_uri": "https://localhost:8080/"
        },
        "id": "YpULafXwBAFH",
        "outputId": "e2b55624-01ce-454c-f2c7-5a6ef9172d6a"
      },
      "execution_count": null,
      "outputs": [
        {
          "output_type": "execute_result",
          "data": {
            "text/plain": [
              "array([1., 1., 1., 1., 1.])"
            ]
          },
          "metadata": {},
          "execution_count": 133
        }
      ]
    },
    {
      "cell_type": "code",
      "source": [
        "np.ones((3,3))"
      ],
      "metadata": {
        "colab": {
          "base_uri": "https://localhost:8080/"
        },
        "id": "h7PlzIhwBCjk",
        "outputId": "46db890f-7e7a-43c1-9e84-c6a2f8465c52"
      },
      "execution_count": null,
      "outputs": [
        {
          "output_type": "execute_result",
          "data": {
            "text/plain": [
              "array([[1., 1., 1.],\n",
              "       [1., 1., 1.],\n",
              "       [1., 1., 1.]])"
            ]
          },
          "metadata": {},
          "execution_count": 134
        }
      ]
    },
    {
      "cell_type": "code",
      "source": [
        "np.empty(5)"
      ],
      "metadata": {
        "colab": {
          "base_uri": "https://localhost:8080/"
        },
        "id": "JPqrdq8ABHBm",
        "outputId": "39daaa50-75d6-48ce-c454-558a95a697fa"
      },
      "execution_count": null,
      "outputs": [
        {
          "output_type": "execute_result",
          "data": {
            "text/plain": [
              "array([1., 1., 1., 1., 1.])"
            ]
          },
          "metadata": {},
          "execution_count": 135
        }
      ]
    },
    {
      "cell_type": "code",
      "source": [
        "np.empty((2,2))"
      ],
      "metadata": {
        "colab": {
          "base_uri": "https://localhost:8080/"
        },
        "id": "htBzCKvzBKMd",
        "outputId": "4f9a51bd-10d8-44b4-98ad-9d882e1b0299"
      },
      "execution_count": null,
      "outputs": [
        {
          "output_type": "execute_result",
          "data": {
            "text/plain": [
              "array([[0.25, 0.5 ],\n",
              "       [0.75, 1.  ]])"
            ]
          },
          "metadata": {},
          "execution_count": 136
        }
      ]
    },
    {
      "cell_type": "markdown",
      "source": [
        "### Full, full_like"
      ],
      "metadata": {
        "id": "EvyACQcT36wK"
      }
    },
    {
      "cell_type": "code",
      "source": [
        "# Create a matrix passing the shape and a value for all elements\n",
        "np.full((3,2),2)"
      ],
      "metadata": {
        "colab": {
          "base_uri": "https://localhost:8080/"
        },
        "id": "cPpPGQRW36M0",
        "outputId": "d66aeb39-7613-45be-e3d6-add77c67bbc9"
      },
      "execution_count": 51,
      "outputs": [
        {
          "output_type": "execute_result",
          "data": {
            "text/plain": [
              "array([[2, 2],\n",
              "       [2, 2],\n",
              "       [2, 2]])"
            ]
          },
          "metadata": {},
          "execution_count": 51
        }
      ]
    },
    {
      "cell_type": "code",
      "source": [
        "np.full((3,3), 9, dtype = float)"
      ],
      "metadata": {
        "colab": {
          "base_uri": "https://localhost:8080/"
        },
        "id": "wDxV9Zgb4C5x",
        "outputId": "bae5cb94-48ea-4c3b-bcdc-c357d8e73358"
      },
      "execution_count": 54,
      "outputs": [
        {
          "output_type": "execute_result",
          "data": {
            "text/plain": [
              "array([[9., 9., 9.],\n",
              "       [9., 9., 9.],\n",
              "       [9., 9., 9.]])"
            ]
          },
          "metadata": {},
          "execution_count": 54
        }
      ]
    },
    {
      "cell_type": "code",
      "source": [
        "# Create a new matrix using the shape of an existing matrix but with new values\n",
        "a = np.random.randint(0,6, size=(5,3))\n",
        "print(a, '\\n')\n",
        "np.full_like(a, 4)"
      ],
      "metadata": {
        "colab": {
          "base_uri": "https://localhost:8080/"
        },
        "id": "z0_dQfmE-SPl",
        "outputId": "fa03d1f1-b729-4241-f051-8b6e0e6d5f61"
      },
      "execution_count": 57,
      "outputs": [
        {
          "output_type": "stream",
          "name": "stdout",
          "text": [
            "[[5 2 2]\n",
            " [4 1 0]\n",
            " [3 3 0]\n",
            " [0 0 5]\n",
            " [4 3 5]] \n",
            "\n"
          ]
        },
        {
          "output_type": "execute_result",
          "data": {
            "text/plain": [
              "array([[4, 4, 4],\n",
              "       [4, 4, 4],\n",
              "       [4, 4, 4],\n",
              "       [4, 4, 4],\n",
              "       [4, 4, 4]])"
            ]
          },
          "metadata": {},
          "execution_count": 57
        }
      ]
    },
    {
      "cell_type": "markdown",
      "source": [
        "### Repeat"
      ],
      "metadata": {
        "id": "GbVLUeoi6I8S"
      }
    },
    {
      "cell_type": "code",
      "source": [
        "a = np.array([[1,2,3]])\n",
        "b = np.repeat(a, 3, axis=0)\n",
        "b"
      ],
      "metadata": {
        "colab": {
          "base_uri": "https://localhost:8080/"
        },
        "id": "0zMEJBSE6Pu1",
        "outputId": "9eb64146-bb77-411f-b5f5-49dc2c84b3fc"
      },
      "execution_count": 65,
      "outputs": [
        {
          "output_type": "execute_result",
          "data": {
            "text/plain": [
              "array([[1, 2, 3],\n",
              "       [1, 2, 3],\n",
              "       [1, 2, 3]])"
            ]
          },
          "metadata": {},
          "execution_count": 65
        }
      ]
    },
    {
      "cell_type": "code",
      "source": [
        "np.repeat(a,2) # same as axis=1"
      ],
      "metadata": {
        "colab": {
          "base_uri": "https://localhost:8080/"
        },
        "id": "33-d7Gc-DW1n",
        "outputId": "4c94f330-e7cc-4a1b-9ad9-5ed51f1b3e9e"
      },
      "execution_count": 66,
      "outputs": [
        {
          "output_type": "execute_result",
          "data": {
            "text/plain": [
              "array([1, 1, 2, 2, 3, 3])"
            ]
          },
          "metadata": {},
          "execution_count": 66
        }
      ]
    },
    {
      "cell_type": "code",
      "source": [],
      "metadata": {
        "id": "3XFFp0cGDhbg"
      },
      "execution_count": null,
      "outputs": []
    },
    {
      "cell_type": "markdown",
      "source": [
        "### Copy"
      ],
      "metadata": {
        "id": "djbpqqkX55_A"
      }
    },
    {
      "cell_type": "code",
      "source": [
        "a = np.array([1,2,3])\n",
        "a"
      ],
      "metadata": {
        "colab": {
          "base_uri": "https://localhost:8080/"
        },
        "id": "aQpuBbp057l6",
        "outputId": "65c7dfb3-56a7-4833-b4a3-e9a07d635088"
      },
      "execution_count": 46,
      "outputs": [
        {
          "output_type": "execute_result",
          "data": {
            "text/plain": [
              "array([1, 2, 3])"
            ]
          },
          "metadata": {},
          "execution_count": 46
        }
      ]
    },
    {
      "cell_type": "code",
      "source": [
        "b = a\n",
        "b"
      ],
      "metadata": {
        "colab": {
          "base_uri": "https://localhost:8080/"
        },
        "id": "hHp6iiXA9myh",
        "outputId": "8ad135bf-fc51-436d-b56d-a8c0b625430c"
      },
      "execution_count": 48,
      "outputs": [
        {
          "output_type": "execute_result",
          "data": {
            "text/plain": [
              "array([1, 2, 3])"
            ]
          },
          "metadata": {},
          "execution_count": 48
        }
      ]
    },
    {
      "cell_type": "code",
      "source": [
        "b[1] = 10\n",
        "b"
      ],
      "metadata": {
        "colab": {
          "base_uri": "https://localhost:8080/"
        },
        "id": "YYGXnWUP9pIE",
        "outputId": "9c05f3c9-b4a9-431c-a5d7-25b3f9a86ea0"
      },
      "execution_count": 49,
      "outputs": [
        {
          "output_type": "execute_result",
          "data": {
            "text/plain": [
              "array([ 1, 10,  3])"
            ]
          },
          "metadata": {},
          "execution_count": 49
        }
      ]
    },
    {
      "cell_type": "code",
      "source": [
        "# Changing the copy modifies the original\n",
        "a"
      ],
      "metadata": {
        "colab": {
          "base_uri": "https://localhost:8080/"
        },
        "id": "3qX-tCI29sYa",
        "outputId": "92bb76a5-a577-4adb-a473-00dc96cdddc4"
      },
      "execution_count": 50,
      "outputs": [
        {
          "output_type": "execute_result",
          "data": {
            "text/plain": [
              "array([ 1, 10,  3])"
            ]
          },
          "metadata": {},
          "execution_count": 50
        }
      ]
    },
    {
      "cell_type": "code",
      "source": [
        "# so you must create a deep copy\n",
        "a = np.array([1,2,3])\n",
        "b = a.copy()\n",
        "b"
      ],
      "metadata": {
        "colab": {
          "base_uri": "https://localhost:8080/"
        },
        "id": "Omfg1yE_9yTp",
        "outputId": "111609c0-83ea-4f74-b282-ff3a4b21eab2"
      },
      "execution_count": 67,
      "outputs": [
        {
          "output_type": "execute_result",
          "data": {
            "text/plain": [
              "array([1, 2, 3])"
            ]
          },
          "metadata": {},
          "execution_count": 67
        }
      ]
    },
    {
      "cell_type": "code",
      "source": [
        "# Now we can modify b\n",
        "b[0]=10\n",
        "b"
      ],
      "metadata": {
        "colab": {
          "base_uri": "https://localhost:8080/"
        },
        "id": "Z8VkxH1ZENXm",
        "outputId": "3c496044-38c1-4298-c673-c4d24172dc99"
      },
      "execution_count": 68,
      "outputs": [
        {
          "output_type": "execute_result",
          "data": {
            "text/plain": [
              "array([10,  2,  3])"
            ]
          },
          "metadata": {},
          "execution_count": 68
        }
      ]
    },
    {
      "cell_type": "code",
      "source": [
        "# without modifying a\n",
        "a"
      ],
      "metadata": {
        "colab": {
          "base_uri": "https://localhost:8080/"
        },
        "id": "OkbAHVOvEPnW",
        "outputId": "05209cf2-dfcc-4899-dfb9-cb948ceef4f1"
      },
      "execution_count": 69,
      "outputs": [
        {
          "output_type": "execute_result",
          "data": {
            "text/plain": [
              "array([1, 2, 3])"
            ]
          },
          "metadata": {},
          "execution_count": 69
        }
      ]
    },
    {
      "cell_type": "markdown",
      "source": [
        "### Identity and Eye\n",
        "\n",
        "An **identity matrix** is a given square matrix of any order which contains on its main diagonal elements with value of one, while the rest of the matrix elements are equal to zero."
      ],
      "metadata": {
        "id": "SlCSGDfCBPhv"
      }
    },
    {
      "cell_type": "code",
      "source": [
        "a = np.identity(3)\n",
        "a"
      ],
      "metadata": {
        "colab": {
          "base_uri": "https://localhost:8080/"
        },
        "id": "cjMBPFwwBRDT",
        "outputId": "d67fd626-1926-4170-8c40-8898e2076ff0"
      },
      "execution_count": 26,
      "outputs": [
        {
          "output_type": "execute_result",
          "data": {
            "text/plain": [
              "array([[1., 0., 0.],\n",
              "       [0., 1., 0.],\n",
              "       [0., 0., 1.]])"
            ]
          },
          "metadata": {},
          "execution_count": 26
        }
      ]
    },
    {
      "cell_type": "code",
      "source": [
        "# Find the determinant \n",
        "np.linalg.det(a)"
      ],
      "metadata": {
        "colab": {
          "base_uri": "https://localhost:8080/"
        },
        "id": "41jWmjCu4oOJ",
        "outputId": "a2331f10-df55-4729-8df3-1c59470bf9aa"
      },
      "execution_count": 25,
      "outputs": [
        {
          "output_type": "execute_result",
          "data": {
            "text/plain": [
              "1.0"
            ]
          },
          "metadata": {},
          "execution_count": 25
        }
      ]
    },
    {
      "cell_type": "code",
      "source": [
        "np.eye(3,3)"
      ],
      "metadata": {
        "colab": {
          "base_uri": "https://localhost:8080/"
        },
        "id": "D6M0q9GOBTfu",
        "outputId": "96310c75-626f-431b-a845-adb8b9ee3d6f"
      },
      "execution_count": null,
      "outputs": [
        {
          "output_type": "execute_result",
          "data": {
            "text/plain": [
              "array([[1., 0., 0.],\n",
              "       [0., 1., 0.],\n",
              "       [0., 0., 1.]])"
            ]
          },
          "metadata": {},
          "execution_count": 138
        }
      ]
    },
    {
      "cell_type": "code",
      "source": [
        "np.eye(8,4)"
      ],
      "metadata": {
        "colab": {
          "base_uri": "https://localhost:8080/"
        },
        "id": "U0j2PrpABWO9",
        "outputId": "ca647bd6-4422-4759-b2dd-8df7b157da4b"
      },
      "execution_count": null,
      "outputs": [
        {
          "output_type": "execute_result",
          "data": {
            "text/plain": [
              "array([[1., 0., 0., 0.],\n",
              "       [0., 1., 0., 0.],\n",
              "       [0., 0., 1., 0.],\n",
              "       [0., 0., 0., 1.],\n",
              "       [0., 0., 0., 0.],\n",
              "       [0., 0., 0., 0.],\n",
              "       [0., 0., 0., 0.],\n",
              "       [0., 0., 0., 0.]])"
            ]
          },
          "metadata": {},
          "execution_count": 139
        }
      ]
    },
    {
      "cell_type": "code",
      "source": [
        "np.eye(8,4, k=1)"
      ],
      "metadata": {
        "colab": {
          "base_uri": "https://localhost:8080/"
        },
        "id": "CP1EjwhBBbOX",
        "outputId": "bbf9e99a-f7a5-4b40-8424-d4e6b35acbdd"
      },
      "execution_count": null,
      "outputs": [
        {
          "output_type": "execute_result",
          "data": {
            "text/plain": [
              "array([[0., 1., 0., 0.],\n",
              "       [0., 0., 1., 0.],\n",
              "       [0., 0., 0., 1.],\n",
              "       [0., 0., 0., 0.],\n",
              "       [0., 0., 0., 0.],\n",
              "       [0., 0., 0., 0.],\n",
              "       [0., 0., 0., 0.],\n",
              "       [0., 0., 0., 0.]])"
            ]
          },
          "metadata": {},
          "execution_count": 140
        }
      ]
    },
    {
      "cell_type": "code",
      "source": [
        "np.eye(8,4, k=3)"
      ],
      "metadata": {
        "colab": {
          "base_uri": "https://localhost:8080/"
        },
        "id": "yAlwVbcvBgLa",
        "outputId": "04ed7478-11af-4e9f-a788-3a79c54d9d37"
      },
      "execution_count": null,
      "outputs": [
        {
          "output_type": "execute_result",
          "data": {
            "text/plain": [
              "array([[0., 0., 0., 1.],\n",
              "       [0., 0., 0., 0.],\n",
              "       [0., 0., 0., 0.],\n",
              "       [0., 0., 0., 0.],\n",
              "       [0., 0., 0., 0.],\n",
              "       [0., 0., 0., 0.],\n",
              "       [0., 0., 0., 0.],\n",
              "       [0., 0., 0., 0.]])"
            ]
          },
          "metadata": {},
          "execution_count": 141
        }
      ]
    },
    {
      "cell_type": "markdown",
      "source": [
        "## Advanced Indexing\n",
        "\n",
        "Create a matrix as show in the picture\n",
        "\n",
        "![Screenshot 2023-01-26 at 8.32.57 AM.png](data:image/png;base64,iVBORw0KGgoAAAANSUhEUgAAAcQAAAFoCAYAAADJgYuKAAAKqWlDQ1BJQ0MgUHJvZmlsZQAASImVlwdQU+kWx7970xstIdIJvUlvAaSE0AIoSAcbIQkQSgiBIGJXFldwRVERQUXRBREF1wKIDRHFwiJgAeuCLCLKuliwofIuMITdffPem3dmzny//HO+851z534z5wJAUeCKxSmwAgCpokxJiK8nIyo6hoEbAhBQACSgDly4vAwxKzg4ECA2s/7dPtxHohG7Yz6Z69///6+myBdk8ACAghGO42fwUhE+jfhLnliSCQDqAKLrLc8UT3IrwjQJUiDCvZOcMM0jkxw3xWgwFRMWwkaYBgCezOVKEgAgMxCdkcVLQPKQPRC2EvGFIoTFCLulpqbxET6BsDESg2jkyfzMuL/kSfhbzjhZTi43QcbTvUwZ3kuYIU7hrvg/H8f/ttQU6cwZhoiTEyV+IciqhDyz3uS0ABmL4hYEzbCQPxU/xYlSv/AZ5mWwY2aYz/UKkO1NWRA4w/FCH44sTyYnbIYFGd6hMyxJC5GdFS9hs2aYK5k9V5ocLtMTBRxZ/pzEsMgZzhJGLJjhjOTQgNkYtkyXSENk9QtEvp6z5/rIek/N+Eu/Qo5sb2ZimJ+sd+5s/QIRazZnRpSsNr7Ay3s2JlwWL870lJ0lTgmWxQtSfGV6RlaobG8m8kLO7g2WPcMkrn/wDAM2SAMpiEsAAwQiv7wAyBRkZ042wk4Tr5AIExIzGSzkhgkYHBHPYi7DxsrGFoDJ+zr9OryjT91DiH5zVtuYDoBr+cTExLlZLVAegNNIL8SBWc0oAgA5RL9eyJNKsqa1qbuEAUQgD2hAFWgBPWAMzIENcAAuwAN4A38QBMJANFgKeCARpCKVLwerwHqQBwrANrALlIJycAgcAcfBSdAAzoPL4Bq4BTrBPfAI9IFB8AqMgg9gHIIgHESBqJAqpA0ZQGaQDcSE3CBvKBAKgaKhWCgBEkFSaBW0ESqAiqBS6CBUDf0CnYUuQzegLugB1A8NQ2+hLzAKJsM0WBM2hC1hJsyCA+AweAmcAKfDOXAuvBUugSvgY3A9fBm+Bd+D++BX8BgKoEgoOkoHZY5iotioIFQMKh4lQa1B5aOKURWoWlQTqg11B9WHGkF9RmPRVDQDbY52Qfuhw9E8dDp6DXoLuhR9BF2PbkXfQfejR9HfMRSMBsYM44zhYKIwCZjlmDxMMaYScwZzFXMPM4j5gMVi6VgjrCPWDxuNTcKuxG7B7sPWYZuxXdgB7BgOh1PFmeFccUE4Li4Tl4fbgzuGu4Trxg3iPuFJeG28Dd4HH4MX4Tfgi/FH8Rfx3fgh/DhBgWBAcCYEEfiEFYRCwmFCE+E2YZAwTlQkGhFdiWHEJOJ6YgmxlniV+Jj4jkQi6ZKcSAtJQtI6UgnpBOk6qZ/0maxENiWzyYvJUvJWchW5mfyA/I5CoRhSPCgxlEzKVko15QrlKeWTHFXOQo4jx5dbK1cmVy/XLfdaniBvIM+SXyqfI18sf0r+tvyIAkHBUIGtwFVYo1CmcFahR2FMkaporRikmKq4RfGo4g3FF0o4JUMlbyW+Uq7SIaUrSgNUFFWPyqbyqBuph6lXqYM0LM2IxqEl0Qpox2kdtFFlJWU75QjlbOUy5QvKfXQU3ZDOoafQC+kn6ffpX+ZozmHNEczZPKd2TvecjyrqKh4qApV8lTqVeypfVBmq3qrJqttVG1SfqKHVTNUWqi1X2692VW1Enabuos5Tz1c/qf5QA9Yw1QjRWKlxSKNdY0xTS9NXU6y5R/OK5ogWXctDK0lrp9ZFrWFtqrabtlB7p/Yl7ZcMZQaLkcIoYbQyRnU0dPx0pDoHdTp0xnWNdMN1N+jW6T7RI+ox9eL1duq16I3qa+vP11+lX6P/0IBgwDRINNht0Gbw0dDIMNJwk2GD4QsjFSOOUY5RjdFjY4qxu3G6cYXxXROsCdMk2WSfSacpbGpvmmhaZnrbDDZzMBOa7TPrmouZ6zRXNLdibo852ZxlnmVeY95vQbcItNhg0WDx2lLfMsZyu2Wb5Xcre6sUq8NWj6yVrP2tN1g3Wb+1MbXh2ZTZ3LWl2PrYrrVttH1jZ2YnsNtv12tPtZ9vv8m+xf6bg6ODxKHWYdhR3zHWca9jD5PGDGZuYV53wjh5Oq11Ou/02dnBOdP5pPOfLuYuyS5HXV7MM5onmHd43oCrrivX9aBrnxvDLdbtgFufu447173C/ZmHngffo9JjiGXCSmIdY732tPKUeJ7x/Mh2Zq9mN3uhvHy98r06vJW8w71LvZ/66Pok+NT4jPra+670bfbD+AX4bffr4WhyeJxqzqi/o/9q/9YAckBoQGnAs0DTQElg03x4vv/8HfMfLzBYIFrQEASCOEE7gp4EGwWnB59biF0YvLBs4fMQ65BVIW2h1NBloUdDP4R5hhWGPQo3DpeGt0TIRyyOqI74GOkVWRTZF2UZtTrqVrRatDC6MQYXExFTGTO2yHvRrkWDi+0X5y2+v8RoSfaSG0vVlqYsvbBMfhl32alYTGxk7NHYr9wgbgV3LI4TtzdulMfm7ea94nvwd/KHBa6CIsFQvGt8UfyLBNeEHQnDie6JxYkjQrawVPgmyS+pPOljclByVfJESmRKXSo+NTb1rEhJlCxqTdNKy07rEpuJ88R96c7pu9JHJQGSygwoY0lGYyYNGYzapcbSH6T9WW5ZZVmflkcsP5WtmC3Kbl9humLziqEcn5yfV6JX8la2rNJZtX5V/2rW6oNroDVxa1rW6q3NXTu4znfdkfXE9cnrf91gtaFow/uNkRubcjVz1+UO/OD7Q02eXJ4kr2eTy6byH9E/Cn/s2Gy7ec/m7/n8/JsFVgXFBV+38Lbc/Mn6p5KfJrbGb+0odCjcvw27TbTt/nb37UeKFItyigZ2zN9Rv5OxM3/n+13Ldt0otisu303cLd3dVxJY0rhHf8+2PV9LE0vvlXmW1e3V2Lt578d9/H3d+z3215ZrlheUfzkgPNB70PdgfYVhRfEh7KGsQ88PRxxu+5n5c3WlWmVB5bcqUVXfkZAjrdWO1dVHNY4W1sA10prhY4uPdR73Ot5Ya157sI5eV3ACnJCeePlL7C/3TwacbDnFPFV72uD03jPUM/n1UP2K+tGGxIa+xujGrrP+Z1uaXJrOnLM4V3Ve53zZBeULhReJF3MvTlzKuTTWLG4euZxweaBlWcujK1FX7rYubO24GnD1+jWfa1faWG2XrrteP3/D+cbZm8ybDbccbtW327ef+dX+1zMdDh31tx1vN3Y6dTZ1zeu62O3effmO151rdzl3b91bcK/rfvj93p7FPX29/N4XD1IevHmY9XD80brHmMf5TxSeFD/VeFrxm8lvdX0OfRf6vfrbn4U+ezTAG3j1e8bvXwdzn1OeFw9pD1W/sHlxfthnuPPlopeDr8Svxkfy/lD8Y+9r49en//T4s300anTwjeTNxNst71TfVb23e98yFjz29EPqh/GP+Z9UPx35zPzc9iXyy9D48q+4ryXfTL41fQ/4/ngidWJCzJVwp0YBFOJwfDwAb6sAoEQDQO1E5odF0/P0lEHT3wBTBP4TT8/cU+YAQC2yTI5F7GYATiBu6IHkRnxyJArzALCtrcxnZt+pOX3SsMgXywG7SeqmZ68D/7DpGf4vdf9zBZNZp7b/bf0XvL0FPtMw850AAACWZVhJZk1NACoAAAAIAAUBEgADAAAAAQABAAABGgAFAAAAAQAAAEoBGwAFAAAAAQAAAFIBKAADAAAAAQACAACHaQAEAAAAAQAAAFoAAAAAAAAAkAAAAAEAAACQAAAAAQADkoYABwAAABIAAACEoAIABAAAAAEAAAHEoAMABAAAAAEAAAFoAAAAAEFTQ0lJAAAAU2NyZWVuc2hvdAbZi5oAAAAJcEhZcwAAFiUAABYlAUlSJPAAAALXaVRYdFhNTDpjb20uYWRvYmUueG1wAAAAAAA8eDp4bXBtZXRhIHhtbG5zOng9ImFkb2JlOm5zOm1ldGEvIiB4OnhtcHRrPSJYTVAgQ29yZSA2LjAuMCI+CiAgIDxyZGY6UkRGIHhtbG5zOnJkZj0iaHR0cDovL3d3dy53My5vcmcvMTk5OS8wMi8yMi1yZGYtc3ludGF4LW5zIyI+CiAgICAgIDxyZGY6RGVzY3JpcHRpb24gcmRmOmFib3V0PSIiCiAgICAgICAgICAgIHhtbG5zOmV4aWY9Imh0dHA6Ly9ucy5hZG9iZS5jb20vZXhpZi8xLjAvIgogICAgICAgICAgICB4bWxuczp0aWZmPSJodHRwOi8vbnMuYWRvYmUuY29tL3RpZmYvMS4wLyI+CiAgICAgICAgIDxleGlmOlBpeGVsWERpbWVuc2lvbj45NDI8L2V4aWY6UGl4ZWxYRGltZW5zaW9uPgogICAgICAgICA8ZXhpZjpVc2VyQ29tbWVudD5TY3JlZW5zaG90PC9leGlmOlVzZXJDb21tZW50PgogICAgICAgICA8ZXhpZjpQaXhlbFlEaW1lbnNpb24+NzUwPC9leGlmOlBpeGVsWURpbWVuc2lvbj4KICAgICAgICAgPHRpZmY6UmVzb2x1dGlvblVuaXQ+MjwvdGlmZjpSZXNvbHV0aW9uVW5pdD4KICAgICAgICAgPHRpZmY6WVJlc29sdXRpb24+MTQ0PC90aWZmOllSZXNvbHV0aW9uPgogICAgICAgICA8dGlmZjpYUmVzb2x1dGlvbj4xNDQ8L3RpZmY6WFJlc29sdXRpb24+CiAgICAgICAgIDx0aWZmOk9yaWVudGF0aW9uPjE8L3RpZmY6T3JpZW50YXRpb24+CiAgICAgIDwvcmRmOkRlc2NyaXB0aW9uPgogICA8L3JkZjpSREY+CjwveDp4bXBtZXRhPgoMnX9RAABAAElEQVR4AeydCaAdRZX3K8l72RMSsgEhkLCFTXYQkV1QFkeRGQXFD5UPdUbHfRxGR2d0HHfcRv0UBEZAcVBBWQYRBWRVCfuahYQtbAlkX17ekved36k+fev27bu9d+97fd/req9vVddy6tS/Tp9TVV3dPWLTpk29zvXK3wg3QkLeSWDECAmOtIgqvpTupTAH5UJnRC3en1us5iQpWTQ8T4ZD8oSF1xFyPPDAQ+6JJ55w73jH293IkaNcr/A0cuRIOUZI2BcibtSoUU7a7S76yUVu/wP2cyeeeIImXvDjC93sHWe7N77xjRB1mzdvdr1bt7pRbW1SZqQbIXTSmhe3zCqR0tQzbtw4d9ttt7m7777bnXvuuW7mzJluwb33u19fdZX77GfOcxMnTnQbN2zQeiZMmODapB7vaI8SkfojxqMU6i/E+HbDFG1sb/fllyxZ4i655BL33ve+1+05f0/X3d3tunu63bXXXuvGjx/vTj75ZI2D0MZNG11XV5ebPHmylG/XeHgvcr20WxmCqejg3I6i3D5rEVBGz/xCfq2L+pR+Ib72UK0yGlHUukr5qL0+ySk0khRAQiM1EFDTpkkk8VYoymOnQe76g/3Crv7qypXg+qvFxbIFJCpXhVKkJekQlxZfKFUIJfNxbi5J1+Jr9ZO0ay3Xn3yNqjOkE4b7w1taWWjj+ot1SLtZ/BqvVpfx3OYDoli1JVy3hGgYvsaSUsWhmClj5QrZVXUAFBcMyUIzcR34zMmqwvNyYSkZN4wq5Lynp0ePESNQlP5i6t0aVYFBI1b4wTDsuusu7vHHnxB/VzUEq1avdq874ggxfm1qMG+++Wa3ZcsWd+yxx7pJkyc5J8YpZIU2iZmMYTJQqcPCO++8s7vrrrvcQw896Pbee1/36KOPun323suNGztO+XjuuefUUL3pTW9y++yzj9sqBlh1i4Dk5SuBqZ4qkFJzIc+6devdurVrXVd3l3v2mWfd9OnT1chh7Ixp44k2tMmAAUO54K/3uIceedidddZZbocddvDYaYGoXjJXNYieH9ptlRXrRyUSp2k2+WmMsEO7XteXMlEd0tRekXVtkTY7kokILp/Lt1fxtqrMJ0MQ9jnDUj5c+69Q8P/x1We9EdIuRy/MY2HzKROGjQZxSWd1JuOT5yaDGp8gVJQmGZLnvqFSE/LolYnmUehNx1AuSg3Lh+FQ7sKwFCtycVpEGxoWZz4FLGx+GFdEMMpLnNFKCxNnTvNxIjxoG7xSgEBcr+UNfXjxcuY1utWnNIKMFg89dVE91pakb3nweymj9fg6NE1+YppRRERZeSZKeYvyRVnU8zxHvQf7xlOQKUnbkpJ5jW/SrT7NG5EP6RC28m3MoKwAMxTOPRF+46ZoXERLw8mfES6yOokEpY3EBk5Pi0kXUkksl0auRLo1nC5pkxmSNygjXbu0pVAtIQTKg8ysr719tDvm2GPcHXfc6a677noxUGPdqaee6vbaay/XI4YCOj0yq7rpppvcQQcd5KZOnSpxPR4fAOQPevLH1NoAhUVzGOe5c+e6t771re6ee+5xzz673E2QWeEb3vAGN3p0u+uJZp8YzPnz57v999/fz9wiAiO1Hj/rs2b7lpBB6pS+GimGf6sY6uXLl7s777zDdXR0uO22286ddtrbdEaKvDJzpF+ZseKPlBly78he1y70x44b6+69916HQZ49e7YbxcxasZJ2qTPfQ6+/0UWgrRf6qp8kb7zCoHxH8ZIOBR0YBYYkFEhfj88Dnlq/lrIU71u894kjr/aA+FaPBKKTAufklWjiNdHLgi/vy5GC80XDXx9HYePZkxEulKCvJW67JyO/UbxgoQ5PC8ZJydM4mwb68BPVVIScxcVdlkLX8pBkYfXhnXanlElG1ZKHMqZrDMu060ZpC1baz8iSYagJUpNWVqjRn8qv9ocka34loCX4CWkQNj5M38UZg0BYxmhYnPkWH/rQ5tqVSgNqPpgsF/Jh8h0XgoT+SQy0rBMjuiGtuEwUIA3amlUnBx6DkjqUdAEPdArOaCd90kyMk23UOiVVr8iId81rfPiOi2lDK3TGs7Y6mrxQxF/hQU5plETHfWg8BjmK6rB0w5qVPv0LJkjoe1wby4e0kMwocJ1RGPBabVE1cmJwhPHCNGVKHEqjwLglp+WMq0pNtJKRDxo48kqYNtAgljjhn1mdtossEV/MYAuAO9e1qUtniccff7zOBjGgLFtuBQMxiBgWZpkHHnigGkPFp7vHjWiXCoWmdrsEFVi0ITwhfczsIowM0z333NPNnTs3qp+MvW7Dxk1qYDuE5wMPOMDNmjVL20AfGJ9be7YKP92KoRSKHQYI2hivsWLk4HP+HvPdLvPmad3Sqdr+rs5O9Xt6ZLgi+IQDHuqh7h5p0+GHH66zSR0EiNEvCBD1yIxV/ny38GsH7eAodeQvTfIUkrmtf5LxtZ+n8CBVURvdUerS+SjNlx4Dv8az+eQsNYiF8p6PBDNy2j9OCvQHOxTi0Ghe6qKtnd5oDiJ69dBuVl5YaSbteqDLDB/CSPqFXrY16DeOUSPE9olDxkznjRDFSNPcypUr3X333udeevklVZ5eEP1ogfRqTuaZkkVJFWXVmMKPpqXnLCpW8wl8cu+LBj311DNu2dKlsuz5Ol2ShAh1cX9t9OjRYhz8bBjFTzn5F+fTUFcYEOh0yrLjk08udffdd587QIwVM0RmlZvEgHgalPP9QDnMhRSLZkqyiConjDwNZIw0Yfjs6up2nZGhWrturbvtT39yu+yyi9t3333dWJmlxp0jvDFTpayP0yqLEMYoM9PVWZ+0sa1tlNbDUiiGjnZ3dm6J7hP2uEceeUQN38HSHtyypcvcPQv+6l6z3/5urz33knulfhnV18QvgiMyQCMVK+II2Em6fFi7yV1wYblCLCHa1zfn0Q/LEiNMR1HQtXAUVcS/xXm/Vj7Ip3nxhXypMaRO3yZC4NGr0+ionRpJu329ltvnIy4qq+UKYU2xQnLi8xfS4SkN+0K8yXyhrOW3POZbXR5K+C/QJoyLZ1dy7mM0uqE/WleziDeU08YQM5xjRMO2Iyi5awgCyD2TJvQrExYmPnotYBBxS59c2ivLZsCfHzkGuQzkMpDLQC4Dw0IGrrjiit6uzq5eMY69tq3Rtcs9LTZV4N7xjnfoRpMeWbJjlyOoeNnQQDyy9Wcy2pSALqrZUJkCYoF1QKN+8dBG6RVHGak++wxauZfGCAvLryNbidO6JG4ro1gyRY7RADMozcduWvIwc5R00oin/ThbftWToh/wYbbZI+XFV2LMDAuzQ6MLwXXr1umsk80vRx11lN7rgy+WL6mDEbdH24MzImpPUZWSZK1QhLVOySHxWkr9qF3Ck8dE7ocKLeohF/XoEmq0tApvYKP0JAc8dEteP7Md5UbLzNYw9RgqSprfeAl51JEWzBQlclIUERcJ+yWOrCkAxyp50gTfhmeeecb9+c9364rACSec6CZNmlR0X9bzUODD9zV4FY5aqk7yrNiXKQiPJU6iClyUpGYyAoy4HbF48WJ3ww03uKOPPtodcsgheuuBVY+mOAHJXxNNoZ45ouwJ6NjSIZvwHtIVnb333tvtt99+uiOdazZ3/UMADFmpW79+g/vLX/7sFixYoLfE9AkCIR0bxLY2lJ4/RZGcdNJJokhQoFy2dkGjNNIZYlNNepLEpiQ0RhmEVKgkpaKIXW8LvVH0YckNa1pEfoTU1mg7qi5B6lJheXpKVgiJGZWyHHbZRmWEsClNDAsdweMQLFsuXbbMfeMb33AHizIxZwrdzvEZXxjVMB7TVXA+rL9WtaTbrl940IMG6voerEqcGEjuKXK/ERDY4EMcfEAeQ4pR5Jw8unSqlYI5B5VFFWp84UdpxKfkNReGLc7zw1mIQTGNKA/VhUuP2k7uj/rHa2jX7bff7n7xi5+7Hbbf0Z1xxhmOXb5+IGD1Gf/+3OrBD8OWO82nnqRLR8Ln8mnFOZRCcVSSZKbOaTODog3ymNDVV1/trr/+et0V/e53v9vNnDHDdYqMk+6xoWF+gOWR8r8+FqmRUFrbyZaIhx6H9U05UGrJk1a2lnJcg8pzGoEKcTXRjtpGXg4wXL9+vfvxj3/sbrnlFl3Ke+973uumTNlGr0c/ME2AVIGHPKkYAXQBmwvZhPjIo49oIntHdDIi+AcGsU3vYZFj8uRt3LRp01WJcx4Ko3YFSjPh/DjdC34iiWujIOhRuEzOkqLlI4yC+fBkh8VZ6QS/nGqWMJ/PEyclr0wjlfBpN0fykiHGqJuwv/jii7rxBxLT5LEIdoNWHPVBQDpJWTFiwqCo/wQXEbyWR1O1cAF35TDqCm2k77GYScpIv9IOc77f/YUaAWZJVfwCjfrKVSFbJhmI7LlTHqfBseOY2eHMmTMUwgIfBZBoH33TX6etNTKKbUQxDCcqUbueiMv6KcqY0TX343FjxoxR5cLO6QlyXniOVpPL/oT6pGymIKGePmoW7WbRDZqpugCMQxx5VnnmrJkqywysSSNP7upHgD5kfwU6gg2YOhkQMn43v9fibaGw2SyAQjarSas2TThGRLOrtPzJuMYoAzSQaSFqQPuoauKkn64eWmJC0pSqkFAOJQ2MEWR8M4Dgy4YXZjdlnSdQnKx06zCIlFZYksstLBMXk04axEJqsmwhJQshcDWDCK7qZHqtGG/plGYqkE1l1e4W1FpJY66BWmtrTD4UMUujNuPGR1fYcqnJdrXa0vRHpTKhjqqUj7R6aNdDt9m0oQ+e6IkkxsgxB1jDM3497YR27rxsgJ1hbPIKpvonfjxDDAHj3hpTyHIurTPqUgiRsShHv7b4pJJD66vmr614xVy109J5lgBZ4qI2ArYKuixH67ORUV5dlpXHJmRxsqRoHKFNTNBWuqV9oy0vyqqFPSlN5McyEJbDTq3CxAzRorPugzEyy07OUG49xtyXBWMFoSlNUcpJLKvU1IoGETwxinb94xvGhEmjL6o5K18tn6XXQtPy1kO7WXThpR7axjt+iKedh7NC0nH1tFML5D+KmeFrOCZh0QfziSwWdAS/oHQNfKyoraUTR6erT7xc4TpTknhzJhThPQONo6xkUyNayG7FqvhccBTCt4tPfCGo3Gn9lqcKqbLJtK0gdHaNQ1rjrWZtg9w71QycRAnk45B4w2Akj3yQHN6nDAYdhnERS8wetUKIkSL0YAL8wDvKbFgW42llo3KKDj0YtUsZhFbUq/AKXW2k0I6Ie/4L50pNiFh6xELskT+1LXGOQsCaVojpW4iRHvLq7yUa4yhrOUaBVbESqYfHihwBsULo5V+RVPy0p+JrxWh4pDkDZyurp5Yl1Q9xsnBav6QWbkAkddKipDKhnzmIN78atnG64uRlJWwTdKw+HxbUJIJwNWf5rBw4w7f3vcyGdUHPzgmXc8V0C7miJih5rj2FSavkxF9P1bg22vg4w9jai49uxihaOr6la2SVH6uDbLW0twq5ssnWBo+/x7ts5hoTQt7DIr6uYr0UppcLG74ms+SzsOIcAmud52XPn4VyaO8etDKxr5e+dGiYWSqy9JA54lSJEGkVhhmqhtMKSZzQ5c8786sSK5sh5D1sloXjGizCKMUJvv1GB9+HCxkKcVY44Ye0tZgXAC6dZFJ4HlOxqqg7Ugw+Sn7jAhFq5NE40mIKUZy/WC02LmoRge9pBBEVgpXoVChWkmR8e3rGqyhRyamtC9pD4Xp4LKksjDCoqFj/o4rCcJA/QjqO0dxRkTgyJRDiZOGGtSGlvmSU1qmXdymz8OEPX6oaX5Zfc0eNSbbJn/u6qtELeQ1pF8oV8xzW5ZVtSCE9XKCF7BTnic8lPk6SSL1Gi7Omnhlt4938MLPFeZ+UuKYwW9kw5cwFQYtqmN+MekKaIaPl4sM8yTBlwsPSQ1p6D9EiTJVYRnwdUYQRmQ3XKoK1NABaaWikl8XA98XZiKp8WUaZaaml/FVsvSYmCKU0T/nRaWayzpTMmiVBM1ms7Hk5emULBAnl6yzGk/mY/wsKJ4L94SNBaoifKpK6ugFmhhs+y9GSqlEWXxmM4n6qnLfe1Fam7VePkG9w9FgSp2+L0uuSOEuvF5k8v5cNw9Z8ld4YnOjl3vF5+UAzhxblax3mKQ0U/nTLWiO+/uIszVzeOJXmTcaUo5nMF56HeNRWN7MylHmpK1wQpWl5TCkChpf55DBck35p6TymMgLF6lXwjMTbG0ST4BD7yvTy1HIIGIYmswUppkTqpppSUrUpn9JyeUyOQCMRKAixp9pXubSLopG8DRdafcV8uODT2HbGs5qk6De2mmFNLZTows6ZcpDEN/zKZcjjcwQGA4G+GrW+lhuMNrZKnaFKaRWeW4nPHN+B6q0ig2j3Eosqz/uiCI78JEdgeCNQOlXR5b7iNb/hDVGfWs9O2nIFSzEvlzOP7wMCAbxFS6Z2Q7roBnm4T5eCqZsuAiaSnRpUFuRqUDBRmfLXINIDRMYwTxuM2J2DAWKlQjUJnCvkrD2pGTRrrX0w666VxyzmA7cQu0LY76AtnGeR+1bgKVaXcSDEPAy3QmtahMdAbAsGUTrAlDPNiI2iZNZdTto2SsY9pTH8xDYy3gllSfV1YFi/UajbL2UvIsGW2yS1spmTGRt2bm3EtzDEw3BfK0vum4n7pa8E43IlwMUpfQs0ml49XDSn7oGXpHra3Ki8YMdhC0vBucKqP42qbJjRQT+JFOlFbLgCgYVDf5hB09DmIrt2mLyaH26qkTj9AjJdIGE/Y/EZ02YvtfFoaqJQYW3l+pOrUl1pacZjf+rMy+YIDFcEIh1RNHMcrlg0qt1peqpRtHM6BQRKcbahnuZpjGkoraTAQB7KEcgRyBHIEcgRyAICpRavyCD2m8WS6T4UcwPZb1xzAjkCOQI5AjkCTUegcA+xUVVhdEtv1jWKegkdvfemdZKE8fVWv+/LvCVVDNsIxVDgtM09iqy/uRwtqQ9baJrWcLuXnMtv4yHOsW08piFF8G11ua1thogmtKOWGZ/mFeOU3OURotegMJ3Ah335uC1hL/TmN6iSYUgGwQbLru4u9dlFuFU+T2OfTBmGkDS1ySrHfKRZMM9d4xHI8W08pkmKvICcF2WDNfqjFY1j7TPEklnf4F64gG7A86UDvv7gv9NGR9Rm55Mdmp97BMAVh88b4MfIB2E1Ro1krrQ9So37RXGAszkGHcmBRysqF2vPYPomy4axftlAGOqWwR0ux1Vh6NdPr8jrSJFfM4b4aTLcr0oGqHDtBrGIIbsvOPBG0YwgoPOxx7Vr17pNmza5TvkQ7MRJk92MGXwhvfWn7kVwD9AJYx7rUTOGW3u2updeflm/MI3Snjx5shs/bnyOcT/6xJQ0MsyouqOjw61evdpt2bJFcd1mm230C+n9qGLYFjVsMXSEVUmLwt64caNbu0Z0xeZNbsKECW7KlClutAz0woHIsAWtjw0HX8VZyiPHGzZscCtWrFA5njRxkps+Y7rGW5/0sZoBLVbdILLsKd+VK3UWZyq0NEejY2zUPFJmgOvWrXMLFy50d9xxh3vsscfcSy+95N73vv/r3vzmN7tx48bpCCUf/dXbA/4bgigJvtC9csVK99jjj7lb/3Sre/aZZ93zzz/v/vVf/9UdffTRsnzKxVAv/eGdn2VnWddQEAzjF154wf31r/e4W2+9RWW4R5T3v372s+7ggw9WhY7M53Jcn9wYZhg8vj6/bOlSd9ddd7kF997nnnxyiTvkkEPcWWed5ebPn6+ETbHXV8vwzg1moxjQtbfrgA4dfPvtt7sFCxa45557TnXEBz/4QZ2g0AcMTFrBVTeIFZWeJTbXKJrAMgpB2JcuW+puuflmd9nll7sHHnggxvmoo45RRT5+/Pg4Lg/UhgAY24wFAWawcc0117ivf/3rqlTmzJmjgr5y5UpR1P6TP/kO4tqwtVyqRNr80hIDugcffND9+te/dhdccIFlUf+fPvUpP/KWPsld7QiYnsAQMohg5YgB81VXXeUuu+yymBADOwbODEpskB0n5oGqCIAzurhdjOErr7yihvDiiy5yv7/pprgsluE973mPG9EihtAYr24QuSbN7lmpIt8Sm3fxoqg5WFr685//rMJ95ZVXKhdz587VpdPly5e7sWPHutFj5H5XKyiSCC67iIsgHYSTNlHUfHH+2Wef1dH0L37xC3fjjTcqJzvuuKObPn26GkSvRJrX14PQ9AGrcoSstLDMj6zeeuut7tKfXur+es9fFVvwxUgyY8xnhH3vEvREjyzzL1q0yP3uxt+5//rud90KGcTNnDnTbbvttjrQ22WXebr0j1JnmZoyuauOABsXkWFw4xYVA7pf/epX7tvf/rYWRk+0S9pTTz/tJsuyv8pxK+jioOlFBtFMW5AuxjBQfgQ1UzIn50G+IgL9P0GJoKiZkp9//vnuaQHc3KuvviojwY16ysxGrKF0hKVm12fpzAy3+XA7GMrQDza2uCdkVvjba36rs0JDDiWCAue+Cy4fURsytfnWt4ymV61a5e6//373m9/8xl188cUxgc1yXws55n547upHAIxHjZRNSXLdcw9rwYJ73JVX/lJn30aNwYYZvvXrN2j0YFxrxk8r+uzm79zcqbJ65513uh/+8IdFK3QbN25whq3dD2+1dhYZxKombQANDULuRxjO3XPPPe5HP/qRKhIAnrrtVHfO+85xO+20k/v+978v9wWeVNwpwywnstoal/WfuJ2DwKgqElk2YsMBM5bvfvc77i6ZgeO4v8J9Fu7H/uAHPxBBXz8IHA6NKsF5zZo1Kr/f+c63RV6XasOOPOpId/rbTtfNHl/8jy8q1kOjxQPXCrDFjZIVjmXLlunq0Ve/+lWNY9Z97DHHuBNPPNEtER3BYBrX1Rk9StQKI2fleJB/BGIG8OjjJUuWuEsvvbRomf/973+/O/zww91NsmRqK3eDzHFN1acNiNpMISNXxaN/L2jFlIkbGKsIX4zoNm3erEt3jKpxZ599tnvjm94ogn6se+nFl9xXvvIVjecH+U5rZJwhEwGPK+2zi9n6YDDYA2NmgD/5yU/UGE6cONGd9a53ub95y1vcAQccoEtMGExm6bmrHwHkkStmyeLF7sMf/rAS2Guvvdzf/u3pch/rb9yuu+4q98Nv0fgpU6fobt76axm+JezaQXcx+zZjCMYM6E4+6SS389y57oorrohBYtkvd7UjgDFET7AC99CDD8XGkPuwHAw4WEFiCbWVnNmK0O612SBJ2iuNtuagtDnYPIFLClDy3Odq1K8ZCuht2LBetqSv0p1h3KQ96qij3M477+wmT5qkiny9pLOJhhvosBwNGBvFypClY4qEBnZ2dYoi3uTefOqp7u/+7u/cAQce6OaKEhkzZozej2Gpj9F27vqGABsL7Lm3c875v+7kk09SeZ41a5YOirp7/GCD3dO5qx8BFBrKeovsMcCdd9557rjjjtNVjh122EFWQDYVDTRC/VJ/bcO3BLiZrDIROV4w3lMGHjwmtOLlFfoSj1ZCx5bQQ55lydQ/r8MsgDeReOdnMWHGwQqzZHfmGWe6c8+d5Pbee299PqujY4vbHAn/uLHj1GgOFn+tWi+jIwSc+wI7bL+D+9znPy9Gb4bbbbdd9SFbXnLAoxcMmOiDXIn0rafBrW1Um5u/x3x33XXXuV122cWx+YB4NomxSYlNCrgc4/oxtlE+g4kDDzxIlqV/6w466CC33XazdMULOe6RAQf3cHPXdwRUjtva3Wtf+1pdsXvNa17jGNCxcoSe6NnaI5akuROlvnNfuST82z3PNi5KHqjkprMZGZ0cVqbR1FSEnFEfFpwHwQ897DCdrWD8YJ6pYPxQrfSB6Jbc9QEBxVl25E2bNs0dd+xxuhDATAYhR0mbsukD6bxIhACfVBspb1LiIWVmLRhAVSJyH6utvU3P00aqOYC1IYCM8jwcb0rZfY/d9Rg9eozOVnpyOa4NxCq5Cnqg1+2+++66mx/Mu7q6xZB06ICZPK00oCu0SVbIZHWBPRLYnDZ9y4tEcO8oa6MoYxqgseCcozxQKvic+8cAbGm3Ss/myakI2Bo6ozywNmxbScBTG5aBSMZqbOIAW5zdi2UTiMm3JuQ/fUdA9AAOueXNSp2dW/y5xLfmnEXZz9SP6YJRMlD2s+6egi5uwaV+03OAzK2hqVOnqu6Te4gj1BDi29JN1qQIQacBKG74JBx3kGy3NoWeKQlqMWZ6ukVhyy0s7ncZti3WhMyyazv0kFNkGUc4x7kxXVaEo+iHkdGmGY2X83zg0RicwdH0LxTjDyo0hvyAUgllgmuSiRVOb17QMEZWWTUsMItwc8CjjfqsUUUXxIDCOnQq0513AqytPoeCP3RaOXgtYa5iAzu4UBk2QR48toZUzchsNN6I22U6Io7IA31CIMTRwgz0hoIL7cdINTS0Si5Oa2jWGglfKBPlT/og2Q2SnLsGICDjjdw1CQGUx1BRIE2CqP9kS+Q3Vwz9B7U6haGkf+WeP0LjJSm2lCWCVR2UpuSI+GB0DZ8q3vKTK+6moJ0TbTICkQQ3uZbhSd4P7JOKK3k+PLHJW107AvpgPtnV4Jipj3xvLNOINV/QqJtHArDVjKxRJtQ6IrKGuVFM65c8LkdgGCKAjhCFoFopUAwaF5wPQ2TyJteJQGwQKWcGsMg4BvEF2ip6hdMmhNQgyv3CpEO+MZT+iws+tfncJLnIz3MEmodAvFLTvCqGFGU1hagKW+zSpaRAK+RGcUj1d7Maw3VX9C7TZlXUF7rJ5aWkkig6D2S/L3XlZXIEsoZAkXxnjbkM8qNG0fRA7EusKDk7zSDbOUsZQ4CdKhljKWIno2xlE6ycq6GEgD2SEavyXKP3qXtz2PoE2/ArxKApOnRTjS2VDj8k8hbnCGQHAbsO7eJkauNnOLlqz04v5ZwMNQS4uuya87tMszpLHGrI5+3JEYgQqGjiZLSauxyBHIGBQyA2iPmlN3CgZ76mfJm6qV3ERWcuFeookj3VucsRGAoI2KpHq7TFv+SocJ22Ct+pfPpmpDcmnwSnQhZECm4BdChvhFkfdwkUuRZI5LPRVUAsD6YgECqHAMJCzjgyDhTSJBQa1KKE/KQEgb5gpWWSsl5COY8oh0CIuck6cWF8ubJZiW/zKi8r7KTzAaAGMDkMYFXYRZaOfJ4GfuGdhjxSQrl0+sM5VjduCC5+AwcAFd5aD776hiCJs9f66YYPyQ3MFgd+5E32E/G589iAg22WMUxsJ3XsI6SRMxnX+4j0TnQNmG/5cr8UAcMO38JhLuLoC+uPMI+/AsLceTgNAcPWMERyQxwpY3nSymc1Tr+HmFXmlK/IiKGYQyEmDSXM1wOsI8aMGSsvaW1TJY6KHxG/hR2NHxHKdGMHnjkVZP3xEHkD6RUJn9ji6OqWTxV1+yd06ANwR1HrixOifoBzjR/4JrREjWATvsuU9wcTp5iBvzjSve/jVbbJJ+s4hq35mjH/KUJAFTDXfTCoIwPnhq2eC+7IsYUNU9Mj5lu8Zsx/YgMHlh4bcJWvucgn+fQD2GV0LHljLFHFKI+MOtFyWWZPUBNl0S4fpkwKKQDz0m/9WvOKFQovn/Fok8/q8EHQbr7eIG2j8/Tl4BntgMFnS9WHDiQQU6QBrA1fjB7fC5swYYKyaiNCTvgMDLqcb9GZwFtZzZz/KC6Gjb2kHtx6R3ilENlCRcqUdpvIOwMRzm0AAq4h9hQwujnMHgHw0A8V8IYrcSaL4Ghf8kHaccTZYTj6KyG7yloZH8QfcGrnO6mCHdhyOOe/7wlbbaMLH2HWvojyWD8o68AvxXxZjcnUj76pJqsm0UB/8cUX3QoxeqqAI6EfPWa0e/bZZz26EaTPPfece/DBB9UYmiJBscyYMUO/7kzY4jPVC4PMDAbvpZdfdqtWrS4yiAj1Y489Fitm2ATzRx99VDmmP3Ao+nnz5ungxPpIE/IfRQAcN8pHuJ9/4QXBeFWsDFDIpC1atEjzdcg3P3HPPPOMfp+Uj3ejPJghTtlmitt+h+31223koVzuPALoCWSQD50vXbo0vsYtnpk2ugE3ZuwYt3HTJrf0ySfVSCrGEk8ePpQ9e/bsGGMtkP8oAmCJvK5es8Ytf/5517F5s5xzm8TfCtgqumDzps0xWuiUxYsXuzWSnxkk/cMXlaZuO9XNmTMn1ilZk+M2DIS2Km5KNgJ0AI4PA19//fXu8//2byKw24oiYGYCz16I6aSddtpJL4L//d/r3e9/f5OWGTOmXUAf5RYufNx977v/5c585zv1S8+5wi7071ZZjhsjo7pXXlnpLr7oYnf+t7/ldt55Z7f82edcuww4thXh5aPR22+/vRaaNGmSu+SSS9yll16qAo2Qb968ya1bt95dfvnl7uijj45H4oVahncIeUPZokS+9KUvuauuutrtttuubvXq1bLM1O1QyJMmTVYlgcyjkP/jP/5D5ZkPC6PAu+XL5PN2mee++c1vun333VfThjeqxa1XZS23Rx555BF30iknuTmz56gCNh2Cjx4B25GSb9PGje4zn/2MxnUKxtNlwPzkkiXu7P9ztvvn8/7Z7brrrjr4Lq5l+J4pvqJnO7d0uj/84Q/u7LPPVjDGT5zkNm1Yr+HtZs2SgcTYWFcsETw/9KEPqewzdBs3frwOVs477zz30Y9+VAcfXBfokCw5XTLFuOCyOFNEobwgI+u1MtLg6ItbLyPHrI1E+tKOxpeRjpcRxmYZ7aFMcMxOcD2iqF944UUN1/LDzIfBFYOQ8D2ztZQd6nnApGNzhxjDq7SpT8rsJHRbOlaGp6nh55Y/JwOPdUWKPjXjMItUoydizNL+y7LK0bWlyy1btqwuFJjF4C67/DL3sY9/THUFdHOd4WE0LBjAsVJnzowh56ww1eIYfOskrJbMg5DH75TQisWO92LLs+PoCNasDz30UPfxj388XmrSiyBi0zoL4R0xYpTOXEjiHOC7ZOp+4IEH6jJIPjss7lswAr/Jkye70//2dLfH/D3chIkTdVQX5jQB9hiDs5cTZueWttdee+l9Ruht3erphjSGaxiMGAVvt/127mtf+5oO7saOHVuEcSjP4AS+8sYMHady74vlpylTpugsEhnOXQEBlUXZ2IG/++67u0984hOqA0xGLSdyCs466NdxoJdj4rmVwqCQ1ZHp06dbkdyPEABLw2n//fd3//RP/6QzaGQzlF3FVzA2h+zjKM+gsKur0x188MGqi6GX7CMrN5i+N4jCsLAdHYPJjq/bQMYfJaAfe+yx7sgjXy+dUgA75FLZj/kvGHXKA7ptUDC6YdnhHAYbli22kftTZ7zjDHf66acjvXVDYhib0qmbwBAvAMYo2ve///3xffB6mqzXgRhVFBAG0RRNPTSGcl7kD1zmz5/vPvvZz6qSJq6cS+oBzSuqZZRsyOMWAf1VqXw5ukM13rBgYHfYYYe5Aw44oCrG5bCABkdW5bjNGksDCiJUCJVr2EDEG28IKaPq6g6+S3k3RW30qtMZfjnGyg7dcePH2ep53QAg4Drqk5Lpw5a6SQ65AuPlPkpfZRAlDsa5K48Aipb73H11OcbVkWNQxm7+vjp0RJblWB/MT2+cGZeBU28oi7TRm4FYlAZ7wposfPiA+PoEko4M4dnTgiYHF0vuyiPQJaPi3m5ZUAKv8tnKphjOAyctZVnJXALY4NhthwzbeSjPYVwybGWIt7TMNTIDDKEnbHYXYgtrRbhJH4RySpphnM++K3ek6eJyuQzHpB/mzzLG8lBJykWm0sJFXI9q9Eao0PDkeSGl3lDtisCvWSfphwIf6aZklmF/rkIq3R0qimEPSoMByLIi6E9Ti4xNfwj1syx85APffoJYpXjturgKoYwm6z1EGTBVcGYYyRRmDM5juxmmRyQHdKMO9cfMFLXJDCFttXBRhvxERsll4cvRyREoi4DNBspmyBNyBFoEgZGpxjDVpphhpGVoTo5qrtZ8ng4XVrOckc6NYbMQzunmCOQI5Ai0NgKJDwSnWsKghaFRDKIzEyzPf2wIm2dzM4NCzkiOQI5AjkCOQP0IyKaa0GXDWug9CViBOfNDNtPCxnrcIAkwLRRL6KP8b63k0qrI43IEcgRyBHIEhi4C8i5THliVV6HV5WKrU6aUWacyyWWiMYTxsqlUoaasWlVGS/MlMsfTQh8fn1qZ3M8RyBFoCALxddsQasOTSH4vdvD73b+6rU98BMYntH9xdBhZewU6O5Tsfb/AYgaKKjW6RZH5SY5AjkC/EcgVeb8hjAnkeiqGYlAC6c8pDAorxZXWLxgYwtwYFqOYn+UIDAwCfR/ADgx/Wa9FXypnO/+yzuwQ5i/9OcSKDa4w84u+8VbbDtSKlWhi/UaRYulGsXpteY4cgRyBHIHBQcB2OgxO7XmthkDxLlO7yVbB5pU1OA02hsZg7ucI5AjkCOQI5AgMBALFS6Y2ZS87ycJSpljLOH9K2kC0Iq4jZiSOyQPDG4HBlsjhjX7e+hyB1kJAXu5tNpGdpqY+8Dm33aflDA35rIwEB93BSzleB525nIFBQABpyJKEDgIEeZU5AjkCCQTK3fPWXabcq9NjpDcmZLbD6HAe3tOzcGXzI6m2DGuExG+OkoJqZW4CFgY8qHjK56tsEs45LsTV4sDWwn1lVDGuwxIocvKjReoo11f+GlUuiZXhZvLJh2NzV4yA72v9LU6oeOZ1BFkMYwtzbniH4TRySdEKuSAtPE8rXynOaEPDwpa/P3ShkeQteW711OMrjxF2SUxNbxIfptVD3+ct6Bzro/ppDK0SSTw55z3D+Pr5px75EvKWLVv0Q6Q0nU988JLc5JvjKTBCjOYomVV6O+fFrJyweaEhtTgH8SoMVBY5ckjXyW9xXksv9dPy1lrWqCW5CONrpZXGh9Ep+LwlHtcmn7LC8Y1G+75dKKhhWDP24ye+rVsrDWlyOURqJTEY+cAMgTYfHpBd8DVBz1/6nN4zckmr43oOw3YpWhySAZaGM4XAGzlubx8tn/6KvtNYKOAJ57+VEfCK1H9lJpJjPorOgQNvZNdwr0c/eNK2Akj/tuLVXRm+elLBDj2clGN0BR+IVoPIdwb5LM3GjRtdR0eH0t+ypVPjiMdBiIMCo0YJwHL4c9LkSMNZ7Qk/XGlKpujH3vlNkmYtSvUXJ7STjj5NxquhVv4Ko1jKlaNdoEkOjvLOaKTVmyxleS3e+AJwsBwpuG07daomk8Z3wZr5bTBFP9G8Ih7JIBEWR58ksltTMuuHQm6Ywuzzzz8fC3+IMXlwofxqRMqP9R9JYbkwq8VbHHRxVtbSfX2l6Fq8lTM6aTQszcokz0Mavl6uB+M96mwrJKwwALUyESyaGocDdsN2GAkG0igXlHdHR7frETnHUcxq82gUx2mm6CdMJyosZ9VbHtJD2pybs3J2nvRDGsm0cufJuoxGyJeFoWHphC0+jCMel0bX8mP8ekRpG97oZJusqA4RvGtx1q/0jzrp1K1yGN0kDcufjB9q5+iCzmjyZ5OULYLxhg0bBJ+tro0R3rRp09RC2ocff//7G93atWv0YoGAgYXPBTZSZomEtWPlJ63TAdJ3PKnFObTzi6P6ibtQVAtbL9EKzPeTI4ojfOCEotjS2eleeukl9/LLLyvlq6++2j3yyCNlBbS/1RsS5tdCj37Rvqklc4byGM6wtHDhwniF43+uvNLtvNNObrTMyvneo10AGWJ9wFnx8mBSgfxbuDIrYGwrGg8++KBmfuihh90vf/lLt+2227quThnwmfKtTEpTkbPaaq6BWJQljWZaXO0Um59TByWCBD4YYxDXrl3rHnjgAa38vvvuc//zP//jJk6cqINn08W1cAa9Iid9PYK4Gvu8qGyGTqxd9WJBfnQANm/VqlVuxYoV2qpRMqCbMWOG18VCXJ2MqHvf9773gWB+NBkDEfoc4yZiPLp9dO+YMaNzjJuI8cyZM3N8m4gvenjcuLE5xk3EeM6cOYrvDTfcYGaw1y9UC/pYz5Ej/Vfl3/rWt6rF7JZlPu55SW61pIwskiOMOM3nKP2lLMUTw8GIYmn+fsUkKolpEZ+s0eKS8XGhhgQ8rn6JmVHJ3Xff7V544QV36qmnup1k9kJ6EkOLS8bXy1A5NCrRaS4alWquIU2YE7jkPra/AU4Jw8r8xYsXu5tvvlnj3/Wud+nqB0tOyDZlyzu/+lE+vZBi/WJ+IWXohMDTnLWTOJbtFi1a5O644w637777ugMPPNCNHz8+3m9gZSr5Ie1K+Syt3vxWrhV8wxZeCTMLx7/33nsds8M999zTHXzwwTpDZHZjWJhfro1GN+lbuWKf2amv3/gwuuQrzlucz+iTX/NxfUbKnnNLT/pJmnZOvmReo215zA/zWTiZ187xceQD4/Xr17t77rnHRwa/sUH0yx1eHWIQTzjhBN1kU20ZxJiDZhiGkt5bBOmEMfK1UKKRjmUH64p66FbfhWj8FlRE7fQVBxEMhBllzZIpBvGcc85xhx5yqPBs1ItpageDnZTtq0u9t1uJmFSVzk2lQgOfFsoZtYMVcgrGt9xyixrEKVOmuL//+793u++2my5Xk67lrIEJWFVyEnHlWhZffEKrXP+VK9sq8SHG1l7uga9bu86x3I9BPProoxXj6dOnuy0dW3TDXS3tC2lXy19P3mq0sppu+OKznLdmzRr3ox/9SA3iiSee6N5/7rluiuw9SNvkWK5NhlvSD+uysFcxpYYP2uSxw+qCpl0v5pfNi3HkP9Jj5lvdIe2Yj0SZsrQDmtX4gAZ1gyEDuOXLl+s+AwZ3LFObKzKIZvzYaLP99ttrHmPcCiTPLb6sL48aJJ1tqEnG9/+8thvOhXrgrZS/QnpjQiYErFmjtHHct50xc0bd9wXq4aheg9i8fqmH6/rzIpNgzIHcjhs3zq1bt85hFKeJsu6U+7fkGckztylGz/rH/Po5GHol9KoQzEKH4hgzeozbZpttNHrSpElu1qxZDoPILj3TH2GZtHA9ONeTN62urMcV6VOBe+y4saqg0cE49MSs7bZzUwTzbtnPUS/G4OcxVJPhjRvDuMjQUYdhrHkjY+QvlEK+kE+jqZeS0A/zCuGoDiiTgjWU/yI+JI+kGQ9GO40PypM7mVdpR3Xr04IaJha6/ke2EfmwxvofDOLYseN0A+l40RO4ENPYIMIMm2VwLIugRIjrFQUeXxYS8OE4RvPrj0VBgrD5iYuKvJrVV8VpAx1E6yEMJ8Z4A9kISIWdzNKd7eQ1jMNNS0ExL6TCmhedMKX2cN0GEdL1wFc7K03NycViOCO3KGcc2HIBgDt5TPAtrzGVPLf4NL+evGnlWynOFJXyLLKIQeyUHejgifM79jrjXXuGryaW+bG+qgfHevKWqTaz0Yax+TzWxgYl5BaHj0x3ik4GbzAeyng0u6M8nltER3Tobt5kfbFBFJgdB659VJtri6aRLEPybx1m9iM+N4qhIrUw5SiQsDnNm4lkb4aowkv7BYtQmAlXUiCNEPq6DaL1m/VpRv2k7HFuWIa4EYcS5yAPaWE6zbNzG8lWa7LlD8tWK9OK6WkYgyOYGgb4LKOOjOKtD6q118pXy0d6PXlroZe1PCHOJscYRWs3Prhz3wtXK8ZZa2dW+AE/Dh4fNCz12o8YlA8EI3QcBavV1iZrqiRgyTSNIv4Gaa/l0/QamlkgW0Pm/mahsmxpdRV4YIyUsXWCtZR0E36La5RPv9brBrS76mUuyg9eoSIhOsQxLb1sVfEFUDZH2YQkD2Uz5glFCIR9VZSQclJP3pTiLRMVyxK6oowOa5aeaBmQGsyo4ckAxFybBXWdNnp3qT58r3M7rx7VGKohFOUtUX4Zr1bVaTVYlc30B7Ku2tsBXjqkiIxiLSWts2rJWzZPrV1kBAS+bCIYMRjLnjGc7sfKJT05ESs9U0e/JArnpzkCTUAg/cIdLoODJgCaQtJf98kEWyWV+IIq1JkFp+n9kqSRn1dBQBV0hGVDDF2V+oZsckFES5tYKa00d0mMH+SVROcROQKZQSDXHY3tCrVzQpLJirn4HqJFqG85o8h4xB2N0OPzokL5SUUEBPPMCzRGuyAbFZszWIlg2Juyc1kHbym8V8NcDaG0m4siN4qFXq2GWyFnHmo8AimC3PhKcoqm7AK443uIOh2MZjExUmTECPp1Ur1PYwokzpMH+oVAmuJJi+trJdqF8qMr3uLbrV8d85gBpI+lAuLwM++0UcVcGmbhaC/MQbrlScbbeVq6peV+OQTql5gc53JYVo7Xa7Ryljy1nwjEM0QUSSyoIC+HzQRHyLZQDKGd1zaNyLuPvgEzsOUZOMJsnQ6dpqcoa8rw3x9nxdWPTtQQGtEgA0HtMYuzPC3lC/MJ/g1fmhHLd9AmwzktLciWB8siYIAH+qNs3kJCjrfHAhyQ0WJXOCfN0g3p4rz5Wb0IlMAdEJDPP0Vn4lu42PihKOUvWqaiqwrdFVAqCXrCRr4keThFgK3sZOKhfJ4/NMfFYEccFxlCMOc/VxyGjPdj5WDCGiVXwoky7O6tlKe4lvysHgS4xhPdUbF4s/vBZKQiE3UkNpNf5bWChia9qD2qFmrTwHU0sU9Z68GlqA19qq3/hQr8gl86hvEMUUS6UKPlFd8H7Rc1HeQrlMhDFRHwhg+hsBmidU7Sr0gmT6yIgGGZzFQu3vJVS7d8uV8eATAcbBxN6Zpfntu+pTStfYwmioxiQccyiG5We/qGwtApVUC50KbAIJoV9ImYPv74z11/EZBhRDSETn7BHWG3NKsleW7xuV9+xmyYhUJuioQ0O3IMcwT6ikDatdpXWrWWMxmuNX+er3YE0kzbyMLAJFQlAdEy0UGOPFgLAoK+qOWqOU2xV82YZyhCIDZ40cCDRJSJKrEacC8ilp/kCGQEgVwfNK8j0rRx/GD+0JgKYvPTmtk8UPtLORf4/iLoyydH0qPknq3GMeJrLZFoDCA5lRyBHIG6ERhZmDayk9Rrjl4dZbeiFskwz2VYSyryunswL6AIxDPECA97Ub0fIpUBP8cuRyBHIEcgQEDehh2ZRDGCZhD9kLoVlUjBvAdtzIPDEgGTX/OHJQh5o3MEcgTqQCDeVNPbvE9Q1MFO9ax6Tyi4T8QuLL/siOIrGMR8KbI6lpVy2MwVHC2clj+7OBdkIY3vLMQZroahncNbpbgs8N4qPJh+qISn4W55WqVtmeGTe/XCDDgahha288zwWoURMYg2gs6+AgnbEj9XpveI2EXIg+8u/gAvzaplE0tIc9iHBTMUCNjyyRlzJtTm8yyl5TPBt7zZ8U2uM8RRMLjgRQ3to9tFkfTK9+/49qhg3s5XZqQPercqvmAcuuxiHXI5eGHw4bEmPpWEDHMgq7EsC7Z8rgrJ4JNVpJHfcDV/8FrQujX39HS79vbRijW4g6t907GVWiUGEUOYPeVRDkSE1lju2drjXnn1Vf06Op2x7bbTHF/x1o5orWaVa+6AxYPrqJHy7UBRyuC3atUqt2LFCv3YLuekjxkzxk2eNNnNmDlDcUZhJ5X2gDHcghWBIcoCf4sYwVWrV7kXXnjBrV27VlvT3t7uxslXvLfddls9ODdZt8EIZS3cghA0lWXDBYyQ5a7uLvfyyy8rvhs2bHCbNm1yEyZMcJMnT3bbyBfop06dKl9PH6vK2+Q4x7cPXSQDvZEjRqkeRm8w0ABb5LjVXDxDNGHKegOY9fHWl3Xr17l77rnH/e///q+79957Rfi73T9++CPurW99q5s4cWKuqOvoSJSAKernnn3OPfDAA+7Pf/6zu/XWW92zzz7r1qxZo9SmbTvVvWa//d1xxx3njj32WPea17xGFTgGs1Xkpw5YGpo1xlje+PTUU8vcHXfe4RYsuNf96U9/UozBcKQolm2mbCP4Hu9OPPFEd8QRR7iddtop/jhsQxlqFLFofNoocv2lw6CNt2otXLTQ/fGPf3R33XWXW7RokQ48TI533XVXt+eee7pTTz3VHX300W6nOTvpzNGMog1C+svLUCrvV9uYZfgxmrWN2fjq1avd448/rrr4D3+4yS1cuMh94uMfdx/96Efd9BkzXKeugLTGpCt+7IILlkMbTJg/PfVxFq+zyTra1t9bk/CEoI4e7afjW7ZscUuWLFFF8qMf/cgtXrzY+kYVC/lz5RxDUjXQy/IcGHdvdY89/pj775/+1F144YWp5V5dtVpxR4kze7nsssvUODLi3iqz9VZaaUhtYBMjWbZj5LxgwQLFDeySjn5YvXqNu/rqq/U47bS3urPPfo97/etfn91BXh26INneZpyvFhnFCP73T//b/e53v0utYunSpY6DwfSb3/xm95GPfMS99rDXqo7p7OqMVFzGGpbakgGMVDj4kUN0xkiZgW+VZdGnn37a3XLzze7iSy7RiYlxdO9997nNHR0yefErIq2ik9tstdSMoTVIR0lygaoDA4Ic9tkEnzIgvzZ7YTr+l7/8xV188cXuuuuu07q33357XdZj9Mfyx2juyxjfA8Jd61biBw9yL6ttpHv4oYfd1776NXfNdde66dOm6VL0PvvsLbPA/XSJieWml156SUfdLIesX7/evfOd73QXXHCBzspZqmbg0iqCP5C9xv1CRskYw/POO8/df//9brvttlM8X/e61+lsZfz48Y5lPUba5Nt5553db397jbvr7rvdRT+5yB1zzDE6U8yibKuuHEhAE3WBCToCGf39Tb9355xzjuaYJCtFKGRm2rNnz9ZlfmYzf/3rX2UWs9DNnTvXXX/99e6VV15xX//6191hhx2mGNvrFRPVDO9T0f3c2wZnjOGGDevdI4884i6//HL3UxlE46aJ3mCgjJ5gkExeDEcr6YR4l6m2qMIPQh+Zxwq5Gp+EMqEjAP+GG25wX/ziF4sqWbFipZz7zQco5CwqjCKGM3bCxo6XRYB/9atfqTHcfbfd3ZInl7jPfe5zOjNBcU8QZS1S7TZu3KgzxPPO+7SMDj3m9AfKBoWN4HsjO9gqMjsgKyZy5aCAv//976sxnCHLSCw1fetb33JHHnmkmzlzpioPlk2558XM5ktf+pLbZZdd3HPPPee+973vqfJmqS/Ht7RvbcDxyMMPq2HDEK6XwcVee+/jPvjBD7h99tlHlTXLqR2bO9yTS59011xzjbvkkovd3nvvrYPsK664QgcpLFH3iB7JXTECrBhi3Fihe+mlF91tt90m8vwDHcBZTlZANm/erKetOqio2SBaowfKB1CWSVG8gH/xxRe53/zmt1r9NjL6+NCHP+xQLJ///OddR4fvhIHibSjUg2Jtb29z3V3der/w/G9/y6FwMYbnn3++e/vb3+6mT58ez/r8yHCkKg3a/4lPfEKVDJtCbrnlFre/3FucNn2a6+mWpdPcHqqIgDFLpcymf//737trr71W7wkS9y//8i96D2vWrFmKsd2/mjNnjso151/+8pfdvHnzFF+WqRmcMJPMXYCA6Gk2gq18YaX71a9/rfcLSd1///3dZwTjo44+Su9zI7/0B7huv8P2iiuzmG9+85vukIMP1pUOBiesOLVJ/+T3xUOM1RzqztyFjz7quFXFzNAcuuDQQw9VOb3ooossuiV9mdNm09lImM0z//OLX6gxnCQC/A//8A/u8p/9TNf9EWBmLUzhc1cfAjKZk911W92yp5a5P/zhD1qY+yrveue7dAl0hx12iLeko0S6ZfS3Re4JsDvvLW95i/vQhz7kXpUdvjgU/ZPLlnrjaa9M05Th/WMzZjYm3XjjjYod4dNPP92dcvIpavg6BFOWUxkAooQJ7ygzbjA+5dRTZAPOUzowueqqq3RjiO48Hd6wxq1HRzD4AjeWmq+66mq9bUKG97znPe7oY47Wc+TXHrEAZ8qxJH3KKae42Tvu6FasZJXJ6Way9evW62xdaWts/sPKIIO4jo4ten/WfLZyMwAAQABJREFUjOG75JbJL3/5S908gy5GN7S6q9kgAspAOkZ0CC8KY7xslWZjwX9997vuU5/6J3f88cfrSI48rFsj7LmrHQEudp7DQvkukh1hv7vhd26i3APEnXDiCbqEB/YodC4EPWSJr03uD4A1M5U3vOENmn+i9M2TTz7pHnrwQR2cmBHQxGH+w1IeyvpRGVWzaxdMcexsnLXdrFhudfYtecGZ3Xxca3PnznXHHXuc5mdWePvtt7tly5bFZTQh/9EPb3Pv9V6577py5QrVF+yCRkGPl0dYMIbIJBibPCP/hHfffXf37rPO0s14PO5CHz3/wvNahvy5KyDgMXP62MooweYb3/iG+/SnP62bktAHNrArlGjNUJUlU4TCm0IZiAWh5jcWgUWYp2wzRW+SMzLebbfd3NgxY13Hlg5dy0bhsExnM5XmczV0amgXA9fT1uNefPFFt/zFF7RhRx11lNt3333jjQXc58LRF1wQ/qLwioLlVfLfcccdmgdljfKnDP5wduCFw2cFY8E9C/QcxX3mmWe6PfbYQzEyvEj092goxMy9RxUPj7Xst99+7oknntDyPD7AwJClPhuwaMIw/UEzgfErK19xjz72WIzC4Ycf7naUmR+7dq0v4kQJYOyQZR7P4v4ibsqUKWoQn3nmGe0f5DjHWKGJfxiwge0f5HEWZJjnDBkgo6dHy3Pgpi/iAi0YqGIQaZFcoQM9PaTWSAmz6eOA/Q9QNgB+S+cWFWgdwaE8uGeVu7oQQBngNm7c4JbKUqe5+SLk3NPi3i0jPpwplIJBFHGQ8iyPzBGlY45dvpQx2hY/HH0wwCT29Pa4Va+uck8s9AYNLA488EBdKrWZdyo+0j1tcn+XvmDD0sOyWQTHLsoc3wJiYMyGuxUyM3ziicfjBDbG6POIkZzHCUEAXUIeNjThOqLNIAxgSMNpP0aDG40Ypj+mi2n+zjvPFWPoH4FjQAdGTFZGtcljGBFurQxTptcFYmUsFpnRGh1gSxmmGCxPK3fCQPPOa8I6O7v0ntSjsnvXHPcNx4weo4INrnaQThjsOegL/Gmy6cYcM02Mol4UaKph7JBNfbZTFMQrr76i29ANDowcS6C6PArGajotNfIFP/BmGW/ChMImGh4PsF18iRLD7tSMFf4aeZRi0aLFqpgBgkEE2FmeJDhgSxoDPzaOsZt3dfTyCWbxptjNT5Yfjufg5V2v3mpRXYxOEF1iaeDa6q4Og2iADGyTARnBNOE28CViYBlpUm2DIUTILQatWwzbStlQ0NYmrwgTN01efcfOUxx8lfAmmFs8o2sUjzk2izCDge5grCgYH1nywcLe4sEyJw7cWFqKlW0FHcLtgSlTpsZNeloegl6/bp2el/RNnGt4BcBxg8zqcCp74oN1Lct3KHOWTefNmyulvGPXNI8WMFBB18T6xjIMYx+ZYzaIviCMBvb7T1sDlNK+LL346jCIpYUHAoZQKE0ZU6//ZuNAcNDcOko7aWDqY4aCRGPEeBUebsLECbrZJo0n7YeINRQPytqUPNEoazbpmFKKsg5LDzk1HNidi7PnNjGIKHFG2NXc+PHjijBm8NIp9KCfJTdYQ1NQQC6RYRyGDIfSTpNhTbQfYRplzss8Zs6cZbH6HKgO7OQl4G2j5L0lGcM6ZnSAA6Z7keuRo7Ilf7VCkezLNGNeh0GstdqByddyXRJpjZBvRqEmaAODmq+FOnll26ZNG90zTz7lJkbLcmNlmckUeciPKhcUiB6+IdwzQPGYQxmxlIpLCp7lGU6+x7hXNoB5Jc1GsMmyk1efrQ1WPCphwq5e8uPAmvvn8cyyUsFhksZbaJA5ZuHmDjjgAMWqKk7RhchMklmiOe4hMlih/5Dx3BUQiK/rSJcVUlojVHWQJM2owSAmWi+nvL0tebQGJFng0l+JKlyBdeS85Ei7v9SgJrBcunHjJidmTEbJ45QqDyTDA4Kj/EmsCRGjKYwo55aeNJ4W3yAWW54MeHBPCqczculvMDNsKzXQsNRykpEXf+sGMkYlGXOBGA8YZ+CDwyDaS7s557WCGDlLJ66SS/YFBjF8Uw2D1tyVRyCJX/mc2UipJhc1GMRsNKRVuagmMNXSm9Zu0Sc2io55MGUbGUWrm2gEyQ6Lz/0qCESYkQvseBFCnzHEIPICdfFzV4wAmJozYxbLtCUkffomGSfnek1IGuUV6RzuFJSGVlQoP7lBbHbfpl11QZ1hZwTRAxq0pc5RMrJWRRIphAITpY1QhZEr5wJEZULhDGMrjwiVQlmmZGk09yGrKvrSYkM+JsRkrNyjZYYYxpUDIM3W2YzcX5eSox/9Va7ePD4DCKR1vrCVG8RB7ptaLtxmsWgXvxlElIAZaPOpu4zsxHmNv3L5LH1Y+hEouuQpXxUPl53rwaNH7mtxP9GUfdg/9dAZanm5fuw+a9i2Wq6rUN6tLJts7FaAziFzoTZohoWfG8RB7ubBUGzUiTFkVynOeOB+V5pxDE2iKREUjikOg1CX9OxkmPvo0VApE25ng0wds+oQYzaQ8JgAm2tCusMVZsMAP3zhOW+tst2mlbCxiR8ybAND8hM22pXK52lDE4HcIA7Nfi3bKi52M2q8h3S/ffaNX33HJ3PSHgcI77aILVWFgdLhQXFzvO1+2jR5UN80jSUMU59NSxy2g5HHLTbK4wEb1vsHvxl42EAkDSL6iQEK3wDF8YqsvfbeS5V/pXJptIZqHPf7mDHPmD5DmwjG98mHacGtmlEjHUz53BavazPH+00nTpBdpyLHdp1YWu4PfQRygzj0+zi1hSgEdpfyKRxzPPRtBtGUgSrfwMix5EdZduOFioR3m/I+yNB4Gt3h59sDzG3xc4S8TB3Hm2swhsxEGFyUdZKGMXz++efjLLyfkyW93CB6SMABHKdMnaIRNtNbu3Zt/NxnDF4igAzz3CwGkZev82Fx3K7y1ppJk+Vj1yLntuksUTQ/HcII5AZxCHdupaaNlAePGVFvI0bMHK9fY9SMsjCDaGn4xKPMWQ7kvaXhdncUtd7LqajlQ2pDOdyrA4t2eaMHr8ObK58aQknjeGYODMHeLzmn36RiYMGgg4fxzbE0yIwod4XlaDCcICsdOHtAH7ns7OqM5DgdLfClH8wo8ipDZoa8jhCa9iKF9NJ57FBFIDeIQ7VnK7QLw8aS0CR5UNze9t8mSuBuPn8jMxJGxjbaVsPIvE8MHYe+BURo8yX3hx96KK4FOigmtr0r/ThleAbAELx4vd0R8oUKlC+OT2VhFD1GbO8vxYd7hSxJL5NvId51113xsitfIpkgRjGfuXjMwBcc+erCIYccHAPJ10EYTPgBR+k0nHK8hQZjuGzZMvUpvM++++jLvpH9/H54DOewCrSsQUSoc9d3BFCqvDjaDOJcWSp64IEH3ENi5DbJA/s4r9T9vRQMqClillWflle1PSwvBrcdfnyhnFmiveWj75wNjZI6yxDQGCRwfxU3Rb4Qcumll+oSXUfHZjWYLM2FrrurW3DucevXr3ePRF+54J7YG95wvOMtLLZkmg86/CwRPcBX7o844vUxjHfeeae+uD5NR1gc+LFcevfdd8flwHfGjBlqZJP9EmfKA2URMGyTGcrFJ/Nl4by1DCJGUI4QYBt5AybxPot8bUAUPs6PwDGeuQFVQKIf8OG5Qz7uefBBB7mnn3paU+688w738oqXNdy7FTz9TAf8UCIs2fEi7xtuuEHzMMp+xzve4biHqLNHOiB3HgHBgtnG3nvvrZ/LGiezOxyzvtWr13i8BGMdeEQ+rwujX5ipPygfXTZ37DHHuu2lr0Sii+Tf0gfN55obtMr9Nc9KB9/nwzFAA9+//OUvuqxvKx0hi8gwmC+V2TpffEd2cXx/ElqqOwazUSGzGQuHutdYQy9w+Bm5jw3vwZLmdXP2QW0Jg4gAo2zZto7Ac//FlG+X3Cswx/0vDjpG+iDuJM5zPW0oRQLLW0/E7bH7Hu6dZ75TdkR2O2Z5P/vZz92NN96oO0j5Jh94e8zH6qehVqxY4a666ir3q1/9yhOS37e97W06ss5nhzEkGkAJIHtz5851J510kn6Mmc8/XXPtte7WW27V3b0q1zxKIS9YJ4xbvHixziTpBxQ03/d745ve5MbLbLOrO2Mv95YLLWXVV9vR7B8Urd6PlU+WHSSDOj5YzQAN97Of/czdf//9mg6ufKHBsGbGjcG8UowhbunSpe7d7363e5NgzK5g5NjrkMFqmbKVyR8w59Na6GD0sh08Zwtm5jZuKHyBBNzJP1p8wtDIqsvuHXoGExFuLM+hiA1wS3r88cdlBO7fSoHyWb58uS776b0sUfC8+5HR9ty5c1VhZ7UTBoMvMGTjwDbbTHaHv+5wffyC5dLddtvNfe5fP+fWyY7TU045xc3eYba83V4+FSVLeQsXLXRXX321+/GPf6yKmmW9T37yk+7oo49Wgee+l/XRYLQpi3UilyzDgeWVV16p9wZfkNnfj3/8I52Jn3DCCbrkhyIn7yOyDH3BBRe46667Tg0hs/EvfOELbv78+dq8cEUki+0dDJ6YoyK3DMzuuOMOnY3/We6Hf/rTn3Yf//jHZTn1CHlcRd7XK0K/Uh4VIu2KK65wLK2OHzfebdq8yb3ttLfpBigG1LgsK+1BwVhkk9k2j1rxiSzDCXkEq5WinxcuXBiztkk+uMy3Vl+UvJs2d4i+mKiDE+738mFx9DIz8azhnFmDyJTbbnz/5je/cZ/5zGdisC0AmONltMJ9FdxPf3qJHpZu/kUXXSIXy+kyshmrnZK1TjA+B9JnXI9AYsD2kSW9fz7vn927zz5bN33wXcQvfvGLqsAZebO7EQPJ8pI5jOHZkv/MM8/Uj6zms0NDptgHY+Tz2GOPVUz//d//XUfK98rshU1MLNOxWYZRNw+V3/3nu0W5rNSRNMYQhY4xZYTdJTshc1eMANcysjdp4iSd4Z177rnuoosu0kwsOb/3ve91b3zjG3VQgvLmUSEMoukMjOE3vvENd9hrD9My9BeKn8FJ7jwCYIGeYMDLgOOss85KhYa+YIatAzu5/32aDFCS7mMf+5gOVPgwsxnTZJ7BPM+sQTRQALfcV8JJ42Hnao5RTbcuNZX/inY1GkMxHQHukZk0Bo8luZ/LMtP3f/ADXU6ivYz4wlGfYTBlyjbuQx/6sHvzm9/seJAZhZTF0Z7xO9g+2DAyfvvb364z6wsvvDDGlRkhR9KxTPrBD37QnSYzlx13nK34Du7duiSH2ThHhtUoihzvLI+3fOpTn3Jz5sxxDDzM3XTTTRaMfR4bOvDAA0WOP6TL2fSPLZWSCZrol9x5BMCDFSV7UUQaLuDFcnQlx+NHWR48Z9YgmkAyWjvssMPc5z//eRVQ4s2VCqy/OHy6nwER3m+//XTEnSttQ67gc813iUGbPGmyO/nkU9yee+7p7pW3fXD/BeEFYw62sTNL2UvSDzr4YO0TlIgklvRLgXoeChGYM2cnd8YZZ+iskDeqLFmyRO95Mfq2QQUzxV1kxy87U/ffb383ddupOpKGDrP63CiGiPqw6QR8lk4/8IEP6Eamh2WWwiwbJc09LswbMozc8pID9Io9LsQGshHyuIvpHSiHYV/T8P1FB7Dha6+99nKf+9zn9J43K3jo1F45tkZ6IA0hcOReI5p7vugP9iRkcXYI75k3iCiLww8/3L3uda9TxQuQ6Q64C8aSTuDAsVRKh3TJfTCL04T8RxAQFSsbcru2duny836ysWY3mfVxbwus7UBho0xY6hg/foIuKzG7zMfQtQkRcofyYJPMka8/UpUxo20eCEdMud+NsQNjlp30YXMBF/y5BlTxgHYOeAng4TXNvS1k9OSTT3bHHHOMDuQYzDFw432wbOpguRR8Obh3y1IgShqjiTN6pQPukqqHRYTJLhgxUJsvO3rbRU55dtkMYTmsiEd+OSxs9AznLIGYWYMYgsSoGUAR18r6gBxeqMPyjGC6ReFksQNCPgcnLHjJ157BhoeRuzq6dfDAG1Z4QDw5I0Go+a4fu3tzPOvrMcOLHb0oZp6fSzrwxfjZwG+EDFZU6UQZ81liErHic/DDyKEvtpHnPnmdYNKRx8ux1wkoepz1D2HSw3PihrMDC+SSiQVv8+kLNmBqKyFZxbIlDGKoICoDWdj2G+aj8/rSgSGNZoWzwBdK1oYR8FMN7yzj2ax+agRd62tTDEmaxJsjr46qJSJXzoZKbT7YgRmzxXLYWV+Ace5qRwDdEMpp7SV9TsqmPRtaL51m5W8Jg4jwmgBXBqL1hLvcBVu5nY1LDXFVfcyEsWa8G8fHcKJUDt/+KJrhhF8tbS2HcS1lLU/eH4ZEwW8ErgVq2Qu1ngWpiGFhhF0xW5YSbWqWJZ5yXnIEcgRyBIYhAi0xQ6y9X1rPuozoZUpWewvznDkCmUJAxqBZG4bmM7tMSUhLMTPEDGLrYK8XrSoTuXkvf+FFrOeZUzOtg22rcspyVCgHYTvKxYd5BiWcofEcGOnd8CYNMOmf3A1tBHKD2Oz+5RoKhtCFXZuE/G43WAgvtkKeZjOX088aAqEcZI23VuCHa0dXXfrJrF2DeX/0E8gWK54bxEHrsHy0OWjQ5xUPaQTMmA3pRuaNawoCQ2xTTVMwaijRUjNYGtPQCnNiOQI5AjkCOQI1IZAbxJpgalymYPXUE5WH4nOXI5AjkCOQIzD4COQGcbD7ILeHg90Def05AjkCOQKKQG4Qc0HIEcgRyBHIEcgREARyg5iLQY5AjkCOQI5AjoAgUN4g5ns9BkRAMrWtO+/zAenzvJIcgRyBQUagzK2qkfr+ygRvPODq483nUboyFBJlB/e0Xh7rzV9/68IHqsFQHxwWMhZvPpQ97p6nML7eWpVCmaal9WOcVQJxOKg0yUvyPMgatyuMKxeuRKdcmbR46ISH5YllOLVVliv3+4OA4i4Eau3LtH7qT/1h2SQPzawrrLeRYa7P8BoN26TtyWW5kXCX0GpLe/kCb4Dn22BbUd/RrCF+e0qmZxH1Mkf+NBNQglOfI2wGiK8Yei0dv0Bb40mLDioKw32pWFGQn7QNrPCQdGGM9XeYB35ClzyvNS3MR7gSnWTeSufIq9Eq+LL8MdJjXqlsnlY/AiZDYM2Brgj7oBJF659KefqalqSdPO8r3YEsZziaIYzbwPUc4Y0KkWDdzmiiAqwP47i6qbVmAYPNsEy2In4wn896cOD4nhifTrGvTAOejlqwHRyqaY00JfwIsZcO86dxHIG4UyVMB4TnmrG/P8oTtMWE1yUpUlClq5SBkM8wXJqzcowJXFe3fIpG/vieGI54MAbzkOcwXJly9dSwL6rn9jmAstUcWKJIcOA5SjDulg/r2ud/SOtPH8Z4xHKWHZSQl1rbRr6+OupR2RSh4ruZOL5tx3cbu8RHZ9TzWZ96eLE29pX3VigHHoqJ+MiwfaMRjInfKt8gBeu+YqF9FwBh+Fu8+UGWIRm0DxqDsX1z1LCgwbFBJBHQcbffdpvr7OAr0u0lClszRD+RflAb2fdLLaTY1zCqvy/q3+rz7bazRvsADr7PPfecW7t2rZs1a5a7TTB+6qmn/EWQUqEJqPkpWapG9QWRwe3Hqk1KzQC+htNjjz2mAzlRHe7GG290CxcuVEVNugm+5ZViUs6TtLTUChKR5K0nf6J4w05ph7WlFqL95RuDt3nzZnf//fdrdQ8++KC7+uqr3dSpU+OP8lblA+yiTHy4u5rT9lnf0WFD0akMinyipOVAJtENOLC+/rrr3ISJE3WABx7Wj9Vk0GQD32ae0LTyhJNpxA1lhx7m49wrVqxQfUxbt0pc7AQcdS+88ELvOeecg8TlR5MxGN3enmPcRIzlIu8Voc8xbiLGYgRzfJuIL3p48uTJOcZNxHj77bdXfK+55hozg73xDHHkCFlWisZuxxxzjNteZjFtbe3FE69oZGzTThlq+BLiE8dB3MA4hlV+eN/fGgtU+kuptOVGcdy4ce7555e7P/1JZt+yVHrqqae4SZMmx6O+kpIwFRW2kV5JnkoRVnGlPGlpHoy0lMzGiTTrSBdfBnbu7rvvlhl5tzv++OPdtGnTdMQ9alQs6qntoGw9rt789dCuJ289stFfnqlrw4YNbvHiRXIscbNnz3YHHHCAyPEkXT4lvTI/zKxREfj+kCIFF3aByX+cwZcNsxcKDo0QzQe/LVu2uIceelBmMMvdbrvv5vbZZx83ZvQYXa3T++Kiq1EO1URWsYrx87iDVLKP+isX0GwVR1vb2vxKx6JFi92LL75YhEesJUZwnyVawTjtrae5U04+WdexFSyTQhNmWo9Ao7H1H2PoAR9YcI2xWruD/MJoqisXn5q5jkhPF4N4//0PqJAvXbrUnXHGO93+++8vuLF1Kd2NEMH3Sx2SDpkwY/IcEmGchMPsJFdzFNdCRsd84sMw57hKcaThQiYsf9L3Of1vWM7yhemELT7ye0X4wAksWYrGIO6001z36U//s5s3b54okh5JH+VGcZ8x5ocABHC2nJogrGkWx4mFUUaFsmG8r8DSlEBTfwrKzRpmPFq1dm4KNOTNMEj6VrZAk+aiSNasWeN+/vOfi0H8jjvxxDe697znbCcjbV3q0z0Hks90sNVs1GLIpJ9CLiy9nC9mVvLXU6IcpezGe6xG6HLeypUr3YUXXuAuvfRSd+IJJwrG75VBx0QddIwSOR4hm8Vqddaz1fIjR6bPq+Vt1XTayJIpunj58ufdZz/7GW0KExNzbVzYZEShmLaYMXOm22GH2R547SlE0jvyYjxxGic/KrB2oimh8FrJME4zpfwIJcnuL5xq+X1erpP0i8XqLVRTnjZ5w/rCsmF8gVYhROu9S+NDFaeQGCn3X55++lk3ceIkzbzjjnPc/Pl7Slv9KEQxFB48J54i/IK3b2OhxvQQfBbzChVPKb1EMraUQjLHYJ+XtogYDCHyi9wsXbpMmUTowXjnnefqbJF0DsWzBBWPmzdy1RCzvLVi0TxUfVv8tVidG5FOz3r1rCk5wKa9vU1m3BtkZrij5pg+fYbgO0/uic9UZV1YZUrHUGPlh1mO1zcpFZVEhbTCcEnGIRDhO2j8+AluypSp2h6U9dy58+R8G7lP2yX3w72cW2NVPUT9amH8gqut05El+thfA4XSQyuEQdzqJkyYIHpgpBs7drw2r52V0MjJDNGjFyoKRiHsHLOb3qRZOqMTSug58UpIfonXE4sjkxzSH3SJz6eZ03+CvGSomN8Sq9D25iVmQ6haTDoLGttgPnQZmfbIzfIO2ZDQIZuVcCgEdpB1y/JpBJzG24/HmyRwtQZbapoPyhwFp6WKo4oTk2lSIBlVKJCFEC0qxYKLGDzxt7JUIY6lva6uTt3sAc6ko0y4ENJcfYqgHuMCP81CFdlIb0//21hMwWO7VZbzOnUWQyr4GubdXWA8SmKtrfQTYfMlKGFEuXeUzciJq+Ssr82vlLf10wxjdkDaBscuwZUdvODOrulwJ29lteBxr5yn9TGrrwXeIHbLjv/ublaN/LVjPrTEIBaE1sBjWsnyh+xfV3nWsGROKueii1FppwiuRKXEprejnrxQqJjfDLNkEkXp2wYndsGms6CxFemmlKuQnxoVSpkhtsnuJl220zhSNKAZojMfF/0mDaG2odBdQV5KF9qlj7/oqfxEhQwNm8XquRTz55xFKZI/fn6xmKziHVdjafjmpDqoKN/GjqWH54StvJXFD+PCcjBk5YsyUaagXL18eoIIuR1mCDkvklmfVX9zgxiAkRIEH48fHeM7B7xttoeiJr2q06IiJUKvujNBqZ7T50jkpw6tz/NbK5X0fAna6Zn6EOvp6nUjzI4dO8Zt2tQWY8mOSB7BYHZufVCpEm1y/FgctKPrsVKhYZPmdcWIEchquky0maI0IVdsUKIcJk9Ech66xLmXbzogay7iKWYtDgwIowixxzjCz3DTeM9CAlmNtGwhkx5jiSlpQiJCMhLjDZtP8zEFasXn0RmMRGU1Z4JsUb2WZn6BdLGyS6bbuflBuVT6pBflLTpRfo0EWBtG+GFY8aRoGthGIPf7jADQJnomlVZz4U9QT7uIUrmqJTJBu5YiNeXxdHVIGskvgzbD0st0Qa6rkfRNLvCaHFRXKz+U0w0b89Pa2paqI6RjFFJ+5PCgEvAk4vM0ipmIixhN5YU0E7fUDI2PlB6gE/Qw6r5X7CwTvhqQStBlgsv6mTCoU2W9fnJ5iRyBpiKAfi1nyLws136Rmuw3leGWIW56uDy+8S7T0jb5wqmmI9OapRZhIU9qy0phaGRMsspI8MsJfyOrHo60vCR40FEMuXLIihTUco1mhdcs8FHAK9OqNwtQVeQhqYBLM6caRB2hRJtn4nWnoGwvyiU4z1ZwaIlMbiz7Ll1eEpBUGxFmV2r73sqBL8kyXtKpzqhhxOGz1H5fqxdlM+xdAe/49uCwx6QvAFSXpVSDaJsRCoIfEmL7hbgwKsFbofsqZkuUauRpyEEj6TaWlimRslBKQg06JmIKKsWUis9C3ivgU75QSGCQwmnMEYeChSW/qkHIdveqLMuuPU0joSGOeipgWFQHjKXxXZRpQE5ql6U0djy2inb0qBC5kigUtVQzS6bQV9JFuTSm3E//eC5HNbvxVZGJAKkNl6rUsgtEUzgDj8qYyKaaUsejFSgStv/iuPYRfPIO3QFbxUsbGJrnKkp3Wg81gpVke4Vms6pqBLsxjTQmieMwKY0UNffCwVYOhbgiznEFNQbS+Kix6KBl6w/PEbaCYWGCKPQkGqo2uCtpmlVpfokJLSmREhEXTkkbelGlV6Zvf7H4Di9MGtPL1TFL3VTjN1eIEmGbOkYROoWroDG8ZYoKIhiKoTa4QRwmaRvZMD6s29LxG8lHSLdMGDaqy0yZwgMVnYaVYWl+1AxpS3Hu4rNSjqull5YYPjEeW78f2XAyHxQKYRR3Ul2EccWKvRYEC7Rryd26eXw7ozW4oBlh+wkPsF4IOGn9IPjZUdqa1CVTsgG5wi7SW1g6LSXQ+jFp4BDXKGf0xWeqHS+1WbxfzkuvjTz0Qu48AuCR5gxL88kjb7BXrQy+5cqFtGrJE+YfbmGPrVfWhpWP8zJNuPApszSjlxZXHUWrq3rO1s8R4any6lfnCsrb5Njy5Hqh/v427EIfKpx7l1gy9SDHUIcSnBzyGYWW9g2YgWrEQNc3UO3KYj0FIfcCH0t1FpltIZ5CXGFbzpNRLdSabLIaAko4PM8mx63JlceVVz+ai5dMeRtN+PR+kfrgRA5s4gj5qXYfsais1TTofsiVCZj5A8VcyMNA1VmmnnimWia9KDpDfBfxVelEeG5Ftis1KRNpKaCmRGWC1ZZlIgd0ILpO9xdIRbZXhjplyRSj4JdFCzvniJND+0X8eHZIfCvrGRoUtU1bMtA/Hr+BrrWkvvh6q4efuFAJucxG1NO8zDYia4zloDa/R3KMm4+x2LFoBTS8JdhGJBZy06aNMQ9FN3WHTN/QkMFuTAsalVgq8kCOAAikyPBgX1ZDrmNSMB5ybRz8Bpkh5MX0fACA8zbeoL5p0ya3Rd6oHk8EB5/XQeCgWVe1GWLzrWnhebm6uTDKpRmdCn7F66ofdCtU2dykcjwTHx7RqS4LS7ziUK5syHEtecL8wykc4hvgBLaGs8IRpJWFp6JgJkrVQi9RpGVPpa1FWCYbEmIRhpP58vN0BJA7cPMH30nFbe7Y7PgGJRPDto0bN+qncnju0L7Np7kq/Njtp2r3EiuQaFiSWXkjaNNgO6/Pb4aQFTrAOsLzZPHc0C2nIMhTLq2+ltWS28SFvEW4prDRP5xr4aZcHphJOsPSfNKTu/KSZZLnaXSTeRp3XoRvCtnBwzeFGY0ybM0nUsI6ira4SrKcpFurXEO7b84P8MuXzyrGXjb8Rg9/G8vwxa8H477h1tdSSZnOKr6mh40/Pnw9ftx4/a5q9NgFDy77oxYw6JZaxbkWen3JA/jwzGdnrGHEhTdI66Nb/sKpj06L5ga7iHXD1W+yoqf9h3XB1zDGz7bLFn/A5W9Z+C8X2NugTHZJI4/HeKt+gR57Y+nZxjob3BUwZk8EH41mo2BbCYb6LKVgywzBvp+JRvP9M/htSdetwnBmHbwVdDE4gmvfdfHANNSurba2Njdh4gS99vTzT6PEQqIODXL1o14J45gRMjtM77CBaQRLvCiTsWPHysd2O9yLL76oPoZx0qRJ8mXpKSUXQG2cNbNV0LbDuLFz8y0+6ZPeN0ffUTr0oVQSJ5qkvX20DC7aXHdPt3yMdIssIbziVq9e7TbLR41ZReBL03yFfvr06Xrw1WlzJlh23ly/HB4Wbz4fqyWcPJrLXUgdBQ36Hp9exVC/GygfKl6/bp175ZVXFFs+Zsw3SPn23TbbbCNfoJ/lpk71X0y3jxuHdAcvHGIJF3KuViSMJ1zN1ZLHaNSeF1Y6RT+0iS7gG4LgylLY6tWrRI47tB+IHz9+vMryzJkzVY/wEV5RKZJew/ccja2m+dKIGFMqsfbj2xHGEx54Z9c8cotM469a9apbs2aN3o+bMmWqmzFjhm/KwLNXoUbD0HANB6JyD5ERKW+kQRmaw/DptUwE4fhEwnJeIGUlBs63kTXK5Pbbb3d/+MMf3PLnntMR9Tvf+U532mmnqbAzOrFOq427ZrYK2uEBR+F5pborpVVvmXWd+ZSwcOh3yReke2RU9/TTT7s777jT3bPgHvfEE0+I0n7VLVq0UCuaPHmye/0RR7iDDj7YHXbooe41++2nxpHE+rBWcn34qYSFpUW+evzIQUOLlEwfqu5TEYyhn13DBEszrwqe9913n1tw7wL3yCOP6IDu0Ucedx1bNrmd5uzk5s6b6w4VbA8//HD32te+VpUKykabAw/ajogZuTCtD6OYJnsRngVuImEK42NOG8RL7fS45kcK3p2dXe7RRx8V/XCHu+eee9zSpUvdkiVLVMdtt90sN3uH2W7mrJmK7+tf/3q32267qWFUXRji26AW1EVG70Mxw7VSSWwND/Mt38D54NQus6oewXvUqBE6qAPnP/7xj6oz1q5d54488vXuIx/5iA7uOmV/Cno7Gy6Jp+fKr8zINYrCUGgtX8S16pBstECnsihcvjYPm0uefNJdf/317nOf+1wRhyiSTAh1EVfhSSzlYeSghhUvQbULJfLYo+7CCy90l19+eSpP62RW87sbb9SDDN/73vfcqaec4mbISJtRYubcIMONzIIvBm3M6DHu2eeedT/96U/dV77ylVSoSOdgoIdDvhnkzZs3T8+hlUk3mGxJ3TxY7ZdHR+qs8JZbbnHf+c53dOCRxGv9+nVqHIn/5S9/6U466ST3yU9+Uo0jS2f0VXaUt+c+S/0OL8pPNHB46aWX3M033+y+/e1vu4UL/cAZrntkpencc89VLLPEv0c07VetoMwQZYyZlOfkeVrxgYxDsXCsFYV81113uZ/97GfuN7/5jbLAEh7LqGvXrnVjxowZSLaGTl0iCwtlFvjN87/prr3mWjdx4kRVLMccc4zbc889HcujLN09JzNxw33smLHuYx/7mN4nOOuss7SMzmSiCyUT4HgZH1RWkFuWQhctXuS+9a1vucsuu0yX9tevX+8Of93h7uCDDtZZIEqD5X/k+7HHHtNZy3/+53/qsvVnP/tZx/IeS9nQy5wbRJbQXjozlHuFLO1fe+017u///h+KIGJQsd1222k+llHvvPNOWfVYpAONG2WAh1wzuGNAjTE0BZ4FrOEhC3wYoGDD4HfDhvXu3nvvc7/4xS90kEc6eoJbWa+++qrbeeedVe7JnyX+rR1J3y4rv06qFhCp9pItXRDlN5/TgTeTBiZTbpZAfve737mvfvWrEW9O77PwyIgJsPlxhjxQEQHwapOlcmYljJYxhjvuuKMq5q9//evuhBNOiJU1Qs0927/5m79xn//8593zzz+vtL/85S+73Xff3R177LEq+NZnFSseBokmiyiPl19+2V100UVqDFmee1JWOBhMvO1tb3OzZ89WBcPshDIYQ2Y33ArYa6+93A9/+EN31FFHube85S2aL3ODjgz0JUYM2fzLX/7i/v3f/l0U83gxjptk2e5I9+EPf9gdcsghqqxhFfyWLVvmrvzlle7//fD/ufnz5yvmyP9OO+0kx84ywO5sCSU+kNAjm+DMoOyZZ55xd9xxh/uv//qee+qpp5WNuXPnylJ1pw6kiciaIVcma/jRTTXeEGL8zABiEu3cDKGd217EGqj3I0uv3M+y0R/gf+lLX5IRyb1KcTvZdHDev/yLCjnLT9z3yl19CDCqZubC7Jr1f5SwKWtmMmeccYas/28nRP0InE01vN7v7/727+SZ1S3uH2QUzuyce7nXXnut23///dV4clG0woiwPrTqz20KBJwXLFjgvv/977s99tjDLV682H384x93//iP/6gKmHT6gPyMrqdNm6aKh81MzGRwl1xyiTvggAPcrrvsmvmde/Uj1f8S3M9ids2A+eUVK5TgfnJ/+wtf+IIuhTIosf5AqTNb3GGHHRyrHCz10S/cKnjDG97gtt9++3zgkegSsOOaRlYffvhhd/755yvWlu1fRBfvvffejtn2FVdcodGUaUXHHf9SBRbPGK1JZijtvLk+tWEMGTWz0xGQMYaTJ01WRXKpLDt94AMfUGFHqeeuPgRMwMGXXXg3/f73SoCZy9lnn633VdjluHmzvLBBRoQobLaod2zpcKPHjHYnnnCi3h/AGOJYRl28eInmYwTeqheDNqYBP2H7WaK77bbblCrGcN7cue4Uue86Z84c1ynY2gACRY0R5K0ZzGjOPPNMLcPS00033eTuv/9+19Xtd1gXBq4NYLaFSZgco8PYNMPAzNx73/Ned9BBB6kS79zSqUv+YA3GHODPDP01r3mN7oyk3J/+9CfVN5m8H24NGwQfnG12yOCZgQeOQfOFP7nQve9973PHHXecDuYGgb2GVpmVrT/FjRIBpwNGyvZ0RibbbrutLhv9+IIf6w1wlpB4BKBbFDUKOHf1I4Ax5L4gS3SXyz1ZRsa4o48+WneGMRrEMTjhwKEoUCrTtp2my6nEmVFduPCJ+B7XcF7WC40h+DBoYFepuf8jAw6W6XSpXyLBFKw5dBQuG0R4LABFzSyH5SkcxpT7jt615ug7Yr6hHnqC/QN33323e+GFF5T2EbIT+nVHvC6+h8VjZapPJC/yCs70E0bxTW96k1shs0rumzOT51aAyW+yLxvKeAsRM7zAkEcp5s2b5772ta/ppq93vP0dqjtUdiOd0UJNK2FV7yGq0svYNQb4LNvybOG73/1uNYAoEhQIsxbSGRnSEbmrHwFw4+Y3W/9x7BbbZ5993K677qrPcKEMwB8f0TCc8Vna223X3VRhs4SCe0IMIgobw2pLgJowzH7AR7GLfAwi2/7NsTzH7LtHHnMBX8lsSeqr3EvZHWfvKBtuDtIlKhIee/QxUfzr9HpQRS15hrvkI5ngjeyGgw42gzGzJg19gZ90YMiK074i8zie/2QVavny5W4fWf5rk5WnfLDtUTOZBssj5TEVNtJw7xvjyEBuS8eWWOZ9idb9TXwPMSMNQUmIEAM2S6LcP6EzEFCULc8a0Ulpgp6RFmSeDRTC5k2bdYcdzHLOs28zZ8xUXHXGIm/6MHWtSljyKeaiX6ZuO1VnMWYQX5EH+Rmo5M4jAF5gxUyQZWnCxIErfvvodvUlWOTIh5xPnDTR7S7G09xDDz8kG0U26EBwa74qorDYgI2BHc/MmmNn9KSJk3wewTPpDOMxY8e4ncRwTp85Q58PJd+qVavk5RTykgR5gD93BQSQWQZrO8+d6+aJz7XO0jPP2dpKHnla3ck+CT/SzFJT4IVNNbZ0gRJhqU6VNAIu/4A/FDpgsAQI7Hh+i3tc5thsgCK2WQrxKh/ISHQQx1IrM3dG4ebY5Wf9Yb6lDSdf2y4CbHghszi71026HeVwQfa5JcCjFjiWUFky5bEC70qVfJQwLD2U87PPPhu3neVPfftWFQXNZhywnTZ1W3nDTaeWR45zV4oA8ozj2reBL8vP/vWOpflbNUbmAPKmSpYfWX7IUCv8Qp1niM4IlTSx1kEZYrmlWEFRo2DtvgvMs5Q3JhgZV8J4rDzzyS5Tc9x74cF9yvghlqUML18xCy4kf20V5FVXOOR6Ix7DqHhFgw0LM1DBgNrr8UwB4Q/n5ehQkgw75Hj9Oru36nOAW62vYeOlznPnztXBNqXXyqvHuqKd0tqXYaXDPGzyaSt0wEE/DCVX2GWq07Kh1LS8LeUQQLARZGaHTz/1VJyNkfVIWZrGVVMG5GOWaI4NCSw3qTEMDIKlDyffFAeDTDaEsTkGQ4ZjNyTLqHYLgDj6Inkw+mZJD2f3sijDkTuPADiDzZq1a2JIuLelcqxD/Ti6JKB4SywvdebZW3NL5RlFrgsd1gn9ateBlRtWftnru2xCy8AzEsHYOsSsfMugPwiM0t84LnSWoVe+6h+dIE6XmkThWh7i0pwp/MLsx+fS5cHWvybSmtynOGYpbDLiHjjYgNc111zz/9l7E2jdqurOd997z6W9tFda8XovCCKIiCCNTQTR2BGfDUlFq/JsKqnkxRojI1aSZ8o0Zd5IypGRStWolKZ0aIyaRE3ZoqBJjEEwCAoiCqiA9I0XkL65Lbz5m2v/9557fXt/5zv3nK+59+x1zv7WWnPNNddc/zX36nbndzNususvvGgaLKFzMNixMuSNS1yfefCBB71cVuNy3kH3GAsOxzVu+/McZ1ohzg8SHKvsTvY4yeB6L9cQZ2q7rKrtrAd2/tXiSqrAFo2faLOOd6/fkiCgAY3ZtbaboNER0zHPNyCihNtLaf+aT5G3t6O6iRgQeSE6d+bheHiZ9z3+7//9v4t/tccEuCsXrIUb12egXXvttT5w8o5I3H72BRecVooJ4/k7fM+0i/6AGziACVv1ckwysGPS5rVFJiPcFGJ2mzutEHN6H9+1EfC7TJf3qbVrN/Cw2sWBb97Oo01QbzhtqDgNbPkmHyu+n7HHAP79299efNjeOHOyfSnk/PPP92ffzj33XH/MBR62VNlKvfueu4tLv3lp8elPf9rlsGpn+xT3hL0tSEsX68vZkV3WDptl5R1XiKMCIntn6x/85URXvPeXFwLpTLM6L/Nza3m1Ou2tZV1ZczqWxXYGaRDoLakyJh8Un/Rntngg/2Z7yF6rPq65cnCX3tq1T/FHM6p8ZYBnQnmO0beijbbd3hbkA2HOuMzjwgcYsOHctofBA/+KcL1xIXmHye3Tdk4EbK/AOjD7T0+cpc4shjUj3Tmr12s9CgLceo5jhcIW1KgDo7aaeMcpbtR8zrwMfjQ1oJM98cTnFrwwnXfvnnXWS6va82VxrlvJnXrqqf4GEF5D9iu/8it+LVGvyNPXXHqcE1rgChayX6istNl69nchZ5M+YayNDbZFkQGvHI+7JHuuaUrr/V0fgXKFSONHA1BcprPrA7GcaqiORFtxvHmGwZBrMWkVkraiujpe70SsI9GAyE1Z3HGqmz8kfzlh2lVXYbibPYh/wrOf7Vukr3rVq/yj1o/ZjTN6lIKt0f3tWiGPvhxiL6/n7tTH7IsN3PiEO+7446qHzcEXt5zPTnAFB26I4TqtHJMHn9jZarrLqafj3gnwjc8eclMOMoG4hLlLTE/fBRGwF/tRK5nILljDvkqtCPht/eXdi9XAxuqw/LOpd2u+qjO2dHXWMPKpojU2KJIunlYBy5BI58223nbzmTjwCkK+LALuXBekY+bj16vKa4Ws0lnlPGJvppF7un2WaC/7rJHw1UCr9OXqg6FWiEzsePVafElEFy7gSJvAW78jNj2Li0yzYsva94td+O2qdH/sYnnPNXfVph1eL056bk8/7bTTqrf932uvwKIj9msqQ/oCOmNWk7zQW4631vA+yL7DTojkA5YGRR6nAGNWIbQBr3CjI+fdmTheg8XWKC+s5iO2cs+21SWDKfgiK5cvvuXkP2kDGhM7vZhe1xLBTuEuPMCPdmBFyfcR5fgm4l52XoAzTr7Se3/XRiC733hIL7hr47BsakdHoEGLN82cYnc90jHguN3f3zZjq0TukMw7A+J0NPh8IeAHP/hhhRsdCdt+pPkMu+xQKoY+4AiAP/jwPlKtBMGfl33jb92y1Qe7u+68q7jMPngrxyeh2BoE/34wTNer2apnYrHWtpfBRjsWfBuRa4mOU0uXJhvdaq9rg5dPGrEzMrd6VcFKnOuI8HD0bjgC4LYrOV8hpu2BXalafV2GIaCTnRUHL+uV4wXJzK5lD20dgvLyVhpe1ybH4KqBsO+whcoQv1zlgZVjCup08CtX+bOh37/6+8VF9mFsXedlwsEzdr1rIgB+e9pNYXx5Qe62226zwbEcEDv6a2x1q317cuPGjZ4Nmz/t1NOLww4/zB/DmG+FqbKWvR/xtbbY2V22QozVUeVmc5bU1llL+2Fp4lnuPteu6GAPf+rhDsXRRx/t30bkU0Xc6MHMr61TAFuuu/CA+VVXXVXByApmzd5rFnSXapV5GQTArWvBQRqrRQ4m3Lfedqt/FBhYWDW+852/6V957y9pDRoKAyLfNeQ7nnJ8G/GOO273rWfRog/e2D+DIY++yHEdnJuacNoJUVrvNxEA97g6BNNOA29mnenYkAFxRvR2nAcHZW+QITMSb6AZqcKsqQF2fH0d/9hnHlu85jWv8XdsoudnP/vZ4pabb7a0tC0FjjpI53oXg+Zf/dVfEXX3dnvonE/u6JNGovd+QgCc0zXDervaMS23n0l/wu6K5AFxHsH4oj1y8X/+z//xu02R8KpXvspfpO7bpT2oFQLgxoSBQezMM890OtudF154YfG1r33Ndzt4E43sVz6r7ocfedi3Sj/+8Y9XXxV5ob1RaH+7Du4Tk6qUPhARaPTEZR9BO+gQL3GcMBed+Cy7mRwQI2h0AmxvcAh0gU0ahxz5SKPz0U0Lyiee3k8DHdesuM7C7Pqss85yWPhKO29I+aevftVemPygz7DpPDjorMGUmxAuuOAC70zAFveyl7/cb6iprts4tf8RAqy4uZORa1xgqNeL7WY3z6xevZvb9jZrj5vsResMhL/3+7/vN4qwgvnd3/3d4lhbudAGbOv1romABi8+bv2KV7zCn9uE42Mf+1hx2WWXFZu3bHbMZcf47HBwvfxLX/qSC+N6OB8h5xlQJnwMsr0bRMD71tgP+xoxDYZwx36bdmnri8FffXLkHyxtOpTqTTXTKb67VA1uW7dvLW637Q+MFkPWAMh7In/wg2v9a9kYMWlcA7vooovKux25+SB12LzNnrfg965GgJca47iOyMz41NNOLb512beKI488svgv/+W/+LNcL37xi/15OOXiy+T/8A//UPz5n/+5k2gLeF9w+hn+Tkjimqwoz3L2wQJMvvnNb/rK+/nPf76/z5QbQPjs0NzqOe9877///uK73/2ubZP+Q/GZz3zWVzzc7PGOd7yj+MVf/MXiAHs+scd20JLAl36CzpfzmwER++TuaT5c/Ud/9EfF/21vCOLl6tg5jk+eXf7ty4tP/f2nql2RtWsPLP7tm/+ty/AXexufbwiWqxzPuMx/sD8mcnyM+YYbbvD+Fkh4qQHfnqR/ZudIjjt3sXvuAGZCSDsxEBJfv2FDwbcomZQX1g3NUp8xkwMi4HH4Ox7t4jiz5j/8wz8U1g0fMDX7Y3Wjd0BGpg/Yy5TP/fmf97vHNHOJ6csxvNJu3uD5Nxwvnf6d3/6d4q1veYvfgs5zXX/wB3/gaQyKTDgw+HjNkMRf+7VfK3gfJzci+HXHvgNxzPIfVnof/vCHi49+7KN2R+RavyOSbT6252wmUdxt6d/9bn09lgHyP/2nd1pn/pbiqCOParxaLJe93OPqTBnwzjzzTLve+s5qwnap3aXLwSRv/fr0zcONd28sfnBt/bgQk2XeIPS8k5/nK8l+4jFoUfTF7GzwyBBb0e9617v8bvQ999qzeHzT48XcyrkCm8X5zpz1A9xj8OY3v3lAGG9feve73+3XxNnxYOKBfLXjQIYJE2ZyQAQcQMIR3mSgdzn42Kob5jZaZ75l8xZ/gHeWwB+m89jTbIuf6ytMEJh4vPSlLy3+7hOfKD7ykY8Un/vc56riL7Y7HXN30vOeV7zh9a8veOPKoYce5rPFWTHoXNdpxrE1ZsUbbEbMlt4111zjN3LozsZct0MPPdTfZMMk4/WGL2+soX16m82RGoxjfwx8/+E//AfvbP/yL//St6DhZLUSnzVUblbs7/p/3+UDKasftkrp0N2lS2Bi7X1DADvkLnTdXR5faCCAsFfeEbS1Y9uZnTwmz7O6MJnJARFw6UiYrbE6ecUrXmmdw6F+DcbfM2jGHwdNNQa+JVnDpfzI4ODa2G6779ZvO0WgyjA4Ypw8DM61RDqVc845x7c72B6hg4AHnxsWWE3yxQb49vEPCqetV3h6144Ag+Gf/umf+oDINdgH7KvsfKGBDgbseX6Tu3yPOuoZxfr1T7djvW/7k4brsW3HNWIDltgoW6dvsZ2O0+x64GX2fCHbe3feeafbNxM/7JxHhA4++OCCAZHtVPJtsWcS2WmqnPUhvoLp7dohEb6c+//rf/2vahECHSffI+UPdgudPhhst9mNfMcem+7khU76rNl2sIBYlemHBRRgPu+k5xXPs1WJLnbPB6TA5pkubQti9KJPv3azpQF4aquIgY59/he/6EX2XtN0TZDZMw4+rn8xSQHLWZ3lzRK6mtTxWAA3bbDtxC3/vDOWNHDExnnLDwMjYR7a10PmYN7b7egtClZs+T/fsD7RBju28ljVcF0RO6ZjXj1nA+Meu3scyWANHazltJ2n+HL2ZYNgcLxNiJngyXbBez4nXPFpA/qNWbXpmRwQBaCA3rZ9mwPJDG8+IDFpNRGdS2GXyfzuR6Pz7bPetSMgo8dYeUn30562zmbOfsXbZ9CcAHJsP2sw9C4kdCTi6f0aAWx2btWcr7BZZcu+vTMxY9UL1bFT4Yrtiq+W1IeGIQBesmMmz4QPOfgQ30JlQqxJMRhjz7JpBkPawttjWAHLPC3aIzt1T3LMMyCqTZRX7aL4rEE6kwNiBAng4vNtNIDAlB/5CVfzPOtsPL8NpL2bHwHhySuxnrBJyNZtmlokHMGe644ADK/455fcc/CcIWiqI8YXfrJpDYKi96jtGALCD1z1vG26z4AOPE3sfLJs4uWTh4M8HL0bRMAQ8nOfFEeoxCniTZpwJCwnTIWz6LPmz/yACGCxIZjlyakhFG/zydvWQG28PS0hIFzlC5cYV0eiNBm84r3fRGAFuxXWgWjQy/GL3OAcsY5pfXh0BCLGNZ51/9ElCd7enpvoOCY2DOILn10Ro51iQGw2TR2jQarVoJGZtcS4OGdxvrcrGpPw7v0agdiBiAptwa6cjUcbn0W7XnC9xpRBnXYu3vuMgH/VhwQaeXaojfLCdtH4rtx37dQDIvaWdwp5fBe1yZmrVt+BdDdJXKmIaz688vRo1zEseb0/iECOIRxtNPBcYT/cSNO7bgRy7PJ4d86dJ8X2cXo3SQTKiX6/JTNJ0GeoLDqR+ToS45ghjZeHKv1guDzaeb5a7vQrxPkqOHvp9SxUg+Ps6dhrNG4E5hsUx11+L79HoEdgEIF+hTiISU/pEegR6BHoEViGCPQD4pQbvd8cm3ID9MX3CPQI9AiUCPRbplM2hSdtRBw2KC7kjq5+G27KjdkX3yPQI7BTI9APiNNuPr/FbXpKLGTAnZ6WdcmjD/r1tdo6dx/qEegR6BHoRqDfMu3GZiIpw1aH41ZgZxsMF4aHIduPiQuDrOfuEVjmCAxfIYbbIPu+ZTyWMt+W6ThK3bUHwnEg1sscikDfOQyFZyGJPP7RPwKyEMRG5x1ld2nogIgAxkT7rV7Xk56R6ugrKPcAAEAASURBVM+A0Zsh58zWhECZkfIc4xjAxiEz13tSceqiQ2V6pzIPruLFh3UWrNpVzt6aEvVshKl3gzA84ufuiJh02Uek0z/oGF7ybKaO0kFK87Q2WAjayrlwn3Zq6JYKX7igkKMhL9CXW3A+85+LBi5waHbovICYU472IM6xwl7pEPdZJ2Mi0mzn84XjE0/wYuz0bcFRakG+hbodybPQMqbNn2yw26wbGLghj6gxnTs2Piq78S2E106cdP5E+XHgQxivS5lvdpTnX5CdjC6fDjQXDS1/6w40PrHWwD3quCTh1N78sqMSgQdC9JRPcTFMHCea/ESFnmQr3ukvwDY6ZXQkqEpgGA/YvR068o1CHrl+owjbBXh42SeYdOFiK8T6sz6qLy/QppG2WwORcdUqYiaEX/tZaQd0Tq/cQJ2hzOcnyQINSQZhojudKiO/k3GCCdI76iTadvv+HV874HNKejm5f3rGsME5Ti26dtFbWJcNye2uxE2VFs7yoa8ww2R48yEAWy3zxPZRfnylR9qwcGq5YRx1mvOqrWty6skbcSILkRwzzx+OeszHDU6c65z3fuJbNwEN+3XbtRQGx4hnDM8nf9T0JBNFEi5SKeZPeqJfTY1hUUWTD33kdq9VkLgl89Xi4MqnqfR5KgoQLRY2Ks6j8kXZu3IYPGj75AdjCZWe807DTlYMQ4bO98H8o7Bb0zfFErCyCJsN2mpHs0I1ZpDpQfIgUwYnP+dri8d8eXrShXOUmuWp04231ZF+kMGQE3qbGbs+csyXu9Ff37/LNRfabTJzXkdjxrAY1HFpKP7BZxkdvtXb7XGlfU7J/rSC2W7fw8OewR7f7cW2NsosA8o4zjRW7C0HuJYJwWB40larqeOwOgMaP/aPvcqG3XYNWb5TyueV+LDxUuPnOswA7EAw2rm4OGWZcPBh8yfNZnHEsWnilL8gOy3bDc/t33z6e4WRvxQuyU+ykYd8lSN/R8uJ+RXGz918dVJe+gJslUNjSZRlX8Ykmr5+rgHx+9//vn0Zfb9i8+bNZSPUWZ60Dma7fSuPTshXh3XSQCgZkPEN6j/AWxMS/zDjU0Xk13mnG2rTGR0xajqNq6++urjn7rtdyWuuuaZ45JFHHOOuetAefLV+PgDJ3yUjRwQdR+XN8yo+TMawNOWXPyqvjFn5uvSHfq3hint80+PFZZddVtx15502eUsGSHpXXnTpXROBiBf4YMebNm0qbrjhBmfEv/gbFxcHH3xw8dhjjzlNE7mmpHliJlvoa15Xxa3NZsXJRlRHaSZd2/QUT0yDXzKgO09ZTybKYHnzLbd4llvMv+SSS6ovzfuqnByeyVlaf6SrJ6pAIjHcmnMRRAERdVtseTF/V3g+lUM+JnH0xRs3bizuu+8+zwkNvByze396z5N33XXXkzfddNOTv/RLv0TW/hgzBtax9BiPEWPrVJ5cPWebH2MsY7nL3m+//Xp8x2xfa9as6TEeI8b777+/43vBBRc8aYu/J22y96StEJmdlaOjj5dFcdZZZxVPecpTfGGyevVu5rN8T8M+i2FbHjqnWqvMNuClURcynKM6yhmVP05FRpU/aT5bkdmWxyo7HnrooeLyyy/32cnZZ7+0OPDAtWlW0qKSvkyvJGbrjVlfmdC14lG+Xc2PqxbVDVyEAyvwb3zjX4tVtu3/mnPOKfbaay/fMs2vdymv/DZslbYcfcfTTi+3wwAAuxrXX3+973asW7euOOGEExxjtlEXdDb6an2lbQemVbvaLxRVBYelVUxjDuyIfdCvNrby6Na8e7OAzmdwMLLkU1dW4T/+8Y8d4w0bNhTHH398YRMQmDyf42x8vVs4Ak/Y/Ryr5lb57txVV11VPPDAA94/gD+H3VRDg6RtPWF87rnnFi972cuMkQLViqlw3x0uB0SlppT2X9owuSpgpdVSaypcqZHTL+aUtEuhZti5XeFoGCkHaYt3UZa0jGWNWkLKqy3TO+64wwfEt7/93xennHJK40RAIo0SO4CEn8pvL3NHtGqXNOPU0kAjPmgcMfvGN75RfPWf/7k4+KCDi1//9V8v1q9fHwZEbgKZ8TrOoHrgi+OmsPvvf6D49Kc/7Z01E+e3ve1txSEHH1Js2brFJ30jq182hK755m0qOV10pU/SFw7zlekmNqqhObSph+MSCQcD4t/+zd84xi9/+cuLf/fv/l2xdu1av0bL5BpMZgmX+fCYpXQmbnvuuWdx+223F//53f+5uPHGGxvq2WMXdYey0i7m4g444IBiw4YNFlpRbNmy1U+E8pwwZhsly8h81xBd2Bh/dhaj0Il0y803F4/aDBt36KGHFuuts1ZaDpPo+ArnPH08IQA+fuOB+WttZwO30jrvg55yULHuaU/z67AJw+7RkP5rZ7GnVOsx/2J3FCHfglxD3GOPPQvbavLC99133+Lwww8vDj/scL/RBszHgeE4ZHoFFvCzkHNQ+sofVozBa85/fDDkehY3fOxhnTbuILPnI488sthnn30cY9oAuTqcqf8ZGQEGRO0a7bHHHlU+tW/1HCKrRDXgdrtxhoxP2oiH/8QT4cnDCQyIUq7SNgtIT/lZ8sSjw/RFR6X7DTKlduCaME4nQ6608uArnPP08YQA+GhA9DsdjcxMe5vd/LV5y5Z0B6TF2+wFmo6VtFUJKkNnW7hMHvDELz9naKNH2kLCC+Edpofk5D55HJMUaIigwwZbHD5x2fLKJ/sBEVxkZ/KhdTozsnLq0cBT5zx9BndMO+623Yejr/Z/s9feLQwB2Sp9g85wYY3vb6ohwMmvBnTAPU5hqcNQJmMyOamr0IkE15I59UJDBKKLdB3CNlNJ6BvNdz79SRfmY8F5ptDZcWUaOMUOogTb74Yu7ZVSmq0AAUpiDmzVYEieNpPkjFG+yNPF2+QmR1NuzMfrMCQ70hWWj4z5eOGRQ+dacl2+5MkHDre90mYjxpKFX9kw8NkhnSPPYsNVGYsVtMj8XRjkYqXvyFiAXQV8Lq2M0w4rbLLBo0WyV/L1bkEIqG3IlNqnBlF9bXh1W90qJNadA+E6LSSkYC1zQcq1Masc+W08osHTqKAZSk6Dt402H11lSH6bPl7tskzxd/nKH1B0vUQfyGeM3nnRDjzeMu8ZMyBhlyWoTVTBiGEjbLgBm7Ajnx+p51b2yoZyuRVDR2DkDs/yL4SX4hbCPzZew0sOXHWIhi9a8hPWvBABiJfKIXuhbbNUZUc56DGKk77Y3Sht0yk3K47mqGCtAqNo1PMIgU6sSwbS012mGLxyNXxOhERoCBPRGkbBRrZFRFSO/FFFiV9+zNdGI72LrrzD0h2WESs/VE4po40Hmv+NWI703mV9OoIWQ3WcMhxX+OuUrBMJHbvjslSdSYcurdgvhLdVwBSI4Gx653YZsZZWiSc1jPckLW0k3oX6tF+uw0JlLBX/KHpIXwZDx2K+wg0r8TXkZ3aaBtdEbPDNJ79PbyAAdjpigjD1h7U8YcCIyZjOZDEnvtrwx9lPD3RkUfudNNzAsayD08JJoapF3lGwiPySscv5LThRR+oej656t83YyRc7sXoa3iWlpA+cL0P4F8I7RMwkk7yTDnoLp1wH6LkTntC7wsoj25YcxZU+S37UTXi4j5LZxCvHb1g9VHd4qnA2ICKPP2xYduzxslzpIxkR92Fl92k15mDoN9UQ0CGAkp1DTxTS3eF7mObo3SgIVNgF5og3SMZ4YFtQsK2cBQnYSZmFnXyqwfNGctC9g8Bihxltmv8pW++3IDCKjUWerrBEx3RoeVx8s+hLVzcp9Y87oGglx2WkkVCDngbh2Ns2wqFcyUGFGN4BlXbpLGAT8VEc368hAnqc4CRmMrWtEB1uSzM/m8Xs0iguReWC8UpcbIyEu1J6f2IIlLYM/uqAJlb2TlJQtNNKZcNN9IrWBxaHQEsf4ZO4gHVvo4uDuC237pyuBsQ0wtWsydDbDJ6WgY8Bs+bvQ90IgCWO3whZTU8zFsWduf8ZGYFkq81ZH0BXeBJuIJ+JLleGdDRVnoylj9YICKOIqdqg5upDoyJQ4al+wnzR3I6x3tDZxvCoZfR8CQGwi4dw0Qsi7MMWc/5mBL2cF4Zo6MqQ+7Fjz9P6+BAEgmHD5cbdgzkEsB1NqkHFnrUFtaPSlns+dSLLHYdx139Y36s26FeIS9sKPOO56fFNPu7N8ZknBkWIvAVhXuf9jP3g91um88LVxeADYVdiT99hBIRrNRxWgSEiS1smb9/ZDMGpT+oR2IUQ0LnOeb95y2av2Rzv2DzwwAP9bR6E5VjIwIjPT92vkABXmaYMvd+JgHfS5UVaNQLMTi9zJaxrlDuF9QkDCAi7NjxluTFtQEC/ZToASU4QfvJJJ5wfeb4+Pj8CwlR+6Gw9szCWpIpPhN4fGYGIpRaAvMKN15WS5u9kI4FD+6ga8FIp6lKIMRimA693wxFoGK5wK7OoYeRLUiOPiL0/LwJduOX4tgoqbblLRmueZUgchs+wtGlCNat6tWKCHdK9pg7YWRph60N2qvq0VnJ6RGEnX4sTxj3GP3ZK/bEL7rCBSQw0AvHUh3c1QkqfXvV2jpITjglbt3dAzZx48HHyM7Y+2oEAeMl2xZLHh2LarxAF21AfDNtwFE3+UCFTSJxVvQSF9DN00x+DovoJ7zRC3DJVaRLQ+yMjIOzw1UcQ1hi4UgwNid4gUFIHXaeVCX5ipOSco+btQ2ArfN2nEQIsMT2QZy4oPVWXWVMw6hd1FH1efUsjjnnnzbOEDLmeeXwJi9phURGbrvAOCx9jxlnEcmh13RbrXlWDJHl2uroMrejkE2W38ts0qN5lOshEZ85t6N4SA0Mjg6Xarm6+tiImSUvPUw7WZZI6DJYlfSJOogEwYR2DuadLqfScrhojlR511XNFnhHg40wkk+aWbDzMGKOMjG2s0VhuDI+10AUIH6qTYUf6UJ4FlLWUrLlO5WbAUhaxaFnSUX67wNntI6K+Ood0usU+L/JNKwzGWhlKB+lMWvNNNeWwR4Ia50n73NMT9lmXylmaJaaoal0lTj6gpS6V8k8AlSq0VXzS2glDx4ubaoSbFCmhbOBtaTMAq7d/pT86lTcFiaa4qjJtX3rJl5GjFwPeKI9dkHdS9ZKe+Ngw5eoiv7AUD/FJ6aWy23z08UP9BMhCK+NteaZFi9hJb/oHvhpBn6b0WcA1YuRoZpgm/SPXbIfB2M86qweOOo1y/jnzmH7U3q4PH0xwjFNh0X59hZgANzJfCDBXN0CZsaxYmQhHHfTQdH7QE4PmYqjrbB0LwwlhnHyPTPEHbRjk8KNOhJ9gwuG4J51Rsw4Rm6yL+oEtBx2Jr7hKXNH3yRWTGzzmQyDqLF51dJ6mBlDiEL9N1hD2HUrKy1hpHQgf1+Uub31fUIIb9RBxCn5DZxmo/FKfBs8UdGwrErvFfjmYcLhNb19hH41O33VEZ2Hcln/iNGFa+hFT6RlpE9evo0B0Etb0x3RiT5T9BVnioNMhYiJk15Nv+prj/f84BmvoHNUHglNS+UtjwODdeKJRN+sb3cVwokzuF6VxGAfAb7EPwD5iX6HftGlTwTOV3EKLPytO+srX6o+4TspZ0lW40jE/+OCDxaOPPuqdNF/xplM59NBDq693cwJQDzr0aRs8egtj4Ul82npJF3zpR8dM+NHSbh97/HF/7Am75eBL9HzVGx7aAafO0CNT+nE8TafoRMOfBSc9vFM2hTZv3uw2/Ogjj/oHo7HhfdbsU6xZs3exu/UV4ArGs4Av+LnFZliqTvizoqfaGp1W+siywvrgzdYfb/aJh2wZvGfJRSwzmF3N1muIqRtJBo6AWgh5RLegencXNf4fjEGdCR30DTfcUHz7W98qfnzjjT4ovvSlLy1e8pKXuNHQWc+K8YAfujiO5rszGIXr+JEbXoL0oBN5+OGHi1tuvqW45tprimuvvbb46U9/WjxuHTa477777sUznvGM4thjj/Xj8MMP9w58+7bUaQ8vZTKpqktl7CXO09qyQR/NnLEBVoEPPPBAceWVVxbXX399ceeddxb33ntvwZuiSOd5qKOecVRxzNHHFM985jOLQw45xIFTvWbFpmNrSrdIm1YYO8WO77rrLrffH//4x8Wtt97qONMOpB900EHF4YcdVpzwnOcUJ510UrHfvvsVW7ZumY3+InWvA30DGOuYFRsAT7BGn9tvv9364m+7TfOQ+/r164tzzjnH7Zmv1E9b58pGy/7A42UnIVzxqwFxdAOmQy9bbfRMi+ZEWUDFp5P+lg2Ef/+pvy++dP6XKtlr164tzjzzzCo+0wGD0ZfqU8Ayx4VZHF+HuOWWW4p/+Zd/KT7/+c8X3/jGN3K2RvwXf/EXi3PPPbc49dRTi7333ttn2bTN7LjZ0AWb5QBjfDro888/v/gf/+N/+MDYhdfq1XPF29729uLNb3pT8Yyjj646ni7+5U7H9jhYEV73o+uKL5z3heKLX/picfNNN3dCQ3v87u/+bvH617++eNrTnlYNQtBn0aHXrOjGYMjx0EMPFd/97neLz33uc8Xf/M3fVLC98IUvLM4+++yCPpl2mRW9KwUJlM2Mh37o2b5lCjMjKX7lFCPBDqQQrNKXPiAQUZSZHVsbP/zhD73DpkPBsbXEyuX+++/3dFaOxNUI+NN0sQ5RD/TyvynpJwPAqHdbvVtx58Y7i49+9KPF//yf/9OMI2pa+DYp2N9zzz2eQFt88pOf9BPh3e9+d3HWWWfZShHMm6vySWCveuRliV7VBDOweuV8VfoYA5pFY7t/8Rd/UXzqU5/yATIWecwxxxTXXXddRQLPD37wg76y+X9+7deKk573PB8Uaa9pOrdb2SznfxnO/UnpqHbGx0a/+c1vFn/+5/+tuOyybw2owIr7Rz/6kdO1lfcnf/InxU033VT88i//su96YNuqy4CAMRJUj9Y+IWA8Dd2oNvrhKD9NoLf7qvDrF11UvOeP3mPb/496+lOe8hTf8dhnn30qfuks3xOm9AO+uYMi3aoVoghiTtmcFXaR66CR/OtQdcqSh6QTDcCq8CID/yMf+YgbvQojTS8mZzsqdhjKL95p+LkOAckayykohl5gBX73P3B/8aUvfckHw6faNugdto3H6u/lL395sX79et8Whe+eu+8p/umr/1R84AMf8OuIdPDvf//7i8Ns++m5Jz63iF11Xu9xVTGWQ1jxeAI7HRtugD8ujZpyvWy7CemujXcVH/vYx3wwZBt048aNxS/90i8VZ9qOxrp163wSR2fMCvIzn/lM8YUvfMFxpV2Y9B1i125ZxUzLRWylgzoXYS5f6ZPwsWFuBlw1t8ovofzlX/5lYzD8jd/4jYLVyn777ef3F7CCvOaaa3zyx8qGQfITn/hEscHsHDuGD9vB3ifpKuxyGy3NVvjjy7anoR+4sCq84ooris+anX7q7/++oQYLkjZX1a8tcQK0qnzwDP0ERSuO31ghxkzGZf1HmhUoU4q6xImsEJ+wGd82O+gkWJIzu5b7uZ/7ueKoo47yRrn1tttEdmNRBTGcqk4Vx2QDUQfXxXCtXd2B17TJhIQL1/+uvvrq4kMf+lCxu61KGAx/9Vd/tXjrW99aHP0M26pbvcpu+CivARxfFM867ll+XeC9732vdx7MyC+//HK/trin3aQgudQihsdVK+Gbl5XHVX4XXelL4UedGOQ2bd5UXHzxxb7i46YkdjN+//d/36+xcB2WiRwdDTcisFI84ogj/Maaj3/84z5Y/r11Omw/MfvmprFJ1KELh7xsxXO/K/9S0sHZB0Q7px66/6Hia1/7WnHhhRd6H8Ak47d+67cK7ivYf//9HTPh/KxnPavYsGFD8d//+38vvv71r7sdn/fF84pTnv/84owzzkgrIBto1Y5LqXOXLJVFryss4c3jTmv0IV0Sx0NnF+PLX/5y8bd/+7fFzTff7IW84hWvKE4//XS/Ln7eeedVBVMPHRBjvSqmCQfAU64NxmoaFJX1RvBczQq5LMljXJTkcfgmnNt26TzYYtJgyB1N//VP/mvxnve8p3j1q189MJObuQZoQx28wG+sAA5vFLX3Pffe4ytvjJtb/0888URfHdIxcxfsY4897nfyMvMjz1Of+tSCycgrX/lKvwuVUj5vk5XrbCtqO7P1slLyh2ux+NRYTgwj2e3Y9IGuY/Elzi8hL+vuu+/264bk/MlPfuLXrLjhYL2tSuTIw81LdPDPfvazC67RnnraaX5DCDz/+I//6FvWXHeehot1Ihyd4vJj2jjDlMdAwpY0N4IxIOKgg99rXvMaHwy1E4L/uN2NziWV59vgBw+OScrVV1/jgyN3rDOJ0UDrDBP4EXby8yKh68jTxh2nXHBmdc29BX/8x3/sg+Eqm8T9zu/8TvF7v/d7xS/8wi8URx65oVIlr0cerxgnFKiw837Xe4ZGyUpvrBAzDjaOK1KjQgaQn5cIrziWMGDlcj2KWTN3KHHHGI6Vy5lnvsRu5DjN7757+KGHi3t+eq/PsPOlOvpq1rWEmi1YVNQhYpiaJBn5goUuQQaw5ZEVVoesRA4++OCCjpsbDFihgCfYwydHJ8FJwez7ta99bfGVr3zFVzKXXnZZce0Pri2OO/54X+XorrJYX8lYal/4qiz50H3SoQIxVEjY7pidykAHsGBr+YILLvBtZu7iZUa9fv16xxKl9NgKWIMx+Y62G2nOsu3Ubxm2tA3bqFzn2rBhQ7F9y/Tu6lXdHELO/xLP3B8zxI4RWM3NcZlke3H5Fd/2VTjlMqF4wQte4LbIdUV2PtCPY7UNntg2g97JJ5/s29bYP452uu+++3wQlV15wgR+YnnS1YsNGEsNYa34OP2oVz0aFMVb3vKW4md+5md8Zchdu+lu9E2VKsoX6zJJvStFsgD9rg9asRsIfUJ1DTFxlbnLPGZBlSFVcpUZnohQxbAEgbLcuVVz3okw03vjG95YnHDCCcURTzvCTwaeOwTgrdu2NFSndAEvfwk0WnoRNIiwXHrpQyWCCwbLwfUAbvvnOhXXUMB4zZo1foMC6XLkoXPHZ9uORy+OtM75RrshAXfnnXf5s6DMvrljldXmJFxs4xiuyjZ99ecnQpUwvoBwAz3s9Pvf/74XxmD4sz/7s8WxzzzWO2SIc3bti5czREc9eBaRjp3VD/lwbFcdd9xx3tFr4Iz5xhlGpxxfcMWJLn+ceki29MFEmchdccV3lOR3Pq9fv97t2+8rMHzFH22A64XH2yQOR5vx6ADnAhM+HHnUlk4Y44+wk6+iIsaqw6R0Qgfp45MP29oHLy6vPM9u8jr4oIPtksqcT+LANU6epb98yVF80n5VvukpTKMOwrZaIVrbV5X3DBDMSPBw8qsIZ7sLd8rS/li5NDp6cEs/23OAzTUWHFtLe+6xZ1lmqYjFVCkSKgBKrml6lS4BROoGtEqjFrkroc/Ji46rTDprOhMcNyYx42NLFJxZPXobRJ0tzIlBfjoTHgfQgHjHHXe4DF2vQabKITwuJx3zshxf0xO6jnHpkMtFJ/74f8gGs+/YDQhyPPe29ilry9V3enPKgO6mMwMhN9FwDYztUhyPxdBOOg/yfCpjnH6OpeLSRf44dYiyWQEykP3gBz+oyDwry6SOVaDrZynSU0zko295+tOf7iS+CcvNNjfbpQMmIkzsmABOysmOKa+JoRmR97N1b9BMn4yGKpMJ83Ps+c299tzT+y/6CXDG1nMnzJVXfs43qbjrQ79b9gkqt0bWBnWIFUOZQpzrd6L7q7pC3AV5I0nkEvtWFk6zYDoHHFsdHG48sWKhMaSzZ5ixnwg8dcCK0i9BC+XHGPUHJx4QpxOQe84Jz/GHlLlrj/ToIq4MpN5hr6vveuTaGBMVnyVaVfL8UdZShlWO9FPcz1YrSHGlL2XZXbIMPRXvnfWVV11VsXKHqW6M8Td8NGF2PukMHyt3uYfsEgFb1jjxKG3c/ij4TVInlUUf8dCDDzUGxMMOPcwnDeIxsAbwYkBk9Uh7PMc6ebb8cLyZCZmTdtJVfl1+aU1mJ6QNptec4w5RNuc9x2YbCOmL5ebTa750yRmXX5XfON/KSImr148fzU50GqfMgK+7NAknVX3dpoiRGvLHVRuTmwaQuiNAR/6ke150qkNOnU680iXi5mFqULqQJhKJgaMiL0UAnRjAuGYit9/++xWrd7MtkHILr9K7ZPC46bRtW3rWk45HjpUmNyRwZzAuzyu+cfiUldtBjE9SF68fjbqCTnWF33h0rz2/SedLB8IAR4fyJJ2uTYC8fSsjqNFBZ54PbQ6IDxaby0sFcE68Xi1lSgd8hetajD9EmbwZJbrddltdbUlHvaJ+2unwnSdbDcox2VMa/rBtQOVZKt/145yPWGIbMe7RFoNZKiXmkdOFIdnUR8ew6hLzzVPE2JJdF864Ek/z3EU0qxVirgXMqoQywhMzx3CefyJxFAhKSN+JlL0DhQRVPXfEdQfELSoLJzurDbb05Oh809cAck3FkXxS2SZhW0pOA+IW6/SRPStONiF/EnpRllbZekZWmOxpW00rbSDUDkybPtJ1r7338kdcxOOveLNJzDSc1yk32DIufSepl8oEV66Dy/Hqu33329cHMvEorc1nFc5NIXJMENkGVH1HkaG84/J1NkqncZUzitw46Im/C6MuuvJN0q90EZhZ4cJ2B+586JCYFTCxKHuOmasqn9H7aI0AGG22l/HeV24VkUJnvWqlXQ/ocH4yGN7MmjnmuHZQusdsq0k33UCalTZIm9LScrI+gyKdK054MJHQYAhN9DbNuI61d9gy5WXrk7yu1aZTk9Zy8jUZxhrDHtn6jLscXBM88MC11QqxSwHZMC/65llQOV0LV7vIV/q4fbOIcRexJPLbcGmjLUlhExTiN9VgWFRGFfKwNQzmnmikJa1qWopPo/mSrql8blnfZn9ysQ6iTduXTq6HYY2rcR2CoCWN4wShvZlZP/rYo/Zs2922Lbe33azxaNp2pMRgC65s9kN+BsOVYUBULWJdYzgTsaRR6Ssf4Qq7DihnsHt4SUvuFka7UZ5WhjxGhIvnmsKDUlLexN+cszbqNZhx7BSVT0HUUS7SRRunT3k4BkS+GiIHprioj8LKo3T8FfZcc9wW1ddd4KXtSIv5yDMu5+VYtWJ5yY4yWln3cekxqlz0jEfMpzp0pUfeSYVdl5b+TbqiR+eWqdWUf3fyiTROgpQ88d9UATcV7+iiArPUAFGvKlz3IY5vxLbiKQMR6zxtR+NqfE523zK1GzX22KO+hoJc8bSVgU4+uw6DYc2XKjcsf807mVCyEvsdBvQSq+JlGRRgvH17mqyp+NRhNyegefHOG+wkT0/xeRnas+0glTq1YdhF38FiRs4mXdyOy1U4mYlXOgWIxJ8XAJ08uXP+kD9PH0dctppkx8JTuKrXOApfoMyIZwznYoal5bzjjFd6RFhDgaRzNFaIIb0KSpD8uELskF3lHWfA9TEFMOaubTHpPE49RpEtPfD5qx1hGqKmNEJGb/I3Unc4In1qAbUCSpNf89ShNp28bhJTGledY7yhVDY4poPSqtUXOnFMaYW43Z7JjC6tRpq6xnTC4Ot/LfaCrdRYC/BcwnjiEd+8hGFpOe9SxSkzd1W7WwIY+n/JF/ljuCmjnKykFmjYVJNvDDGqUx5VzagCdhDqGsNj0GJkkbleeUbpOR9fnm9ccdeDdq3wTChLT8rtXCGCvxjlk8GNjMAUnfSRweeqKD2nz0S8tHR0TBh3azUOrCM23NyRXLnNxEy5MpZ2vUr1PTHKIkxn5B1Se9axUqMuSblUHBj6H2CbG+BLbEv6KyzwY3kMhsJoaIHluZfnj9shg2lDJS46MdZDwqRDW5p4xuWrTOmgcuKAKBq++Oej0cO5wyuDMc+4w7JXlU1cLq+r6NPwI55denXRp6pvDWdDDenaukJMlU05FS77k3BdMcnrkN8obBwR1ysrXJWivKT3OEpeuMyGLhqDXAwVoNPskGn0eEJ0cC2YjD50zrvZTRtsl0qlTXbXKe8j5anPhs6hhJTXrh9yU035fCjJ3E1JGjeNdHVKQcySBimXMqODxuH9CfhasvicHpmXOFyVbXL9oeVSPrsZ2tKDNJ8eeXra2ivrVcrMeUryWDzVS2UK85w+lsJbhFIudhjvdubGIz0fJz1zH1HSWW0i8dylytuDPE9pUsovnnH5Xg62yhGcdBVpUvqovC5/VL1yvi5546a7Ht7fNs8ha+yq6MYKMQLtfUnJF/gbHXQtppI3kYD09MGCji6zoFlqgAiI9IaWdJTfjmReryhrR8PCho6aN3XwZprHylv56Uiko/xYjvLynCJ3O/Ico9wxxxztz8xpMGzLL95x+NItlw2G/lca8aT0ohww1nOEfN8Qx8RBHba2+nOdFIcvYkxnzWMCOPF4ZAI/beVF2jhsdb5qMZgxIPJ2JBzhG2+80THT87CSkXStzzPi5Kc94l2qvOh7tT3/GV2sZ6Qvdbiy1aw/UznoMSldVGaXH/UYplfk65I1CXqlR20CVbGQVIfWFWI+8zN2y5DyM2mS8BbZVSHjDrgOpgAngc27q+KkG4QYrhgmHECHhh4C0vWoEWzwSEdL5iRZakdZ4EZnvd9++9vntW70IjRbli7y8/Lho6PWa99If/q69Xa7+4HVCkgDY553HHH0VHnSmbsHPQx8HBNcIVJHymYFzaQDx8PiW+wBcj6kykCn1695ov1Ib+IKb92y1d8mJB5e8h0/vCr6pHz0km4qs6IZxnmaeMbhqyzanceFcGDKg/WbHq8frocuXlOfGD/uuEOVtzXxeTm5tWbDTGSwcfWDpEmG+Mbio5oOFVDGY/kxLLZp+OgxTBelzcc3Cd29HzUs8aVPsgcrHYzxjNBYISay9R1p1KsqW2Ukk+cuJXhcuSbnC+i8xLqiqdJ5+qTj0kfl5nqDazpqPMWLnxovUhYflk6c9LyPNH509oYbbigeLh9yRqNcX0qHxmDKzJp3SModuPZAfxtLfhOJ0sft57oq7hiCZGnE8sepD2XoAJeDnnKQvxKMMplEcHcvq0N063J0yHy4mYfx5fgeor/lpqyL6JPw58NtvvRx6EiZ2CITMZxW3rfcekvBCyI0SSIt6keYNPLymAVffJE71F5wz1uFIr/Sxu1TZvxTebITT59C20uP6Ed8pFdOgz/SYv6Jh3WqyQ8KOOYlrr5CJE2VIuxvKylpxAcq5ULVTJYO0wSddB3QK9NhvvSMfWzRhh7VtS5Q09GCMdoI5yUGmM6WLU++qMBHgOWu/O6Vvn1Kp8vsGVfpjg42UeJLFqTz7sdrr73Wefjhhb88RM5jBrEjqhjGGEBHlSl9qaM701u0yDdGdVKxphMYHnLwIcXJp5zsn8oi4dbbbvVOeD/DnncE5066oj8PidMmVjkqUTz3uc/1Vf1A2+RCxhBHL+kWfYUpMobHoMKASMpjYseAiP1973vfcx62TR+xlfj+9ipC6SQfBrBl0OOlCZrUYdO8uJpVuFaIDJiTdujpupam4b2sbFj+pJXqKK/S1dIjvmIXLfIpbdJ+rovi0kM6trY4nUtygyesUiRo0r4q4r4po+swk9Zj8eVNF0nw43oUn9PC8emny799uX3G6U6fadNByA58sGHuanm22YDHm1borJlZq9NYZ19m2Mu2B4kr3+IxWoSEzHSnoRN4sWXK1xfkrrzySl8l0iE7rsYjJx3xmbCwlbfxJxv9JQjPOOoo/zID8sSnfMvVB1+wOPCAA/0bnsLhtltvtXfIPuBR+ofKJqt+LV1qecA+Pn5V+eJ18Ob6Idcj4ZdsyZycT7/Q0Td0kCenW3dJO41NCkP5WZVaB0SMwcb8jDVR8rRBroFsiyZQJrM6ZsasUDBeDxvNZ1BlCeKDNx5J50WrsWABlNso23FNYlJamlk1eEIpsW6BvOggxstrxfDXPW1dccwzj6m+uXfhhRcWGzduNPwMa/At64AP7nQWG+3LFl//+tddD3jOPPNMG1if5jNr1UX+opUdUUBentfR8gpDpcsfUeyi2ChLKw8EHX74U/3biJdeeqldu3qw6njh45B9w8vHar/85S8TdNx/1j4qzJap2sQyeNqkf9rwk/7o0pY+Th3BbJ9996m+a8gHgM/74hcdZ7ZQV82lwc31MsxSv5Dw5nNafFqLL17gWIHr82WTrgflpzIH+97chuGdlkPHhGGzj63sMigW+ZRvGrgGlegQEs7x9Ann0koU1KGMqXJkNEpMLzPiVXlCumhL5QtQOmFm1Bx0MDpW29ey62fp0i3u4ou+ZnxLpdeocoSn+D1eYpjS6lYRT/TVeJG2FGHKZqWHrA1Hbihe9cpX+ZcquJ744Q9/qPjOd75j23qPeYfN9hGDCz4rSq4d/vM//3PxsY99rLrdne9VHnHEEalDL+2BMpZC11FlxPIIc1MNtisMlS5/VLk7yqdywI2P+vKR6zvvvAOyb59+7/vf82uJq+wj2ODLhNVxtlv+f3LXT4ovfelLxSWXXFKtfE4//XTvrJmUuE7Gv6O6LSYf+pNfri28GPkLyQte9BHcHHbaaaf7tulWwwfHZOK6H/3IJhPb3Y6lLzfe7L77bsX1111ffNEwvu2223wC+Pznn+ITO25a0rXIheiyFLzSUbI8DtSYcYa5eCbtg3nsW2MYW5eLfTY89Nn40NWvT1p3Lw8wzaVJhsIJX9Kru0xVkdovB0ojcLJ6e6zwlilWEDFgcC6y/AEsOYTLRbpoSictD+uGA+iARyfM3WPMBkXDsO+293AW9okqyecZpLtsy2+NGTW80Dl4Tok70ZAlp3KVV3R8yoj0Af2yekbemF/5JK9GJJUBROJxfSwz2MIXMUBmVxmkdbm6XKuP4WSlJdlgzjcPDQ9u5T/xxBNdBDd70IF86lOf8vJOePYJfh2Gd5bSSXB7+tcv+nrx3/7sv/kdfXzuicGQr2fvsfsehm+67ujCqJv9VfVqUbLSL+AtGuwxHLOLLl+8kccyezTVuJalPLmvvKIrPoqvPJVPJpVvPhi/9KUvLc4///xi/fr19nX3K4q//uu/9jt1wZ5OWAPdXXfd5YPh+973Pt/C4xrX2972tuLYY4/1ToV2oBy3EGvSFKrrl4pu2i80nPRLscHfJDfZmnhFE3cjniB2uZEe88puI02ylKZ4mx/zcU5UnRE2bDhg1aussz3qqCOLF7/4xX4dkWvj5513nm9Xn3vuuZZ2VLG79RdmjD4JYSv605/5dPHRv/6o3VS2zgbFW4s3vvHnvW3Ux/gkmmu8FFA6t+WyXaPuDR2tDJxoZdZWTzzR9wYN3NhvtOEGr/FJp6iPsotX8YX6MT9hMNHrHvVuXtHpe+NXR+iz+UaqAeE3ODEgoiP9NhNrZOFcbzC1tFiedBVNPnTCONU9hkWTrzR8d5bV8ycRola+f3lXBVRUAmTwQ82R4lXMlMpltsohW1kBCw64mKYwkhWmo/iHr3yl+LtPfMJnGAhQ2sP+6aIVDvBee+1ZfPazny0uuugiv1kEQDBuLpz/x//4H4uzzjrLOxQGxQiWZOWKtdFFk688eTzqGHlyvhhXWJg6uoqYEKVLXlsZMU1h5YutBY3z1rdAbbDjC+Hvete7ive+972G8Vzxr//6r8WFtnX6hje8wa9/cTcqdztedtllvmqRbDoaOuujjz7aV5zC1duvtI66fOVq+lV6sBHR4IzhmFN0fA6VLR7/ogQ68I9sq2/O5/SWMkSXrFF85ZGvPNggX61ghffLv/zLxYc+9CG/XnvBBRcUHO94x68XRxqOjz/2uH87ke3Uiy++2O8ApkM5++yzi5//+Z/3TxRp0EyyqbdCpS+CRXM9Ekc3Xen4yitftBh3WjhPxYOPE6/8SHOGwKN4ly8ZbsNlnVV5omDMVuerX/1q32pmB4NJ8Cesz6A/YHX+VPuiBXLutm9TgvvNN9/sN+MwGL7jHe8ozrJtf9qJ/kKdtcrDtnDSIw/H+DAe+HIn/sovbbbBZ5X0dPkhscoX2j4kN3SO9FHDyOfQ+cVk7i/+4i98gbL33mu8DzHt3HaxV/oK+Lk2+9u//dv2Tc+0KjzAbnxiwHz1q19jk483ePvwrOgKGxi9SUv9VZ+on2jylRbjCuc+vNAqeipNItxXOn61QlQGcWIM6Y++BIFmFLZCZJFoEVuYeQ/DAs3i/uOdjq9EPMmrKXEOKBHKEbjE28Ki4dMJXHf99b6NB/98Tl++jnzXXXedbamc5icNJ4/kw0M4d8JCaTEu/ZUnj0MXTfkUV57kO5DOS3ygrIR6nU7c8ffWcBHKk+QN/qpc6QG/wlagZ9i2dZvdWXdQ8Qu/8Au+iv7DP/zDShATjC73Crum9eY3v9nvzKMDAVeruclP9SdfLL9N10qXspCoXxe/eHJfsuR7fnSxP3d4mV1GGaUKlc7Epb/S2nyVpzTJJE7Y9bAwdy+CMfwf/vCHxV68733vr8IxwIz7TW96kx9MPMinHY5YBnkUj75kSb88DTo0OfERj7yRThrxClMI5pxmdIXxh8lwxvJHOqicmA8W0QlH3sinSS5b07/5m7/pE2RW4zhu/vrgBz/o4fyHHY93vvOdxTnnnFM85aB0fVbbfrFc8imuciVL8eiLH1qbQ5b4lV7Fo82WiUIc31fJRm/TJ5an9AH5RlBZOX8eJ694wYUdoR/84AcFk7ZRHM945m7Dhg026TjHyeiI1UhX3xUr+zjOVRxp0oF4DBOXEz33SRdmhDFTL5eyk8lCrlxjhSjF3HdNjY+Mrh2S/D9lho7SLtR/yvTIVJXjSiimcoi3hUXD1zWY17/+9T7b8DylINKZZVA6QKCOA1Kmc6Kw1Xrkhg2+ulSHIvmwxXCZrfLyNMXlizGPQ89pHjd95QiG6CB/A2zjLePul0LyMiQ7+pEnhr1wwwx5W21QXLt2bfG6172uWLdund8ww00zN910UxTldzmuX7++OOOMM4qXvOQlxYYSV7bxGBS9PmUVVVbuNwRmEfFCjuHIJnru53mwA3eOs/1YlDwV3RLbZORyxJOEzf8b+RXGp9wjjzyyeOtb31o885nP9FXg9TdcX9xoL0VgVcJ1MLaZjj/+eN/CZiuVVSVvEsJumbj4ddEWFWI5uf5iz3m6+CJdeUSr4mUbi46Pq9JDONKcKfvJ0xWXH9kjTeHKt+3NVXb99VnPelbxG7/xG8Wpp57qk2gexcCO2aoDx+22rX/KyacUxxxzTHHyyScXL3jBC/ymmjShS3efUiZy4yE9VF4eF12+ZIgv9yNf5K3Ocz+ZLAWs/Uigd+WLMgjnLuZTWL548zh00cCHFTRb92984xv9EoowRWdudoTH+e1cozemT8DuOdgyZUcP+6ZPpy1StVK9vCwo/p/8Nr2kj9Lki577kit6AlO5ap90jpFWiMZZ5fQuNMTrlIplyQIoCHgY7SlmvKM66aQBkGU8jSejr8EZVeLi+FQeegXoiCUDahGPQWFoytvCsjgSA0apDGXQKXNL/4te9CK/2+4Nr39D8YDduq7VHz57/2xNcbdj/cYUtqDteoDJEO7SWf7iFB2em5ONcvKyRHOtSsVYYVdKDhe75Knog64McK+xbaMT7bk58N1ib6NRGvZKGxzx1CP8uiODOJMN8vHdz7yOS67kCALbdIAmuvwRRC0ZC+eKgeTnN1jxmAsf/eUyCS9C4OF77Ff9AfabXtG22m066qwwfgwvmbIdgmTH2KfbbMYHDX0qvix93FHKBsOTTnqeX5PdbvcaSKdRykZv8KcfZmAlXL1NahQBS8SjdlXbulirm1xjhShiqqjFYOSwysiRplgtRqlL6wMijaB96YVKp9IMqJqRLDT/kvM78KOhBs78j82FdgVnHEYKZuC99qS1HoYu4yFdPNBSvpQ3V1V5yD9Op3Lkq6wUNxQdxoSltvPFM2kfnbgEsNpe47Z+wwbHz23TZtd+Xlk7cLMT74olrkdjHGeddJNWuiwP3XOMc1XmS8/5lyru2GV6chMdd02z4yEn/WJdPGyY+xaC/fKyBKBGJk55PDLGH5VDuQqrONcFEy7bQOer0ifhUyYLilWrVvr17EqXajTo0qLGNtbN65Ag7sq4pPQK00aZKcKv6uMDYl5yde55R1nFnM1nY6Wx5PnGEQe4VgOQWtQmhlGCuNHJx1JdnXirHPgn5RzPSRU2vByHzU6wEipnFtZ02lqZkICxeBphO1itVJiX6TXBOGCasEO/yuit7NTW2I7CE1aoo7ikV0okTCfD6hxHnAkgh+LRd2L/046A2ajbIO1dGid3UW83unaGwLeBP5JKrM14+HdXma8IiTyxX+mfFxh1z9PGHVcfwASOcBoc0yNZfr7TkeAq8CzsnYs3iCc10hJlYr9g5/2D9MxLtnQMoHXLFDtInYuP6c1KUqtgKLH+eRljjceCY5hCyzh1UGfj5KD3WHXLhCcs0csUA3gPphOwSnPq4M986YM5RqfksMWc8eTLw1iFMK7z1NLGqXNdXgrJ0FWm/PSW3pobuupR8dTJkw8ZXKwE0YktJLlRdBuFR/KW2o9lE86PpS5vVHnJ+pjgWcdX2qd0VbsjS7RKLrsiVcQZGudoTBpnWHacVKcGqpH5/JdYV3zjVKZDNmVjs+izcmV65tDjxs/ui3B3HS1W0+jzUj0keqAdlDBmXzg2iqFf5jDX2DJtKmnVcx5+6mGVSiuWRLic/mdEBIRdYp8HwXmSRyxyydhcndJwlkzoIgVFm41hP/9M13gCNNIXWe6is5d9BHKiXoTpUGbNzSyOGVARyyxpINppz1OwcelN/+phnfvmQ8OhFmnTsg/pmIBEzxRy3UodPVwmSG9qMAsO/VUH+Un3hCu01hViqpSYlCVVyc/jgMRsVDXpNqu/Ah+sBB00wkrr0n2+9K58y4Xus1HHMlmi8Mo7DeiiiWcWMGrTpY02C7qiQ64b8XjMip47mx6y49axo+onsPHmpYGdrZ6zoK9smP43d36xQgxKrOPkaOaqR/08Rbl7vwuBhGvEMw2Kw/m7Uns6CMhW8RWukDGoIz2GK54+MBICrdhFUx5JSs/UhYBsl/5VYXg9XvbBrW3QJbCnDyDQwDWMhsIVv7FCbGTwhqFDQW5t+f0KcQDneQkRV1umOH9qBIKcAB0ijM4J0bvhCIClVn/idHwDdpGHcO8WjoBjatgJP++sy7jSFi61zyEEHNfSNPPzXpjDG8PK2/ujITCfnbauEH0A9Ibhp9l5xIZqpoym0LLmGuiI6Vy6EYlYd3P1KSAgQ1dn4dgZtqJHnh6xhSMgXBees8+xEASqcz70C8I+2vJCZPa8CQHhyJhWhy0tTOoaK0QBRyedwHdecijJb6iJwuqUiqUPZAgIL8eqHAETvlBonCyDokavThDRen8AAbDMV4h+TSbYbcyk9oi0PjwaAjl2tR3TV3QZ8miylzuX45dDWMZjP9DjvBhLif1tAjdC3rjLdLAYWDnqu95oGMWioMG8PWUAgZYOA1LXTYXxJBiQ1RMaCKiTkF8llkY6QK8Y+sAoCICfMJQf87XRYnofHg0BzvkBLLFhO6Bz5JO/0ST3XCBAfyscCcuJ5itEiImQkpWYMntqSrDfeA0xyKvS+8AgAuCJy/FKdIx8MI8ycIL0bjgC4OgrwgBkZcNZB6O2GC6xT80REJ6RLpowlR95+vDoCAhPDX7kdFpvw6ODOA9ntNFqYUe/YQdp6ZUYlZDU+dYrlr4zrqDpAzsVAtHwpXgbTWm93yMwOwhk/W4ZxX57Gx5PKwnxbEBMYyYDZnKDz7yQpENcvb/jCNRYD8roV4eDmHRR8o7CXy9nzKL3WHYhtzC68Iy5wLaNHnn68OgIVN1vlqXfKs0AWWS0DefGlqlWhrynDgPXNpT8gfIbEhuRAdblTBCWEQNoaTCUH1P7cCsCZmJ0vrlrw1dfh0g4l3lsvke8dzuGgGPXBp/RGjjvmPhlnyviKzvF3nObV9qyB2wHAGAsq8ez0pi9LzaUzW99uTflJNDrj5IS95fOpi8EG4d2YJ2bn6EOJXZJR2fQ0knHuoKdDr1omPQn+aqBpfVuAQgAV4spCUf5bm8ZtN5OJS23R8/HyUJb4beoBE+eDzaVSZh0xRVWnkhXvpgWw6TjJCPF0m9OU1z5I6/Cw8qGR+nix5fcSIu2Th69OJ9TgHjqI2KOxYVrvWLJgzJji0nv6A/maFKQHmU0U8u6VX1Y0kX8dd5knI5DgzdxlqkumtJMalUmeeIR25Kvnigt16uPLxyBGst0lpddgguqVohRLJ32E/YhzVWr5vwlritXxu6BxoE7ikmNG2UoTOE4+Yme89fxVFL5otjSaFIPWJcnQ2/KqmXk/IkvP8EjvzjqnE096vQYwszRyo23Vi+yeFj68hWDPe1DsDjwSDjby3KHuHhiDGEbOYlyFytzmIxhabmSC+Ft5M2wjnLooOV48bAw9i4pNaonk2fAGc2p8gcYcjseZIhyFZYv7hjvCrfxdtEkQ7742vzIE8Oj8MqO+cgujjg2jZxt27fZ7Nrm1wFjyczLydtCfG1+lbeluRr8Vq7sWnoqXsloZEgR0tJwRY/WUkioj8sJLJG/CvuCIdhJMqhKcp09heyDapVWyMd++dKM7NhfAF/2v65rNdBW2frAAhDwNiz5Fa4mdUZvPIeoRth99908C19BnpvjMmOwilIY5iNDSiQauG5us04fOH3I2IkakZqGWlS17QrIiFshQpYZub7JyAd29WFdvnCw2+rd/Pt4bXl1MsvvKr+nJ4yF0+rVqx0SvofHp7/Ank5b6cPw0gkyjGe5poHN3NzqYq+99i723GNPh0G2DdZ8+HWVfQGhGhgCUPDpgKzPh43SJvRJ6peCyIHgKLIGMhlBg3OzL8s4F9IpqKscoRNxrIxPmLES3M36Xj5oDF44MMWmZcP4vdsxBLAR2Sx9g2yGPgJH2pyIEAT2ddddX6xZs4911vXshXQ5tvosN1MykcxvWoAMjK8iU4aXI8OKfpAwEESkisjDMCtNGSOPaNHP0/N4Fy98OOmdYl4nTla+H+gnLfUscUjwpAYAfAbDG264oXjkkUc895VXXlk8+OBDli/NtkuRlad2kV8l9IEBBDBk4fS9733P0zdv3lxcccUVxe23317b30DOmqAOqKb0oYiAOhJwxY5xt912W3HppZcWBx90ULHdzgO1Qcy3FOFxyZVu02z7WDdhvGnTpuLWW2919W6++ebikksuqb8yX/aldffb3YnFeqkcaIRzX1h0+cP4lUZehXM/yiUNl+sUeQiLL9Kle6QRlizCypfTiLNjxGLkpz/9afHAAw/A3si74rrrrrNLJiuKu+66q3j/+99ffPKTn/SBcZRZmUvrfxaEADNpGoxtkd6NBwHsmckdxt+78SCwm61atvQ2PB5wS6n0FfF7rmMtbBkKP8gmcvfcc0/xwQ9+sDjzzLMMAVshXn/99b56uffeewsO3FHPOKrYa8+9rNPmWmK9SqSj4c//CTdWaFpGuYj6xzp/+3YkZe2ybmUTiLqe0MsZ2UpblrMV8pOf/KR47LHHikMPPbQ45JBDfFuvztCHdgQBJhgMgNjqxo0bizvuuMMHww0bjjTb3r3gy+mZsTaK8fwrbCuqYc8NlmUfEcYAcdeddxb32+x63333LY444gjHnY57zu450AdjI2C0jbauI32+MGVy0K74wxxlaCIkfxi/yy7tQnmH8S91WqyXwrGvvfvuu3036bDDDiv232+/yn69br2t7nBzgDW2yE7Hfffd53Lok2+66Ua3sTkMmi09jgMPOMAZXv+61xdnnPECM8RkkDSCHDfYaFBs9iAYbLfRosiu6MBG6FBDwvKpL2FOOFYrthovPvbxjxfXXH118Su/8ivFSSed5Ccx2CDHfSTY/66KF5gstQMrMMZnm/SP//iPi0MOPaT4rd/6TwXCMPacAAA0/ElEQVQdiuMabLit/Gjjbek9Ldkx23lf+9rXig984APFi170ouLcN55bHHDgAb6SoQ26nJ8n87RBzKv2SL4m3/mZVW/9kVd5khzliVJD2GwFabhmvkSbxG/jHDdlmEwwqdi0eVPxiU98ovjsZz9bnH766cX/9drXFnvtvbf3IfTTw3CehN47axm0M/0wK28mHH/1V3/lK8RDbWHCOEh7zK1Zs8YB5sK4bkg4/PDDi2c961ibWVsj+SwqQWD87rBrhWtwSJSJ1dRpGVutwXRDgMyMhIZgZThXXsA95phjCo6ubb160jFd/XeG0uOAd//99/ukZI/d9yie8YxnFOvWrfMqzGuHZrp1F7kz1HqyOsqO2eX44Q9/6IXvZysXdpPoLxgoh3XU5F+oU5uNei6ojFTU8PIkG52Ub6H6LZY/6kA4Yrx27VoXz7bes447zm7G27fYbvcqcE9G73YcAcYz7ufAdhkYcWv22adg/AP/OS3TaZBV5R160DietL3OZCypEWQ4rBybjnhOqznIFxu/TpndUNRZ9d6ROpA3HtyAg0MWGDMgtsmNnUBb+uwiN3nN1D6UTKchS3Q7NnzN+qyz7u5IYvtYY6UKxFkfYRxpCidK+lUeYkoXr9JKeUh3aWXc+cWbpNW/JR393AYkq+ZIoSgLSpe8mC/nibKjPKMLT/Tg2jfbTamYtJ2JDXPEdohFLTac5Ha3Xy0/aboznS9qW2GHzTK5kGOSQX24kfEJw3+lLVLqFhFX74+KgGwVPzrw5/AH80mkEbaUhh4HNzcxY0yOTGVIgSi1OnUaRI+owQdTZpeS65zHR9W8K18X3eWG838o36hK7MJ84JN3gmlCZ8ZKZ+ITvABohkXEV5ZeGTq80dZjOJPj0ZjeEfYylJb7ucwyPeqYs1T6SRYMMTyQoSR08Ygu38WlDoOcEWvpha9wKX2JvaplWuVqDCdxvHq0Fr8oYqu+GfapAMN4J6zfosBZwszRbhEr3Ldt3VZsenxT2rLmYjgzvsdtO093NNEW6SgDWBsC/Idfm6b0bmQEAF6NoUaQ3yZEvEojHmVAz+Pinc9XuXkZUV5XWLJjumjylSZf9DZfPPLhieE8TlqXU5o4tm7dUq5akkyld+VXWcPSl3Ma+HVh2EWfJF5DTGOSaiyqrPkwngWcF1XBKWfO8RWe9BUPPfyQTZxthcjKkBUiF233tqN2dC3WEUPA2hgTzfM5Sml9nkb6MnQapOaruvh8AAqdSjnHaM1OQ+UDluJKU7xVQEZUHpHb8kZaV5j8UVYMS7b8KEO03BePfNIVlmziCpNOOLo8XWk835l4E3+eT3z4SWQpt7Rz7N23rUtGT21pl5Q/tVeuZ16XqENMK4to1B1a5FE9Rc9lxbIlbyG+5A0rB3nik2ziOtrSxbdwXw1BToXlJ2xyXRZeRneOiH0319KnCEtZueIqaanrHNtbZeys/nx1iW0KjoqvshuV9rI3iPmASOVJYK9aF8XVCN5R8EPvbZ43hhM9urPitiR6j2qYwrKrUMlR47TxiUdpeVz0YX7ME8PD8nSlxfwxLP42mtIW4kc5MRxliJ7727fVKxrSlB7ztoarnggbV6Tm7JIjunxydIXzNEmP/DlPTIvhyJfTJXchfpSRh4lHmnqBskvI0hZSahtvxF5h+U1s23Ivltas52KljZafMrv6AWHflT5aCYNc06jnoBZLQ5mvLsIwL42JL2Pfk/bavTnO+e3btvvbVqobPkION0FZvLqIRHSu2kRDpj5YIRANGKzUaECqMMwKw8+heCWoDzgCOS6OL2AyaQvO7bLEOM8T2BrBUfkamZZhJOKUwo72yEjE/CNnWiaMYOP4VH1u3TdECHoMIxqjhdUXC2NhiK97DuwWJubBTYMmRnt4hkbDUHDJS/poeixrrgh6E4iEHuniUXoeF733BxFw/IzsmCWjLZlKux7RSHvMB7GNFMc5s9XQNUTWPryDCAyzQeG/g6L7bIZAN4ZpZc6A6S/3bm+IssMGysry6bwVt0D6h6N3HQhotQduHFrIpLgRStfeBkrtfSHQhhM0x9mYakSrHH4iKDbMb5M9jL9PSwiAm45RMOlx7kZJOMqOFVcOpnn+TwfSuwUhkK8Qm5nT9WnfMqWnbhipx1MHTpp68dQGNETZKM1dqqb8PuYI1LiWuGW4KF2NlSX30RERAEc3x2Sk1cAI6jiZsfBO1P53VATALR7K1+MpJBbvg2VXPyDsV/AeTBn14otcVhKEYV7pBGf6ncMTvjLuyODhspOB04OJ6BmVNy+kjycEfOXinUmKC8q8cYR9j9twBNpwguY4x6yOuVmnfEuL2EfWPjwaAl3YQ9cxiqQ2OaPkWw48bThGvBSWvxwwWao6arIxgHGw35UDiV56Gvi8AwkjnjoUKRiSROr9BSLQjv8ChfTs3iFXI57hIVvtbXRpjEMdcLRX0ZamhF7KMAR6rIehM1patN2uHNXbeLsBz7uUMp6Tu0pY5nR1zL6cXuZYjLv6mKTMUtdq8zK77Tzn7ONdCGim3ZXe03cMgflsc770HSu1zxUR8Fe35UCnTjytEnl/Xno8n71ro5HbGVJ6FNaHBxGgYwZfIEt+6rIVxte26mDunpIjAF65E4bQlS5MiYumfHlc9N4fjkAXbsK4Kz2XOipfnm85xIWldxhWYcWFWe4vB0yWso45nsimR3G6+T4gcjNCAlqdjQ2BvETWO5848Fl6SXMpZOzdUAQShrAI20F2eDTrjuFBzp7ShYBwjj7hGO/K29PnRyDiqDC5Esbyu218/hJ6DrCs+oEWOKr0HuYWdEYnyX4rGH1Ms/zmzzGmqREsVErlwXDS9WFOHha3zsX+nMMlxYFydGXGwZlWA0iuqjiOYnZIprBNeGLwElN31lDUSKkus1cPaT2rfhdu4KpjVnVHry79Z0ln2Witk+x058C41nt2QxXGdBjB1f1Iold8gacPDkdAGMIFfuqKQVR4zvH+NjEYtQqbiTc7EpJMQhJEWop7hin8oAd/cQykwrHSU1CrtUjHzCYU0YFfOhJdeideNVXMMZ2w4+yNXbZ9ibH0nY5Wg6WiJ04+COrtE7EO8MyC7pWehidhdJVr06+NJv5J+NI3liX7LaGPSTMVlu7yXTns2ALTxjUCJf3kt6U5rdmVRLaphtE76q5XgU5VqVC49JOO8sVC3B678GEldc7VmAlLqlyVCeuxhnDPG4R0iZq8j15eAXsxK1+RRrlt9gq62LFMXqvuEsEq6SwewKsBFM6coAqLcxo+OoAlRr2K9/yVSvggwySquh1rGto1y0RX79gCpOCN0qQJT/nN3NOJgeuKFSvtxfrp+5h8RFpt7xh7BZJuok9H01SqcJTf1CXrK5qJU49JZ/oJcOYVlf49vPJcc9uZupbtCkh3UgnLxbBo0/DBDjzxd999d1cBbLFv7Jhjlpxwk++6lbhCS88hOs4+Xyp1HxzsyGN19kZZYRFlwSfnOJ3Kpoy6IvaanblV/h3Hrdu2mg7E56qvII9Tn1Flo6s6M7aco6NO6Uh0nZTKE3knHZYOc6t4b4N9FNYMnk+DQV9tH5EGZ/FMWreu8tAHV1pmHS5hV7rzGK/wdsYJ/6BLGvTs49D82ceLH3/8ce9YVs+tLnbbfTefhHBDW9R7wmqOVBywc4D8LLgcL+J0zviPPvqo+6tWripWrrKJXpiETNMehJt0ly86foMmmzb6uPveqEMeRifpRZ/Al5Mes88IMiDuu+++3leQPgvYRt2ls2jAKZq9ui0adEI60VJlxQjwpMonBh+u9FJkiX8Bk4EYhy4cgE+HcsMNNxSXXnpp8ZOf/MQ7k+c///nFi1/84ip9FhpC+CVMUz3q31Qf9BRfDNd8EwpZQ263zybh9thjDzfw733ve8XVV1/t4QcffLB42cteVjz3uc+t9J2QZkOLAbuEW82mtjeEK11nAWO1L7owo+aj3FdecVVxxXeu8EHxgAMOKM4888ziqU99aqV3XavphdBXh7RIeHL2k5bOT6VNy086pdIZCFfvtrr46T33Fpd961vFj3/8Yx8UN2zYULzwhS8sDj30UO9H1CbT0nmgXLAOROEe66Zw5AtZJhJEByYV9MW33XZb8S3D+Oabb/ayj9xwZHH2y84u9tl3H/94hM7HiSjWUcgwHYTx3BN+DVEG3SHJyBi8BkP3vSUglqNVd9ZFpzCLfsJu8NEyfOPGjcVVV11VXHDBBcU3vvGNSv6aNWuK0087Pa1gzKTIN00HyDrZ0goxmm/qYNBPfHl4krqnFUs9m7vzzjuLSy65pPi7v/u7ysjR55hjjilOOOGEatY9zMgmqT8YugsQO01kpRtTxHtSOqrMhDPbSCuK66+/vvjmN79ZnHfeed5ZS5fjjjuuOPzww/2kU3VmBWd0FNac+sAaoFUVpuKjl3RDAVYrdNBfv/DC4iN//deVTuvWPa04/rjjHWPfOrWUWcBXunubDwNVRlHVaHIB+mCw2rrVduXMf8xW3Vd85zvFP/7jPxZf+cpXKkWe/exnF6efcXqx3377FdueTFuqVeKUArIP+ZUaAevwcu8aZWWQT0YGl5Qv8TGHmbfhqhJ3PFDd9GOlPf74puKmm24s/umf/sk7aqSyWmQ188gjj6QlOnqhqP8nXXe89MXndF1KnRr4laql9LocjCyn1aljCJlSqMJMj3Iffvhh76gx8M997nNeIGlHHHFEccstt1R88E5c147qO14+S6PZE7DRJ915yvzT0Fvlr7Trhvfdf39xla28v/zlLxcXWmeNO/SQQ4tHH3vU8afT0eTvSZt9T0NfVyr8CEPVo04C74TvYFrNNYkQmmAG22zL7t57bVV42WU+2bjmmmscw4MPPrhgMr333msSY1Bq2rqjCjrQ1h7230SDrqMkN+xZtHH72C56cM3QvOLOO24vvn7RRcWHP/xhX3mj+z777FM89NBDPhDKbnPdx63nMPlRl9RTYL01zv4cYhKQGqIZFk1+GhgR4QNk2fkMU2AxaZTqSlvgXtv2+Pa3v+2rwssvv7wSC+hc38Khk/4qhpkI1Pi1qaOToC1tnDTK5TqVHKtCJhtf+PwXijvuvENkvyaAIcmRb1o6S4fcp92HOfSNdRjGu9RplMukgtXIdTdcV1x88cXFZ22ycc/dd1dFwbPZtk9xsS6zgvOs6FEBVgbATbphAZtt5XKtDYD/8i//4hMOJng4+Dhw8Otwwoz8qB4zos6AGuzScV8BK2926L7whS8UX/va1yo+8GUHBKe6yK+YphhQm0unth5jzmyjdBiLOj35IpkxWZATla8K229pXOZjXKWE3IsGmKd1xZUHYFn9rbQbDn70ox85+J/+9KerbK973euKQw45pPjMZz7js0ES0JL88lXxKtMCAshRfulEPNLnEyde+TW+zRNU6fi4hZYznx5t6ZSlch995FE38PO+eF61YiHP29/+dl+p/O3f/K3PACVHeYkLo5iW05SW+yo/p+9IHFnuSq+ySpHL+kr2qDqKf0d99GK195Bdf73Etkc///nPF9+xLSYcq+5XvvKVvrvxyU9+0m0desSXeJtTfSdRD5WV61FBnmGb88V4lLVY3YUTEw1u9mL1d5GtWNjZ4Hoh7owzzvDLKDfdfJNjD006KD+0+XSBdz4e5CzESWb0yU98mPNkY6GfG0UnyZfsUfLE8qUP+bhW+NWvfrX4yEc+4gMjfC9/+cuLY4891q8hsirHpUsDqY9xwg7+RN2jiKhTpA8Lkyc/nD/gbSvEeuZc05UR0OFIjgYwiTHmcVHKhAFPyg8kDCGQh06NrVC27zQYHnXkUcUbz32j3zxzv209Qdf2EuLQUeXJH1LM0KQ8v+Lyh2YuE8UrP88DHUOL6QrLz/MsVRz5rFzuu/++4vNf+Lx3Jvvbnv8Jz3lO8YpXvKI47bTTihvsOteHPvQhvxMylkveXG+lL0TvhfBKfu67DIw0GmIZlz3k5eTxXOZSx2+7/fbiD/7gD1zswQcfZDcmneSD4fHHH+8DJAPiGrabHnyoUfR8es6X3hC2iAjlxEOiYvkxrPRh/kL522Rhg5z/uOuvu774sz/7Mw8zmX7DG95Q/NzP/Vxx0EEHFeeff77T9aOy8bvsWLzylUfxpfAlE1+65HKVJl7SsWv3Ld8orpF3xDySS176CVaGF198UfG+973Pk4466qji7LPPLs4666XFAQfsX9xzzz2+TU0imOLadPeEBfxE3fNsw9JyXuJt/CAoPW1AZJmbGkMCBHFZJ5FhTYetEhOmNEvsiWwISzh4nlh4BCiGa+EJRPKQzsESnUZg5of71V/91eIFL3hBsW7dOr+tl1vV56yhtEz38krlJUc6qMxYXlc4z6O4+KMslaM0fNFyP/IonMuCzkSAajiy9sMTG450AFeyJafNFw9+dJQZacyw2XZ++tOfXrzpTW8qTj75ZL8Db6+99rKBMHU26nTIF+VKlnzKycMqW/liXGHy4HIepUcfHjnlc8CMCE7uSsycVaQsn8qST76ucBLa/hv18RMgK4fnOIXfiSeeWLz2ta8tTjnlFO+okbhta3oWke0oHHVAhORKJ8WdKfwI7wqLkBaDkgMthofFu8rM5YovVT2dwzlPjCssnZVfcdLbaInuv7WdWaH0AQ8/krZHzznnnOJFL3pRceSRRxaHHXaY3wCy2267kanhJB+/DUPRyZSHoSlPDOf6xzh8OMnClxMfNKeXaZFHvCnd5NifdFD+yCMa/OIjXXTxtvkqV/kkI92EWRT/5t/8m+JMuxuam+z23mvvYvOWzcVee+5ViWorQzJgimFl6qIpHV/6RFqkKz2Wj1zx4BMXzRPCzxxbDVusMo/YXvvjjz+WkmwgskVvyVY3mvfQRnWB3hywhHRoMVpKcK6Q0KWM6PIxckDmVv9XvepVBXffcdcS6XTi3HCw5557hlLQpq6s5OTlNzIMicT8kS2n5/FYntLw05EkiR7l0oj8+b/jaD/p39nyPHk8ylK4jSfSwJGBj9n02rVri/Xr19tNB3t7J83Fcy6k4+CTIz+HjA96lNkVzvkkL6fH/JGnLQwvh3Sp8wo4Sw82IRniy/3F6OKyTZfokL/d7HT//fcv3vOe9/jjFEw8uCNabpU9Tzvokhzyq26DPInSVof5eElXPvEOi5OmQ/ySoSrH/DEc+fNwzpfHVUaeT3T4OVYYxkcffXTxR//fHxXsIrEd7eeTnVP0I9F+oyzPazwqV754YjyGVX7ON4xHvHneKg6QpovH/Tf9IFOHyNg0TuXJV3pMGxaO/G1hyeVeA1bd3GH+3ve+17dIWXlDgwd8GRTlZLOk6SBN8vKw8sV00aLflS567ud5Sc95XHe7fg/d6rPKOsS9fWvS1PX8yhCFKUxD8GB+xasE91nZpUoLECUTxyFbafIjj6eXIy+GzEPKp9mjFKtXpzfSoLxkkA+eNicefJzKj7zigZaHI5/CUV/Ji/nEJxp+7VL9q3gjLVGd39jgVM5aBglGtS9mR4wlT2XGuMJdPnUAv3322ddXhQyMbI0wELI6RwmdeD5QZ4JUZvRhacMJeuSLPKThIk1hfLm2/EonrelYZXsFvB6kRZ4oX3IjT0yX3MgnWsxDWPliOthxvZsZNRNQnE82VqZb2Os6lLlQ2+ojfVWu4q1lBJxKKQ0v5o0Jki2a+Ii3lSM+/Jo36uopVd66bnn7JEkqo8uHqytNsvE5mGhwzFlfwUQO22Zlnu6KbJaP7tIfP5aRNGv+Rh6lKI/i+NC6nMoTj+LK5xoGvYbKwUbsL+ogueSLsiv5JjuGlTfP5+d6tQtoOaxKLD7oG1iU4Bxf6yPAVnLipCPK9Az2EzFsS8/5iCtPDOd1Iy3KU3pOy+Pkw9Fi2An5/LGLPfbYvdjPZrCsDORIfNI6X3wJogGMwG91iD/55ClDCpQMUpKowvJLlpru0utKMmhDEuDk43EMLyo3QCNKrvxYpsqSPwrPfLxRRhuv0AISnS6uu5jxA15VsMFExZyxYs3LzeNRfFsYftp2d5t0PLH9CXsjzVbHGOPQFl8usyse6V1h176sXOSRbpGmsPycR3R8hcVT+Q4ZdjLIozy5r7zz0cWX+8oX6bzsANsFUzppMNc5BV+dJzU4+sqRBm/NE/nF1U6rU+tQlCNqG420SCesQ/nEUzbpAL/SI38eVhldfpTRxsP5BJ0VDNhqorFqdX0pBXqXI2/EV2W08edpeZw8bbRcVhtPG035SNNR0UobifliWHzyY5rCuV/xIrs2wSoMP1jxiswVKzia44Py41f9XKZ7V5kxL2HxDQvHPJFf9JxGXAc86I+zbVIf+0jzixZuSHa7cpfhRMHg1L1CdPlL8uOGTlkltPZWvGLF9lQB/wqHN1qqoAr0yrYYitKn75u+QQnhmvuBpWEYkb4U4TQTNIztTt4VTH62mX4rk4YRS8qKmnuaGc8sODdqdCmNWwAzo610LlUVzpPWW+eVTkDhpw5lQB/TVzykTUvvXC/pIb9ON6RLe5Bfp405ZF0CzUu5OoR3V8nik67yu/gnTXd9hpxfKZ16l4Y9KQXB2M6zeKpF7AfUyOowbZx1/qFnrgs2wzGn1QB+M4OMLPY1fqYmA0ToAAJLR5Ds2OgKV41AcRnoKJVXdum02lFJrnGpaqqZdMR33PN6eN12tLzR8jmeqMPuaCi/CidVG8KUVundSJ18BD1czVL/2kZK5c2DJr0nr2HCVuVrEPQ4KqY5XkMt1QEifPG8bDBOMCL95ato4iX008EYDEsF6MO4eeYJW43r2eTSCjp1mxV8wTPqEvVOGAcbtsRoI2qLcfuukxo7KZyw1wiZKQD/gO4ZzySjuS46r/CxHdwct8pyYZRHGHjEAUdGIE+uNnhoNSgpXVwl80Q8VcwUHegsku6qw0TUWUAhoFX3gLmuilcCjX28hl+uv32WTTvrSPhR9oBOphw0deyVrlMMSB9XoTRIviSBsapOpLXVZdJqSwfXyxSkBUSr+pUZ1DviJ30dYAdQdlOCP2FQVar08pdNlFvUBm6Fb1TL8bc0nPLF9GmF59NF6fKnpafKRY94VHQLiG6BmcBYA6B01E4CL31n/EPfuYcffsRmVav9lVE84pAcFaBC6dCJ6uYD0Ry/KeTRmfqhYrPnEqbSa0DHqehsOlUKpUCnGhWjMsyWP4CnqRdqNxMnZI4YOq+0k6vWvZ4siZe0/ERW2iR96SifsmUr8iepj8rqMsuop3jb/FnBt6EbgAZQ0VHHLNhCQ9cRIrTRoGWPkHGJWYRh9CmCr3Q8bK+bA/K5pz99nb+OhzsMedN+crOgfqnKgr2uU2TBgpY8gyYWSy54kQLLdWIpZXbxW2Q1Zyo7J6V3brNqFDOF1mjKgCe4RpfHY9qshWUTzRrMmpa7jj68BQ3HuHd4+XUZv8vUb7G3hObsQ82SrWyQ4EaX0sUFeVIOw9ERy0y0RCE8ay6pVOuV12FAZ2ONq5ylro8GQumBr05FtHoJWeNapS21QjsoT3qTXXhBQ/eoq9N2sIxxZEMftm2ks8ogPot6R50qXd2om/oqbZJ+7LvQU3aMDsTbnOjy23gmTct16Yrn9EnrqfJyWxXdfcM96hnDDb4JRWQjtR5pQOSSoexlJYnOgBEFxbChdNTGJD7YPC3wTyNYa1aXrgaqKdMP1Q1QayyafAfUVK3ihOnRx+gcq7LzVTGpxLJc8yodonEYc9RTeafpo4/rFCBT/dBrlvSNukSdK3qsAyfaDLhKtwaWYA6201cw4VjaQKkjNOktX5oqLl/0afrSRb50Ia7DaTOAt3Sji8r1TTqaziVTQ/cq4+QDuR4aIHWHKenpXVHoZtsNYkgVTNXx38riy0p6HCT8f+I1qypWGkqbAqkObSnTodX61COLaNHXTEVaKk3xpfT9ho7SbOsm5uQrjbxWtVEsOuV6NhgmHJE+FKvT0G0Z4/W6JIXGiWUqYfRfdJE+WqmXTeF1iOniG136eDjb9UggR33HU/pwqW6PJQu6ePuHeFtu1Ud+G8+kabku2lGHzqFzNuebtJ55ea36BBuHv5UnFzTGuGwCPThi3Is1WrVCdKagTMpkBGOS82AZx6tTxDFZv618VXaymgwvDZ1w8mO4og3h8cxj+GHwqPFKJ1vqnJO+fvKVesl4pEadT5Tp+oP6eO18cMFSK5ynq6aXLl3cN6jR1F02ARms0/SUb+gc1PB+oFQ/kCceTFiW9mylCzvpHRWKaW3pkXeSYeni+pUF++mHjViAg8tb4pukbl1luS6u5CCHzEK6D3JMljJMD08zdeoVYtBNiZyqOOLJ0ShO4CeFy5RJerFisaOWnjF9knqNUpZ0hFfh6FMfxYHfUB5F7CJ46IUpyA6CdlTlh7BwJo2D53YUXkThS5IVPaSfBEJz51Urw2VilSbmKfrevk31yuaoibOib65Hghg9k03k6ZOE1c8bFYhiWlqhncWjbph5dDEt0mchnOo1fXw7sTCo7Z0eAxgLf2E/Cxirj8h1km74jRVio9JU1A/7KR1xo3qsppaJ0/CSQtMoeaQyI9B5I0iAeBxsI1ZxwiXW4h2PX55sQXjUIZAbwVF4GhnGHEEfHakom1iUf8Rnwl7bMGhRTO3erE9b5snRYnvHMBrk8clplUqqcBqwgXbdgFx55E9a57bypIv8yNNGi+nTCrutttlw2RbT0qut3GEYkobzFaIiTSF1LWO656Oy/tfMMamYKlZrWJdcpZUVrFOmExJ2uTrSE62cxzFlYjvpFWKNCzNnMJWRRx1rrrozibRphoVx1MFng1aZWIc2e4l5Jhmu9EJHRz3p6jqUehNuq9sk9VRZ0jfXJ9GbOCvPJH3XK5w7Ud9cZ+mFPZDWOOeUOAVfOptSoXSzDvoG7x+SHxKnHnS9/EXgUee02YRZV7o36jQ9taM+ccWIRqSl99XsgH75tsMOiBhPlrJdVPHxFLJwqSv4UsWMO9cQw+W/NGAZTVS9jRbTZylc3bAyS0qVuiSMuXabnDBngFR4BtUOKs2+TWOrwrdSvNxO5Z3MM2fL6FbqJ31r/euQ0mbCbzED7Je/WXZt55g/hzioNCekUf2wn7KBUh9p8VDZdDrDaM74/MXfoUEpNBqd4lKGNNGSEPulCBtA/IXTAVTlwffnt1AolEV+GsFPAnQpZefyoz5VmWVAZRAVn2iKkyaZ8qHJiRb99OUQcSSf9IrHSIRxKoe6VDQ7rYXJ4Bnu2QZ+lFcyY9xpyLQ/nF5jRNni06e2SBcthqGJXzqTnjvxQI98Mb/SVE7ky+XFfDlfCaFlSfXy+llQ9XRZ9Dlc+GjpXyQ7L5P4fGlRtsqjCDSRnsK5Iau0Yb1P0QpyfuEPLw4ZLierD10+5amMhmzPmX666GJRepsfef7/9s6tR24ii+POZCYkAbJZLkGAtFwfeEJCbHiBsDwgFiFunwCJr8HnyUtWIMRrEIInBBIIKZEIIBSJSwIKLBmykCEZ2N3zO1V/+9ht93h6+sJMu6BdVedWp/51fFx2T9pqV7WNnn1M1WhcRJvSk7/0xe9qi99Wo4MteMIXTFT8TRj+jtdE4bdOkTUlr72dhaNP0pdt8eQDfOm28aSvWnqqpS/7Lmd+yWap54J2CD5Dkp7GhhaLxon2JBt5okVdbxNnLXm4lMNX6yCDa8IePrHsdkX304345R4Mw/xvcULs5jHCkmHCS5efokuuWUc+bYrmmXo2fqbjt9rlH9VAEDHJ5cliKSvGJkaTYZlPct4L8kknyLhY1a/GrGjoCDBv24F3ce1f2W8vW/3DgacP6Jv2lg4V0ZRY/OWV9pqo3/+w9/vZpFU0pvpddVOuq9+kY0801WkMEkV9tBKvgFmpE2kJEDuaRgOqusX2XmkzsNMKJ18VvNimLbzAlCJ9+o6r+QatDLLcD+bLpnSjHTG7eJEu2ViLT6124idwjOx05zcBgwctiUaz3q7bq7PH8ZJytp3VGIJXlfG2Ft6FqPfImXP+yiLEwJOidyWuGMb8SDUXRK0Dtd49J8xdyQ5xHUsaALSUrfwXv60epdnYwJiHEp9h1VYdaXIr8pr8yFO7q466YMPH49bONfB2Wsi24Li6P71flbYK9oWxcki0rfEjLeq2tUVTLRuqoatN7e0Aamqywokn2aae7DfrKB91YrspU7PB+tp/sXieNYx58TW6xC2xqjhG9oaDBz0/r+xfcaypMYO8/9ZsNui2NUZ9mHJI+adajGZfdNVNPn2n5brJR29VAUFdXVxQxHmT4GCTpzjNZjWP1z/5gPnAb6zyA6wshJIE4F+8eLG4Zm86VkHu0qVLxcEbDvqfJxPUyB20xfFklP8yUvLzrAW+Y2oD1xYnOyKZ6FcbLfInbZMksO3JwzYa6z+v++/ZKhGAM7j9+OOPtSFYh++//951STYENDZuvvlme6/iDU6vKcy4w9i10nJSzQrD2rgdHfzj9VrXr20W65fXfUOHKBc4zjd8E8b8piLlwoULxVF7PylFvh+yteCdpeiBe8jvLjevg/ypxvMkUfo5yq8kZ9kC5+vXrhdX/sNvUubEZwMSz+CqFxcgR/+bb78pbrzpRs8n0JA7cOCG4tChg2ViX9RcWkI4Jd8M4KL8Ynjy7RX73c8/2EgYbvhCjoX+888/Zw8Ll/nqq6+crnhFlp8I5b275A3+9ztEGnMorDMFP/ShT67j43PhR00PWCLjdSkQKSbPkUM6JkJuJxrcWU4D55gASeODDz4o3n333WJ/flEwSYEks3F1w308fOiQ3QX+4XIkEy5+mjCLdeLECX8jPAledl1xTgfG7CqlPwFjpfhxel32+tKxzYdE8NPlnxzfjz76yAMWfIkFNkn8CjxBzGaEzzvvvFN8/PHHPgwXQNYH+eeee6545JFH/OQo59TXmR3IaR5NEx78Bjv8RRXhwN0eF703Xn+j+OHf9nYZuzvhfOMDxuvr6775wE9k33zzTV8P9Fkf8L3zzjuLl196ufib/fYw/XmXOs4VpsArjFXP0zfGZK2JzW8vfFucOnXKYzLlMuOxczD+d99951jedNNNnrhff/11/w1L7t4P2Auy2Uw/+OCDHsd33HGHx78S6LzmE/GrELbRbY704UeZefpFHHKuf/rpp8Xp06cdQ2IVf8Ae3ueff+53hvj79ddfFydPnrQNxqHyyQdx/uSTJ4pnnvmn03naN0+Mm/jpesfFvHzbxaadkICt94cJZJsT8yoXoEwwaWkkNvMap9lpvP/++1uOdf78+YJPszzwwAN+QZwn+PJBAdxcDPiRJ3lAZz1mXTQ2mLDje++994qzZ89uOeyZM2daZR577LHidzsp2IAsslTo0aqQ1HzxbZ5xoHXnzvrUv06NhUZ3iOfOnWuVe+ofTxX3P3C/n6vYnec85FCaj3rUFcaROs+2cODp0Ntvvz12aGKd0hbHH374oW+euSBicxEYK16qScQorqiLaLER46kcF8StCnJ8moUnH088ccLvEsnti4wesKYwL/fF+v6CYBgQFVgpyLOrVLbJSgtl7WxkHhPRTvi+++4rnn322cq/6EN0hM0gM7SjP7OmZYF97733+i5GALjIHA8ldtkfhpYv1BXu83NKYzI+d86PP/6434VwN6idk7yRr/I79uMaaccovYXUCtscIwvxIQ8KxrjDZvPQwUPFq6++6klCOMHXOjT9dF2bg3bf7LRvP3Z7sbGx4Trs2BddiIMYC4vwRzjhx7Fjx4qXXnrJ71bwBYyEb9NP0SUHruQJf5yXYyfKzGtupZ/ZB6rcLOcyL1/iOPhFLN51113FC88/70/k6Ov8l2zpvxEiflzWr9ud2KOP/r3gLp0/rkF2EX99z7j64Dd+8tQG2qqcpqNCs/xwSjuLS03erWTZSkOa063xCdCPHz9ePPzww/5HNfmKt+VAzAt9Hknptl2LF+e6paEdCghfx85xrVCTH6p3ONRE6mDC60+efvppD27wHuePeKo1KBjvC0m6yZfcLGrGcpzBtxwgbY3oNn1p9kuVGTTwi8/Rvx4tXnzhxeL65nXvi77VkMixRnxuueUWF4c2zznIR8ZsG1f0Np50Z12zieOx8iuvvOJDsQnpu2kAz/0Wu/whCF8DKE/M2ucu+6M41hN4l94s6fgEng899FBxzz33lHEw6uuoF+hpcwK+bMD/mx+X9tEftTg5hfH0kRUj+VdwPD6vPd+qnDMlUgvZxaXzxVD9TO57cdLA2609UC1Bs2tjVzFpYV6LCnKBD4wZ0No04DPPRRXG5yLIRXEnfiwKX+HGPFJJtcdvpqToleR8a60/j5KP/OVIK8b46v/EiD8/b5xUig/Zma/31WgVvhWNVhe9LjX7Hn6QbNmYqUTf2mIbfqTTjzqyM686jq1obssZ8/KnbRzw5SnSpIU5cpMy7yJsqfnEfKXsSyyUF0Qp4KjJ+4HT0xfGCWkKsR/IiTmjY3R+RkPMzGx1wrEQDJPg18JAidjTX0T5M/gw6bzxvcI5WfELi+OdrVqbC88iy27GGNzkv2phSV8f0RZVNx/3L8qPnYwb8SVnpE/CmDiP/J2MM4nuIseexN+ajmOZLobMQzkj5oUVEVGMDBYhr0Rps6RlVskYGp0IAHz6IDKakHd1gHXOev6MCueEcYrrjL0jP4r9/L3cvSMqTlWnmcTY3r1z+7N4rhhu+hMxj+2m3NDvRsCx5QrnF7Ekp2sfj0pV/Jt5PaZRDdOf4uleUtKxHseLckPbsex6KqpFGWCaNgIE+RCk00Z11J5ljQHmUVgmoJAL2vJBG20C84NKAwHhapfJkpMemVpA+2KUZG4OuZrme5pwVXXV3K/MBMWh2UAgZYu4M0Eg4VvfsTQUh25PBMDSgzsEpMeu4tQ7xHIQ6Gl7EKsQaMZw4qQYVjxX0kNrUgQc5xy7HrXWHvCdFM1KL+Gacm9Fredif2TKnaH/Z//YPRZfk3JhUDRu7gdyVBnaIwgomLUQ9aTsizSiMxC2i4AnDC54Jbxc/hL22KI9lMkRUJw6ziEHpP7kdgfNCoEathXZL4ahOzQnQKCMX/IA/4cLWGzbHWJOFX6XmP5tU1oYRs28qOzklFwCeQIXl0NFt+W+Cj7l6o5RC6F6ORCZ/izBr7pDzBe+8BzP8fXzIPOm78JSWOyO07Tx6OYvBTxTm2TEUTkWWqRPbbAlMuT4deQBYWsvCO5ChAUwXhCI/UDuMjDQHT4lixqUJTZaiJIwNCZCABzTf0Gd4M+BCm8okyNQ4thy4reQJh9oiTU9hseAqTVYYogmnrqwG5cHkMnfIdpdS2MhKgPmQ+B5Wsn9QJ7Y0eVR9N1FmaCZd4nxAOSOwgAcyztEXfeMVsPX6ONOhh05sCTKNTx9zsI41eIvCRwzm6bjGHICfWGremaD72HDCdeUdyOOtNVf8TQNIQAhpq+JHxKTZo0XdIZmNwIRcElVOEbkxR3q7SLgGI/eI1bxWovw7Vof5NviValB9YDSzhBoyxNs41S0BuoPdX8EhF39SlfXR2YVAf6gpllgQvXf1S/XJDXSCcBVtak19JsI6DtE8HRMm99tmQJ0Fcl738jjFlA6y16XuFYwZvgS5hFfGM3+suPXd/5b4jbEa18ot5RTKJMawF3Yq97SwCAwgkDELmKKoHjpkWlIyNGKLwqHcL3kt2t42TiHQIZQF7ReolHXJaFMXtrGkbVxPMn0raMt2hSfeK6dsOUFC6B1kYtttOnzKzziJ4vDcRIEFNAehmCLkbxsqUobv1JukkGWWAfc9BEMjqWBG/Z4doaMP9fNitSHuoGAYjPhOooTdHKF5BrqQ3cLBMBtHHbwViUQhdU2voWvH6qhfJ0wbKSR2HdmJVu2uuilwDYb4+yN421zmJGTV7ZVJ3vCsMu6ghi5ePETzl16A70fAo5/3quUCdeWiLbzPFhDv5/ZQSog4DiGvprC22PZfou1T+my1Ud3L8uAi/JDhWSKYWHmOOd43stYzHJuTQxjv/EvD1vcqFamhTmQ+iJQBbQ0qkAXT5yh3gECQ7zuALxBdUBguRGwl0C1AGA7EJG9jjsSbyduJLdYWR5SwKtt0nEHosdLbdiVF0Y9mTVj5Y6xTaFtsJ402e0pPncxIqztAUQVmcmlch45YEu+7hhZmwZ26qOr9twnuAsHBCt9ovvCUHXktbXb5Jpr0exjp40m+5EX25GvtsZHjkJf7T4yUV9t6cmObDb5Ua6NBy3SCV31Y61xZK9vjY1JdfuMIfvNuo9um4zswIttybbRxGvWyOrT5NGH549Mee5volBczo+lckPVZTBs9JGM1ZBdki5Ajivi832h2ga2f3+o7xBrQRrMVfLjRtg+T3ZVb9/C9DVqGJj5AEPnYPjPp6lLn5gWXwbifGNb/KFuR0AYRzyJXd5rB4123/cPtuHepDX7eNVGk7eRF9tt/DZamw5ykR7bTd52bI7T9bglpg1Pisc1+Nr7HpUr5AfXc2O5DLEev7+VjBvJdrpozXNHOtTojOM3ZWNfc5G+bMkP0aOOZERTP+qoLRnqOJb4okV+itn0flHJUaud/qgGg35RRDUvAhRDfMX/YUa48nmWsoP/b4ZMhq8OILNAsWiQOHFosR/ld9qepu1oK84j0vG32W+bgxZmbW2t4OPFAFu19xDab+eNABfxUZtxoh+yiS35oDoNkOl0bAzn2ZryfyKlhuwn6mKPmt84L9pkoJGMI4/XADE3Jek4T+TUjzrjxq3xcuzXaHu8I4x5d6Ywpb22dsDfpyl6XzyjXMo9ZJBUutYGetRDWjTVkZaspeM4m1GONmPIXtSLbeQkQ1tlnExdnvMvzVk62ADbtbXV4oC925Hi7w60edNf0XsElzD+HIwpHBK+KQ8Ld8UUdf6H+SkINN6XX35pbzW2N6DvWyl3JYlngWKNlErZk5ieLVbqS3uoIwKArBPs0qVLxbVr15x97rPPio2NjeK/xqc4huGEZ7H0iQsmOXiiu4FtHhQM++xb5D/DCgqnPnMSLpoyOgQ69RdffOFkXmR69uzZ4ocffihxaupJP+elstunkaK/j+TekQG/X3/9tTh//rxPCmzPnDnjL5fmDfWKqb0z43nOhPM9XWSvXr1akCsoFy9eKD755BN/QbperNvnHJmn57tlLOKTO0RuStbX1wtwppCThem+t956638kk8uXLxcnT54sTp8+7eD/8ssvu2Weg58DAgtEgC1K2tQs0ImFDs2b6rkgKqks1Jk9Nvjqqt0tHjhQJu89Nr2FTufIkSPFlStXitdee604fvy4b+jKR6Z4duONh/1ieNtttxVHjx61RyFrLsQFU4VvZnSXsrJ/xXfmPPbzu0WOOTd07sZlaI/UaVfMo7nq8VycGklCiULfsxDkv/32W/reJWMXddR2Pe4gTUaYwxuh2/o4X4o9avmkuofKTEU0v3F3GfjKBxzb/EYXbHW3yGNTZGWzTYdJubziujZLvMoBbQhzV8hKbOVHzcQu7DDrfcQUcZc/zJk2WPF4lDY0vkPc3Pzd2uCYaFtPOd1fR3TTM5KEdZ3eZa2PlGRUt9vq4tbp9V67pT7UZMfjKMdWPrtdGUzBV4+gIRLH0IcyOQL6aipdy8Ay3S1e3Uh3iVj2GOcOkeDe3Nz023RuH1HicWmq00khV1hOJQkMaJl04lDbWBJx6WU4dAWsYwRO+pDMMyAJyymgY4Y4X9xeTlS+Dtm0fINGO/KmMPrcTHji8LkKwZ0PDRaT4IEv/riZeN9LhTi1+SheZzE1j0cG2WPQTYpV7/gjVoFtr8XcpMD11cs5j5Djayo2zWv22bTvZInFw4cPF7feeqvj6n9lqjuXu+++24WrpFlFbFoKPPDTxV2hpVI7gXKwe+BLYA/XYFNtDUYnGrGJwRzbo1rbp2wXb8bfrs72vZqORhPjafkNBpOsg58PdnpMojsdRGZnRdiqnvZIbjcmj2kPsNvs9YyjWa3HboNrUn/BTxhS606cm0E9dSofmXJiQ+S7gL6lSiY8Oqnugpr66bKajlw4PJk0hXr2x+mP4/U0X4pFW7QpSso1/9O00pxyuzSSG1oEt5ETcKQ15bfbV1KWTfpqR1uRHtttslHvz9TWXKflE3O3/60MGVqYgoku+KKpttDKeBHsA2bCZUe1wbjtc5C43dGgy6scseaaR1Fe+T+Rz9nIkrqP1AAAAABJRU5ErkJggg==)"
      ],
      "metadata": {
        "id": "pOAYTEuS73gZ"
      }
    },
    {
      "cell_type": "code",
      "source": [
        "# Create the base matrix\n",
        "a = np.ones((5,5))\n",
        "a"
      ],
      "metadata": {
        "colab": {
          "base_uri": "https://localhost:8080/"
        },
        "id": "5L5C4SbH7hBi",
        "outputId": "b2a834f7-6346-409b-fec9-15fa06cfede5"
      },
      "execution_count": 36,
      "outputs": [
        {
          "output_type": "execute_result",
          "data": {
            "text/plain": [
              "array([[1., 1., 1., 1., 1.],\n",
              "       [1., 1., 1., 1., 1.],\n",
              "       [1., 1., 1., 1., 1.],\n",
              "       [1., 1., 1., 1., 1.],\n",
              "       [1., 1., 1., 1., 1.]])"
            ]
          },
          "metadata": {},
          "execution_count": 36
        }
      ]
    },
    {
      "cell_type": "code",
      "source": [
        "# Create the middle with zeros\n",
        "b = np.zeros((3,3))\n",
        "b"
      ],
      "metadata": {
        "colab": {
          "base_uri": "https://localhost:8080/"
        },
        "id": "OUu-21xY8O9g",
        "outputId": "31735613-6ed6-401b-ba2d-75a109261c24"
      },
      "execution_count": 42,
      "outputs": [
        {
          "output_type": "execute_result",
          "data": {
            "text/plain": [
              "array([[0., 0., 0.],\n",
              "       [0., 0., 0.],\n",
              "       [0., 0., 0.]])"
            ]
          },
          "metadata": {},
          "execution_count": 42
        }
      ]
    },
    {
      "cell_type": "code",
      "source": [
        "# change middle element value [row_index, col_index]\n",
        "b[1,1] = 9\n",
        "b"
      ],
      "metadata": {
        "colab": {
          "base_uri": "https://localhost:8080/"
        },
        "id": "qdOdCVSD8bIs",
        "outputId": "175cfde8-edd0-4e5f-9ba5-a660e16cb36e"
      },
      "execution_count": 43,
      "outputs": [
        {
          "output_type": "execute_result",
          "data": {
            "text/plain": [
              "array([[0., 0., 0.],\n",
              "       [0., 9., 0.],\n",
              "       [0., 0., 0.]])"
            ]
          },
          "metadata": {},
          "execution_count": 43
        }
      ]
    },
    {
      "cell_type": "code",
      "source": [
        "# Update middle of original matrix a\n",
        "a[1:-1, 1:-1] = b\n",
        "a"
      ],
      "metadata": {
        "colab": {
          "base_uri": "https://localhost:8080/"
        },
        "id": "CmZT7EHT898q",
        "outputId": "54301da8-c431-4846-d9ab-649485099b79"
      },
      "execution_count": 45,
      "outputs": [
        {
          "output_type": "execute_result",
          "data": {
            "text/plain": [
              "array([[1., 1., 1., 1., 1.],\n",
              "       [1., 0., 0., 0., 1.],\n",
              "       [1., 0., 9., 0., 1.],\n",
              "       [1., 0., 0., 0., 1.],\n",
              "       [1., 1., 1., 1., 1.]])"
            ]
          },
          "metadata": {},
          "execution_count": 45
        }
      ]
    },
    {
      "cell_type": "code",
      "source": [
        "# grab elements passing an index list\n",
        "A = np.array([1,2,3,4,5,6,7,8,9])\n",
        "print('original',A)\n",
        "A[[1,2,8]] # get this specific elements"
      ],
      "metadata": {
        "colab": {
          "base_uri": "https://localhost:8080/"
        },
        "id": "6PfV1B4pHvox",
        "outputId": "ce76128c-97f1-4aa7-bfef-42f6d59e382f"
      },
      "execution_count": 87,
      "outputs": [
        {
          "output_type": "stream",
          "name": "stdout",
          "text": [
            "original [1 2 3 4 5 6 7 8 9]\n"
          ]
        },
        {
          "output_type": "execute_result",
          "data": {
            "text/plain": [
              "array([2, 3, 9])"
            ]
          },
          "metadata": {},
          "execution_count": 87
        }
      ]
    },
    {
      "cell_type": "markdown",
      "source": [
        "![Screenshot 2023-01-26 at 9.36.31 AM.png](data:image/png;base64,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)"
      ],
      "metadata": {
        "id": "fuyBS6z7J_G3"
      }
    },
    {
      "cell_type": "code",
      "source": [
        "A = np.arange(1,31)\n",
        "A = A.reshape(6,5)\n",
        "A"
      ],
      "metadata": {
        "colab": {
          "base_uri": "https://localhost:8080/"
        },
        "id": "k-nDpCADJ9Ih",
        "outputId": "91c3ba2f-fef8-49c6-f00d-d92e9b3d1d08"
      },
      "execution_count": 104,
      "outputs": [
        {
          "output_type": "execute_result",
          "data": {
            "text/plain": [
              "array([[ 1,  2,  3,  4,  5],\n",
              "       [ 6,  7,  8,  9, 10],\n",
              "       [11, 12, 13, 14, 15],\n",
              "       [16, 17, 18, 19, 20],\n",
              "       [21, 22, 23, 24, 25],\n",
              "       [26, 27, 28, 29, 30]])"
            ]
          },
          "metadata": {},
          "execution_count": 104
        }
      ]
    },
    {
      "cell_type": "code",
      "source": [
        "# Get the blue selection using slicing\n",
        "blue = A[2:4,:2]\n",
        "blue"
      ],
      "metadata": {
        "colab": {
          "base_uri": "https://localhost:8080/"
        },
        "id": "lxzvLrWiKW1L",
        "outputId": "1e4ac4bb-022a-47b2-ef62-8773d5c7d243"
      },
      "execution_count": 105,
      "outputs": [
        {
          "output_type": "execute_result",
          "data": {
            "text/plain": [
              "array([[11, 12],\n",
              "       [16, 17]])"
            ]
          },
          "metadata": {},
          "execution_count": 105
        }
      ]
    },
    {
      "cell_type": "code",
      "source": [
        "# Get the green selection using index list for rows and columns\n",
        "green = A[[0,1,2,3],[1,2,3,4]]\n",
        "green"
      ],
      "metadata": {
        "colab": {
          "base_uri": "https://localhost:8080/"
        },
        "id": "1TWbu-9LKwlE",
        "outputId": "4f629800-a4d7-4005-e60e-38893b9e8051"
      },
      "execution_count": 107,
      "outputs": [
        {
          "output_type": "execute_result",
          "data": {
            "text/plain": [
              "array([ 2,  8, 14, 20])"
            ]
          },
          "metadata": {},
          "execution_count": 107
        }
      ]
    },
    {
      "cell_type": "code",
      "source": [
        "# Get red selection uisng list and slicing\n",
        "red = A[[0,4,5], 3:]\n",
        "red"
      ],
      "metadata": {
        "colab": {
          "base_uri": "https://localhost:8080/"
        },
        "id": "DCdvd28yLKrm",
        "outputId": "2d9547f2-a3f1-4bc6-c301-2e3fb3e20e50"
      },
      "execution_count": 108,
      "outputs": [
        {
          "output_type": "execute_result",
          "data": {
            "text/plain": [
              "array([[ 4,  5],\n",
              "       [24, 25],\n",
              "       [29, 30]])"
            ]
          },
          "metadata": {},
          "execution_count": 108
        }
      ]
    },
    {
      "cell_type": "markdown",
      "source": [
        "## Load Data from File"
      ],
      "metadata": {
        "id": "VEDXx0atEmhZ"
      }
    },
    {
      "cell_type": "code",
      "source": [
        "# Create an array from data.txt\n",
        "A= np.genfromtxt('data.txt',delimiter=',')\n",
        "A"
      ],
      "metadata": {
        "colab": {
          "base_uri": "https://localhost:8080/"
        },
        "id": "g3KjdC9tEp2M",
        "outputId": "63acb022-c534-415c-c20e-b506f298230b"
      },
      "execution_count": 73,
      "outputs": [
        {
          "output_type": "execute_result",
          "data": {
            "text/plain": [
              "array([[  2.,   3.,   4.,   5.,  86.,  23.,   6.,   7.,  87.,  89.,  89.,\n",
              "         89.,  41.,  32.,  56.],\n",
              "       [343., 434.,  67.,   8.,   3.,  78.,  89.,  26.,  77.,  88.,  98.,\n",
              "         74.,  32., 134.,  56.],\n",
              "       [ 86.,  55.,  63.,  23.,  45.,  67.,  78.,  99.,  87.,  19.,  20.,\n",
              "         33.,  84.,  57.,  92.]])"
            ]
          },
          "metadata": {},
          "execution_count": 73
        }
      ]
    },
    {
      "cell_type": "code",
      "source": [
        "# Cast the data type\n",
        "A = A.astype(int)\n",
        "A"
      ],
      "metadata": {
        "colab": {
          "base_uri": "https://localhost:8080/"
        },
        "id": "tdwIpOZvFwC-",
        "outputId": "ceeaf7ad-2a43-4c75-947f-0ca5e4c44591"
      },
      "execution_count": 75,
      "outputs": [
        {
          "output_type": "execute_result",
          "data": {
            "text/plain": [
              "array([[  2,   3,   4,   5,  86,  23,   6,   7,  87,  89,  89,  89,  41,\n",
              "         32,  56],\n",
              "       [343, 434,  67,   8,   3,  78,  89,  26,  77,  88,  98,  74,  32,\n",
              "        134,  56],\n",
              "       [ 86,  55,  63,  23,  45,  67,  78,  99,  87,  19,  20,  33,  84,\n",
              "         57,  92]])"
            ]
          },
          "metadata": {},
          "execution_count": 75
        }
      ]
    }
  ]
}