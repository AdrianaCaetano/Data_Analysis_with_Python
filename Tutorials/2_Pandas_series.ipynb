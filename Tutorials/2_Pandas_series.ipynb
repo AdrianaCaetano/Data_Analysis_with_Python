{
  "nbformat": 4,
  "nbformat_minor": 0,
  "metadata": {
    "colab": {
      "provenance": [],
      "authorship_tag": "ABX9TyM+ldn7oFdO2NevSQH0u3Q2",
      "include_colab_link": true
    },
    "kernelspec": {
      "name": "python3",
      "display_name": "Python 3"
    },
    "language_info": {
      "name": "python"
    }
  },
  "cells": [
    {
      "cell_type": "markdown",
      "metadata": {
        "id": "view-in-github",
        "colab_type": "text"
      },
      "source": [
        "<a href=\"https://colab.research.google.com/github/AdrianaCaetano/Data_Analysis_with_Python/blob/main/Tutorials/2_Pandas_series.ipynb\" target=\"_parent\"><img src=\"https://colab.research.google.com/assets/colab-badge.svg\" alt=\"Open In Colab\"/></a>"
      ]
    },
    {
      "cell_type": "markdown",
      "source": [
        "# Data Analysis with Python \n",
        "### from freeCodeCamp Certification\n"
      ],
      "metadata": {
        "id": "QrrEgS94wJ_l"
      }
    },
    {
      "cell_type": "markdown",
      "source": [
        "# Pandas Series Module\n",
        "\n",
        "Pandas Series: \n",
        "Ordered sequence of elements with an index and an associated data type. It may or may not have a name."
      ],
      "metadata": {
        "id": "JAqBKi9HVKVw"
      }
    },
    {
      "cell_type": "code",
      "execution_count": null,
      "metadata": {
        "id": "pDiFD-hKwG5d"
      },
      "outputs": [],
      "source": [
        "import pandas as pd\n",
        "import numpy as np"
      ]
    },
    {
      "cell_type": "markdown",
      "source": [
        "\n",
        "\n",
        "\n",
        "\n",
        "Use 'The Group of Seven', G7, which is a political forum between seven countries - Canada, France, Germany, Italy, Japan, the United Kingdom and the United States, to do the analysis."
      ],
      "metadata": {
        "id": "rzMboqjjw619"
      }
    },
    {
      "cell_type": "code",
      "source": [
        "# G7 population in millions\n",
        "g7_pop = pd.Series([35.467, 63.951, 80.940, 60.665, 127.061, 64.511, 318.523])\n",
        "g7_pop"
      ],
      "metadata": {
        "colab": {
          "base_uri": "https://localhost:8080/"
        },
        "id": "6P7klrNzw32C",
        "outputId": "405141de-843d-43ac-8a67-d69bf6eb351f"
      },
      "execution_count": null,
      "outputs": [
        {
          "output_type": "execute_result",
          "data": {
            "text/plain": [
              "0     35.467\n",
              "1     63.951\n",
              "2     80.940\n",
              "3     60.665\n",
              "4    127.061\n",
              "5     64.511\n",
              "6    318.523\n",
              "dtype: float64"
            ]
          },
          "metadata": {},
          "execution_count": 77
        }
      ]
    },
    {
      "cell_type": "code",
      "source": [
        "# show values\n",
        "g7_pop.values"
      ],
      "metadata": {
        "colab": {
          "base_uri": "https://localhost:8080/"
        },
        "id": "a4KVsGAj8RSw",
        "outputId": "7320152d-c54b-4415-935c-87f7ec4c7d8e"
      },
      "execution_count": null,
      "outputs": [
        {
          "output_type": "execute_result",
          "data": {
            "text/plain": [
              "array([ 35.467,  63.951,  80.94 ,  60.665, 127.061,  64.511, 318.523])"
            ]
          },
          "metadata": {},
          "execution_count": 78
        }
      ]
    },
    {
      "cell_type": "code",
      "source": [
        "# Add a name to make clear to the audience what the content is \n",
        "g7_pop.name = 'G7 Population in millions'\n",
        "g7_pop"
      ],
      "metadata": {
        "colab": {
          "base_uri": "https://localhost:8080/"
        },
        "id": "s_TjuvRIx3vd",
        "outputId": "00884172-1899-4463-b5d0-4c22b0133f15"
      },
      "execution_count": null,
      "outputs": [
        {
          "output_type": "execute_result",
          "data": {
            "text/plain": [
              "0     35.467\n",
              "1     63.951\n",
              "2     80.940\n",
              "3     60.665\n",
              "4    127.061\n",
              "5     64.511\n",
              "6    318.523\n",
              "Name: G7 Population in millions, dtype: float64"
            ]
          },
          "metadata": {},
          "execution_count": 79
        }
      ]
    },
    {
      "cell_type": "code",
      "source": [
        "type(g7_pop.values)"
      ],
      "metadata": {
        "colab": {
          "base_uri": "https://localhost:8080/"
        },
        "id": "NLhEpuopyKLH",
        "outputId": "742aa01e-c28b-486b-ad6e-9d53e281b318"
      },
      "execution_count": null,
      "outputs": [
        {
          "output_type": "execute_result",
          "data": {
            "text/plain": [
              "numpy.ndarray"
            ]
          },
          "metadata": {},
          "execution_count": 80
        }
      ]
    },
    {
      "cell_type": "markdown",
      "source": [
        "Pandas series are backed up by numpy arrays"
      ],
      "metadata": {
        "id": "Zhv2ChaHyPD4"
      }
    },
    {
      "cell_type": "code",
      "source": [
        "# access values by index\n",
        "g7_pop[0]"
      ],
      "metadata": {
        "colab": {
          "base_uri": "https://localhost:8080/"
        },
        "id": "e_y-wbeSydRw",
        "outputId": "71ef9810-122d-43b9-9b2e-85e07c995b06"
      },
      "execution_count": null,
      "outputs": [
        {
          "output_type": "execute_result",
          "data": {
            "text/plain": [
              "35.467"
            ]
          },
          "metadata": {},
          "execution_count": 81
        }
      ]
    },
    {
      "cell_type": "code",
      "source": [
        "g7_pop.index"
      ],
      "metadata": {
        "colab": {
          "base_uri": "https://localhost:8080/"
        },
        "id": "hAQK8ar-ydVF",
        "outputId": "cba5c036-c3cb-4443-851a-85e9656784d6"
      },
      "execution_count": null,
      "outputs": [
        {
          "output_type": "execute_result",
          "data": {
            "text/plain": [
              "RangeIndex(start=0, stop=7, step=1)"
            ]
          },
          "metadata": {},
          "execution_count": 82
        }
      ]
    },
    {
      "cell_type": "code",
      "source": [
        "# We can define the index\n",
        "g7_pop.index = [\n",
        "    'Canada',\n",
        "    'France',\n",
        "    'Germany',\n",
        "    'Italy',\n",
        "    'Japan',\n",
        "    'United Kingdom',\n",
        "    'United States',\n",
        "]\n",
        "g7_pop"
      ],
      "metadata": {
        "colab": {
          "base_uri": "https://localhost:8080/"
        },
        "id": "TkR3ZBcsyqo_",
        "outputId": "9f829ab5-7892-4093-cc17-0eb245e85a48"
      },
      "execution_count": null,
      "outputs": [
        {
          "output_type": "execute_result",
          "data": {
            "text/plain": [
              "Canada             35.467\n",
              "France             63.951\n",
              "Germany            80.940\n",
              "Italy              60.665\n",
              "Japan             127.061\n",
              "United Kingdom     64.511\n",
              "United States     318.523\n",
              "Name: G7 Population in millions, dtype: float64"
            ]
          },
          "metadata": {},
          "execution_count": 83
        }
      ]
    },
    {
      "cell_type": "code",
      "source": [
        "# We can create series from dictionaries\n",
        "pd.Series ({\n",
        "    'Canada': 35.467,\n",
        "    'France': 63.951,\n",
        "    'Germany': 80.94,\n",
        "    'Italy': 60.665,\n",
        "    'Japan': 127.061,\n",
        "    'United Kingdom': 64.511,\n",
        "    'United States': 318.523\n",
        "}, name='G7 Population in millions')"
      ],
      "metadata": {
        "colab": {
          "base_uri": "https://localhost:8080/"
        },
        "id": "lqTWJkbOzVNW",
        "outputId": "54a314c6-e07e-4e38-fd6a-d6b46f26ce42"
      },
      "execution_count": null,
      "outputs": [
        {
          "output_type": "execute_result",
          "data": {
            "text/plain": [
              "Canada             35.467\n",
              "France             63.951\n",
              "Germany            80.940\n",
              "Italy              60.665\n",
              "Japan             127.061\n",
              "United Kingdom     64.511\n",
              "United States     318.523\n",
              "Name: G7 Population in millions, dtype: float64"
            ]
          },
          "metadata": {},
          "execution_count": 84
        }
      ]
    },
    {
      "cell_type": "code",
      "source": [
        "# Create series passing lists of values\n",
        "pd.Series(\n",
        "    [35.467, 63.951, 80.94, 60.665, 127.061, 64.511, 318.523],\n",
        "    index=['Canada', 'France', 'Germany', 'Italy', 'Japan', 'United Kingdom',\n",
        "       'United States'],\n",
        "    name='G7 Population in millions')"
      ],
      "metadata": {
        "colab": {
          "base_uri": "https://localhost:8080/"
        },
        "id": "5dH2_9iRzuNy",
        "outputId": "6320297e-c3dc-4cc3-e7c2-13fa26efb73c"
      },
      "execution_count": null,
      "outputs": [
        {
          "output_type": "execute_result",
          "data": {
            "text/plain": [
              "Canada             35.467\n",
              "France             63.951\n",
              "Germany            80.940\n",
              "Italy              60.665\n",
              "Japan             127.061\n",
              "United Kingdom     64.511\n",
              "United States     318.523\n",
              "Name: G7 Population in millions, dtype: float64"
            ]
          },
          "metadata": {},
          "execution_count": 85
        }
      ]
    },
    {
      "cell_type": "code",
      "source": [
        "# Create series from other series by specifying the index\n",
        "pd.Series(g7_pop, index=['France', 'Germany', 'Italy', 'Spain'])"
      ],
      "metadata": {
        "colab": {
          "base_uri": "https://localhost:8080/"
        },
        "id": "87M_tV1MzzK6",
        "outputId": "04031f84-a0b1-4ae0-e15b-38c30a122c15"
      },
      "execution_count": null,
      "outputs": [
        {
          "output_type": "execute_result",
          "data": {
            "text/plain": [
              "France     63.951\n",
              "Germany    80.940\n",
              "Italy      60.665\n",
              "Spain         NaN\n",
              "Name: G7 Population in millions, dtype: float64"
            ]
          },
          "metadata": {},
          "execution_count": 86
        }
      ]
    },
    {
      "cell_type": "markdown",
      "source": [
        "## Indexing\n",
        "Using index to retrieve values"
      ],
      "metadata": {
        "id": "Lqkiymqz0_AP"
      }
    },
    {
      "cell_type": "code",
      "source": [
        "# Retrieve a value using the index\n",
        "g7_pop['Canada']"
      ],
      "metadata": {
        "colab": {
          "base_uri": "https://localhost:8080/"
        },
        "id": "HeHR7IJ8z9g9",
        "outputId": "cdc1f233-8a4d-4f2b-92a7-b6d49be07831"
      },
      "execution_count": null,
      "outputs": [
        {
          "output_type": "execute_result",
          "data": {
            "text/plain": [
              "35.467"
            ]
          },
          "metadata": {},
          "execution_count": 87
        }
      ]
    },
    {
      "cell_type": "code",
      "source": [
        "# Retrieve a value using the numeric position with iloc\n",
        "g7_pop.iloc[0] # First element"
      ],
      "metadata": {
        "colab": {
          "base_uri": "https://localhost:8080/"
        },
        "id": "CCasX4zm0Ecy",
        "outputId": "62e8fdb5-9031-4ab2-d75b-a9f9a5739968"
      },
      "execution_count": null,
      "outputs": [
        {
          "output_type": "execute_result",
          "data": {
            "text/plain": [
              "35.467"
            ]
          },
          "metadata": {},
          "execution_count": 88
        }
      ]
    },
    {
      "cell_type": "code",
      "source": [
        "g7_pop.iloc[-1] # Last element"
      ],
      "metadata": {
        "colab": {
          "base_uri": "https://localhost:8080/"
        },
        "id": "TUt_P-616fS9",
        "outputId": "1f020b19-c015-47dc-fc96-72ca4c4cecaa"
      },
      "execution_count": null,
      "outputs": [
        {
          "output_type": "execute_result",
          "data": {
            "text/plain": [
              "318.523"
            ]
          },
          "metadata": {},
          "execution_count": 89
        }
      ]
    },
    {
      "cell_type": "code",
      "source": [
        "# Select multiple elements using index\n",
        "g7_pop[['Italy', 'France']]"
      ],
      "metadata": {
        "colab": {
          "base_uri": "https://localhost:8080/"
        },
        "id": "sXr9bYOg0T5k",
        "outputId": "e8a6b288-842f-4f20-c643-009469f5ef8d"
      },
      "execution_count": null,
      "outputs": [
        {
          "output_type": "execute_result",
          "data": {
            "text/plain": [
              "Italy     60.665\n",
              "France    63.951\n",
              "Name: G7 Population in millions, dtype: float64"
            ]
          },
          "metadata": {},
          "execution_count": 90
        }
      ]
    },
    {
      "cell_type": "code",
      "source": [
        "# Select multiple elements using iloc\n",
        "g7_pop.iloc[[0,1]]"
      ],
      "metadata": {
        "colab": {
          "base_uri": "https://localhost:8080/"
        },
        "id": "qeXNxLzy0euw",
        "outputId": "4718c425-4d67-4e7d-ec43-faa567db3205"
      },
      "execution_count": null,
      "outputs": [
        {
          "output_type": "execute_result",
          "data": {
            "text/plain": [
              "Canada    35.467\n",
              "France    63.951\n",
              "Name: G7 Population in millions, dtype: float64"
            ]
          },
          "metadata": {},
          "execution_count": 91
        }
      ]
    },
    {
      "cell_type": "code",
      "source": [
        "# Slicing (both upper and lower limits are included in Pandas)\n",
        "g7_pop['Canada': 'Italy']"
      ],
      "metadata": {
        "colab": {
          "base_uri": "https://localhost:8080/"
        },
        "id": "Ef8_nU5w0ngB",
        "outputId": "21e9ac4f-20f7-439d-8468-e75708707c9c"
      },
      "execution_count": null,
      "outputs": [
        {
          "output_type": "execute_result",
          "data": {
            "text/plain": [
              "Canada     35.467\n",
              "France     63.951\n",
              "Germany    80.940\n",
              "Italy      60.665\n",
              "Name: G7 Population in millions, dtype: float64"
            ]
          },
          "metadata": {},
          "execution_count": 92
        }
      ]
    },
    {
      "cell_type": "code",
      "source": [
        "# select middle elements by position\n",
        "g7_pop[1:-1]\n",
        "# or \n",
        "# g7_pop.iloc[1:-1]"
      ],
      "metadata": {
        "colab": {
          "base_uri": "https://localhost:8080/"
        },
        "id": "wpU1577W9CCr",
        "outputId": "b64b8f7f-4e08-429d-ba80-cc11d904901e"
      },
      "execution_count": null,
      "outputs": [
        {
          "output_type": "execute_result",
          "data": {
            "text/plain": [
              "France             63.951\n",
              "Germany            80.940\n",
              "Italy              60.665\n",
              "Japan             127.061\n",
              "United Kingdom     64.511\n",
              "Name: G7 Population in millions, dtype: float64"
            ]
          },
          "metadata": {},
          "execution_count": 93
        }
      ]
    },
    {
      "cell_type": "code",
      "source": [
        "# show first and last elements\n",
        "# g7_pop[[0,-1]]\n",
        "# or\n",
        "g7_pop.iloc[[0,-1]]"
      ],
      "metadata": {
        "colab": {
          "base_uri": "https://localhost:8080/"
        },
        "id": "VEjcNKGY9gun",
        "outputId": "fef0274a-2b55-4c2e-fe6c-f906ad093951"
      },
      "execution_count": null,
      "outputs": [
        {
          "output_type": "execute_result",
          "data": {
            "text/plain": [
              "Canada            35.467\n",
              "United States    318.523\n",
              "Name: G7 Population in millions, dtype: float64"
            ]
          },
          "metadata": {},
          "execution_count": 94
        }
      ]
    },
    {
      "cell_type": "code",
      "source": [
        "# Sort values \n",
        "g7_pop.sort_values()"
      ],
      "metadata": {
        "colab": {
          "base_uri": "https://localhost:8080/"
        },
        "id": "OBYLfQnA9xuS",
        "outputId": "2720eb05-c165-4b61-dbf5-17a20dd3d314"
      },
      "execution_count": null,
      "outputs": [
        {
          "output_type": "execute_result",
          "data": {
            "text/plain": [
              "Canada             35.467\n",
              "Italy              60.665\n",
              "France             63.951\n",
              "United Kingdom     64.511\n",
              "Germany            80.940\n",
              "Japan             127.061\n",
              "United States     318.523\n",
              "Name: G7 Population in millions, dtype: float64"
            ]
          },
          "metadata": {},
          "execution_count": 95
        }
      ]
    },
    {
      "cell_type": "code",
      "source": [
        "# show elements in reverse position\n",
        "g7_pop[::-1]"
      ],
      "metadata": {
        "colab": {
          "base_uri": "https://localhost:8080/"
        },
        "id": "6gfApywj9Yp2",
        "outputId": "f1337fad-e81f-461e-f2b5-64430ffdb242"
      },
      "execution_count": null,
      "outputs": [
        {
          "output_type": "execute_result",
          "data": {
            "text/plain": [
              "United States     318.523\n",
              "United Kingdom     64.511\n",
              "Japan             127.061\n",
              "Italy              60.665\n",
              "Germany            80.940\n",
              "France             63.951\n",
              "Canada             35.467\n",
              "Name: G7 Population in millions, dtype: float64"
            ]
          },
          "metadata": {},
          "execution_count": 96
        }
      ]
    },
    {
      "cell_type": "markdown",
      "source": [
        "## Conditional Selection \n",
        "Series boolean arrays, also called masks"
      ],
      "metadata": {
        "id": "HBYEyFdc1LZS"
      }
    },
    {
      "cell_type": "code",
      "source": [
        "# returns a bool series \n",
        "g7_pop > 70"
      ],
      "metadata": {
        "colab": {
          "base_uri": "https://localhost:8080/"
        },
        "id": "dVJ_wCKG1VK7",
        "outputId": "a8c9bacc-9ea4-468f-aa42-e48c5b013f38"
      },
      "execution_count": null,
      "outputs": [
        {
          "output_type": "execute_result",
          "data": {
            "text/plain": [
              "Canada            False\n",
              "France            False\n",
              "Germany            True\n",
              "Italy             False\n",
              "Japan              True\n",
              "United Kingdom    False\n",
              "United States      True\n",
              "Name: G7 Population in millions, dtype: bool"
            ]
          },
          "metadata": {},
          "execution_count": 97
        }
      ]
    },
    {
      "cell_type": "code",
      "source": [
        "# use the bool series to return a slice of the set that meets the condition\n",
        "g7_pop[g7_pop > 70]"
      ],
      "metadata": {
        "colab": {
          "base_uri": "https://localhost:8080/"
        },
        "id": "2cBRMmXv1ZWN",
        "outputId": "4b148c93-d1a5-49dc-c728-ea2e52a3f4d8"
      },
      "execution_count": null,
      "outputs": [
        {
          "output_type": "execute_result",
          "data": {
            "text/plain": [
              "Germany           80.940\n",
              "Japan            127.061\n",
              "United States    318.523\n",
              "Name: G7 Population in millions, dtype: float64"
            ]
          },
          "metadata": {},
          "execution_count": 98
        }
      ]
    },
    {
      "cell_type": "code",
      "source": [
        "g7_pop.mean()"
      ],
      "metadata": {
        "colab": {
          "base_uri": "https://localhost:8080/"
        },
        "id": "p598tVUK1tWv",
        "outputId": "06e8b8d4-49e8-4ce0-ffdc-a336a4bbd6ee"
      },
      "execution_count": null,
      "outputs": [
        {
          "output_type": "execute_result",
          "data": {
            "text/plain": [
              "107.30257142857144"
            ]
          },
          "metadata": {},
          "execution_count": 99
        }
      ]
    },
    {
      "cell_type": "code",
      "source": [
        "# filter data based on a condition\n",
        "g7_pop[g7_pop > g7_pop.mean()]"
      ],
      "metadata": {
        "colab": {
          "base_uri": "https://localhost:8080/"
        },
        "id": "dkIJDTIS1xcK",
        "outputId": "7f49f474-e5ed-49c8-d679-1f3f61b0b112"
      },
      "execution_count": null,
      "outputs": [
        {
          "output_type": "execute_result",
          "data": {
            "text/plain": [
              "Japan            127.061\n",
              "United States    318.523\n",
              "Name: G7 Population in millions, dtype: float64"
            ]
          },
          "metadata": {},
          "execution_count": 100
        }
      ]
    },
    {
      "cell_type": "code",
      "source": [
        "g7_pop.std()"
      ],
      "metadata": {
        "colab": {
          "base_uri": "https://localhost:8080/"
        },
        "id": "8P65fVZr183e",
        "outputId": "0c2a27d0-fadd-485b-f013-1f8c4580662b"
      },
      "execution_count": null,
      "outputs": [
        {
          "output_type": "execute_result",
          "data": {
            "text/plain": [
              "97.24996987121581"
            ]
          },
          "metadata": {},
          "execution_count": 101
        }
      ]
    },
    {
      "cell_type": "markdown",
      "source": [
        "~ not\n",
        "\n",
        "| or\n",
        "\n",
        "& and"
      ],
      "metadata": {
        "id": "SoXWIjwQ2CKa"
      }
    },
    {
      "cell_type": "code",
      "source": [
        "g7_pop [~(g7_pop > g7_pop.mean())]"
      ],
      "metadata": {
        "colab": {
          "base_uri": "https://localhost:8080/"
        },
        "id": "lb-_L6B61_Av",
        "outputId": "7dd386a1-6eeb-4d15-c9ac-28f799363d0b"
      },
      "execution_count": null,
      "outputs": [
        {
          "output_type": "execute_result",
          "data": {
            "text/plain": [
              "Canada            35.467\n",
              "France            63.951\n",
              "Germany           80.940\n",
              "Italy             60.665\n",
              "United Kingdom    64.511\n",
              "Name: G7 Population in millions, dtype: float64"
            ]
          },
          "metadata": {},
          "execution_count": 102
        }
      ]
    },
    {
      "cell_type": "code",
      "source": [
        "g7_pop[(g7_pop > g7_pop.mean() - g7_pop.std() / 2) | (g7_pop > g7_pop.mean() + g7_pop.std() / 2)]"
      ],
      "metadata": {
        "colab": {
          "base_uri": "https://localhost:8080/"
        },
        "id": "cInpyd6k2TbX",
        "outputId": "1a271773-dc47-4e3f-8be3-4f73fa7dd5a6"
      },
      "execution_count": null,
      "outputs": [
        {
          "output_type": "execute_result",
          "data": {
            "text/plain": [
              "France             63.951\n",
              "Germany            80.940\n",
              "Italy              60.665\n",
              "Japan             127.061\n",
              "United Kingdom     64.511\n",
              "United States     318.523\n",
              "Name: G7 Population in millions, dtype: float64"
            ]
          },
          "metadata": {},
          "execution_count": 103
        }
      ]
    },
    {
      "cell_type": "markdown",
      "source": [
        "## Logic Functions"
      ],
      "metadata": {
        "id": "ZgoWJS1Y-qUn"
      }
    },
    {
      "cell_type": "code",
      "source": [
        "# Return True if none of its elements is zero\n",
        "# Return whether all elements are True. Returns True unless there at least one \n",
        "# element within a series or along a Dataframe axis that is False or equivalent (e.g. zero or empty).\n",
        "\n",
        "g7_pop.all()"
      ],
      "metadata": {
        "colab": {
          "base_uri": "https://localhost:8080/"
        },
        "id": "B0c8-h1S-tLI",
        "outputId": "f90863a0-b725-40f2-eaa6-7f042ce62e1b"
      },
      "execution_count": null,
      "outputs": [
        {
          "output_type": "execute_result",
          "data": {
            "text/plain": [
              "True"
            ]
          },
          "metadata": {},
          "execution_count": 104
        }
      ]
    },
    {
      "cell_type": "code",
      "source": [
        "# Return True if any of its elements is zero\n",
        "# Return whether any element is True. Returns False unless there is at least one\n",
        "# element within a series or along a Dataframe axis that is True or equivalent (e.g. non-zero or non-empty).\n",
        "\n",
        "# pd.Series([True, False]).any()\n",
        "pd.Series([False, False]).any()"
      ],
      "metadata": {
        "colab": {
          "base_uri": "https://localhost:8080/"
        },
        "id": "dBtKVr6o-0Ov",
        "outputId": "d79bd568-ee1a-43e4-a127-e360bf3f9765"
      },
      "execution_count": null,
      "outputs": [
        {
          "output_type": "execute_result",
          "data": {
            "text/plain": [
              "False"
            ]
          },
          "metadata": {},
          "execution_count": 107
        }
      ]
    },
    {
      "cell_type": "markdown",
      "source": [
        "## Operations and Methods\n",
        "Series also support vectorized operations and aggregation functions as Numpy"
      ],
      "metadata": {
        "id": "Oh200_9G2tog"
      }
    },
    {
      "cell_type": "code",
      "source": [
        "g7_pop"
      ],
      "metadata": {
        "colab": {
          "base_uri": "https://localhost:8080/"
        },
        "id": "aDS7VoUu238I",
        "outputId": "d8de46e5-7071-4949-d784-b0de6faa31f6"
      },
      "execution_count": null,
      "outputs": [
        {
          "output_type": "execute_result",
          "data": {
            "text/plain": [
              "Canada             35.467\n",
              "France             63.951\n",
              "Germany            80.940\n",
              "Italy              60.665\n",
              "Japan             127.061\n",
              "United Kingdom     64.511\n",
              "United States     318.523\n",
              "Name: G7 Population in millions, dtype: float64"
            ]
          },
          "metadata": {},
          "execution_count": 28
        }
      ]
    },
    {
      "cell_type": "code",
      "source": [
        "# To millions\n",
        "g7_pop * 1_000_000"
      ],
      "metadata": {
        "colab": {
          "base_uri": "https://localhost:8080/"
        },
        "id": "rfVrWEcL28tV",
        "outputId": "8bf720ad-993a-44ac-eef5-c8612e88e60f"
      },
      "execution_count": null,
      "outputs": [
        {
          "output_type": "execute_result",
          "data": {
            "text/plain": [
              "Canada             35467000.0\n",
              "France             63951000.0\n",
              "Germany            80940000.0\n",
              "Italy              60665000.0\n",
              "Japan             127061000.0\n",
              "United Kingdom     64511000.0\n",
              "United States     318523000.0\n",
              "Name: G7 Population in millions, dtype: float64"
            ]
          },
          "metadata": {},
          "execution_count": 29
        }
      ]
    },
    {
      "cell_type": "code",
      "source": [
        "g7_pop.mean()"
      ],
      "metadata": {
        "colab": {
          "base_uri": "https://localhost:8080/"
        },
        "id": "1uAmtXBc3Djo",
        "outputId": "8b16fe35-a937-453a-bbfa-86fd4a475f56"
      },
      "execution_count": null,
      "outputs": [
        {
          "output_type": "execute_result",
          "data": {
            "text/plain": [
              "107.30257142857144"
            ]
          },
          "metadata": {},
          "execution_count": 30
        }
      ]
    },
    {
      "cell_type": "code",
      "source": [
        "g7_pop.sum()"
      ],
      "metadata": {
        "colab": {
          "base_uri": "https://localhost:8080/"
        },
        "id": "yTHOm8qkAFB2",
        "outputId": "53b5a07c-b011-4747-c821-052b79d69f92"
      },
      "execution_count": null,
      "outputs": [
        {
          "output_type": "execute_result",
          "data": {
            "text/plain": [
              "751.118"
            ]
          },
          "metadata": {},
          "execution_count": 108
        }
      ]
    },
    {
      "cell_type": "code",
      "source": [
        "g7_pop.max()"
      ],
      "metadata": {
        "colab": {
          "base_uri": "https://localhost:8080/"
        },
        "id": "tUmU7-SQAM_B",
        "outputId": "f5414477-a196-42b3-e7d9-5c8aede42254"
      },
      "execution_count": null,
      "outputs": [
        {
          "output_type": "execute_result",
          "data": {
            "text/plain": [
              "318.523"
            ]
          },
          "metadata": {},
          "execution_count": 109
        }
      ]
    },
    {
      "cell_type": "code",
      "source": [
        "g7_pop.min()"
      ],
      "metadata": {
        "colab": {
          "base_uri": "https://localhost:8080/"
        },
        "id": "pQAcZdDnAPIh",
        "outputId": "4b695c57-d962-4d40-cbe0-68bc64e7b846"
      },
      "execution_count": null,
      "outputs": [
        {
          "output_type": "execute_result",
          "data": {
            "text/plain": [
              "35.467"
            ]
          },
          "metadata": {},
          "execution_count": 110
        }
      ]
    },
    {
      "cell_type": "code",
      "source": [
        "np.log(g7_pop)"
      ],
      "metadata": {
        "colab": {
          "base_uri": "https://localhost:8080/"
        },
        "id": "PzJgHAil3G_8",
        "outputId": "82f1dcb3-170b-49b3-f856-dcd10f9c0ce4"
      },
      "execution_count": null,
      "outputs": [
        {
          "output_type": "execute_result",
          "data": {
            "text/plain": [
              "Canada            3.568603\n",
              "France            4.158117\n",
              "Germany           4.393708\n",
              "Italy             4.105367\n",
              "Japan             4.844667\n",
              "United Kingdom    4.166836\n",
              "United States     5.763695\n",
              "Name: G7 Population in millions, dtype: float64"
            ]
          },
          "metadata": {},
          "execution_count": 31
        }
      ]
    },
    {
      "cell_type": "code",
      "source": [
        "g7_pop['France': 'Italy'].mean()"
      ],
      "metadata": {
        "colab": {
          "base_uri": "https://localhost:8080/"
        },
        "id": "PDrpkUoA3MII",
        "outputId": "e84b7137-1b73-4953-cd11-41cb8f0ba60d"
      },
      "execution_count": null,
      "outputs": [
        {
          "output_type": "execute_result",
          "data": {
            "text/plain": [
              "68.51866666666666"
            ]
          },
          "metadata": {},
          "execution_count": 32
        }
      ]
    },
    {
      "cell_type": "markdown",
      "source": [
        "## Boolean Arrays"
      ],
      "metadata": {
        "id": "G-QiRtf63SDs"
      }
    },
    {
      "cell_type": "code",
      "source": [
        "g7_pop"
      ],
      "metadata": {
        "colab": {
          "base_uri": "https://localhost:8080/"
        },
        "id": "X0ZjfgX_3YfC",
        "outputId": "6084a085-f11a-43d8-9bac-7837bc7ecc68"
      },
      "execution_count": null,
      "outputs": [
        {
          "output_type": "execute_result",
          "data": {
            "text/plain": [
              "Canada             35.467\n",
              "France             63.951\n",
              "Germany            80.940\n",
              "Italy              60.665\n",
              "Japan             127.061\n",
              "United Kingdom     64.511\n",
              "United States     318.523\n",
              "Name: G7 Population in millions, dtype: float64"
            ]
          },
          "metadata": {},
          "execution_count": 111
        }
      ]
    },
    {
      "cell_type": "code",
      "source": [
        "g7_pop > 80"
      ],
      "metadata": {
        "colab": {
          "base_uri": "https://localhost:8080/"
        },
        "id": "Hiv2IOlf3bjk",
        "outputId": "b99b732e-87ac-4cec-fb03-d25fa0ce778a"
      },
      "execution_count": null,
      "outputs": [
        {
          "output_type": "execute_result",
          "data": {
            "text/plain": [
              "Canada            False\n",
              "France            False\n",
              "Germany            True\n",
              "Italy             False\n",
              "Japan              True\n",
              "United Kingdom    False\n",
              "United States      True\n",
              "Name: G7 Population in millions, dtype: bool"
            ]
          },
          "metadata": {},
          "execution_count": 112
        }
      ]
    },
    {
      "cell_type": "code",
      "source": [
        "g7_pop[g7_pop > 80]"
      ],
      "metadata": {
        "colab": {
          "base_uri": "https://localhost:8080/"
        },
        "id": "gHCIVWb33eyl",
        "outputId": "025a562a-b89c-4496-8b76-d3ce7bee69b4"
      },
      "execution_count": null,
      "outputs": [
        {
          "output_type": "execute_result",
          "data": {
            "text/plain": [
              "Germany           80.940\n",
              "Japan            127.061\n",
              "United States    318.523\n",
              "Name: G7 Population in millions, dtype: float64"
            ]
          },
          "metadata": {},
          "execution_count": 113
        }
      ]
    },
    {
      "cell_type": "code",
      "source": [
        "g7_pop[(g7_pop > 80) | (g7_pop < 40)]"
      ],
      "metadata": {
        "colab": {
          "base_uri": "https://localhost:8080/"
        },
        "id": "NCZoJPSF3jr4",
        "outputId": "89ccc4aa-068f-401d-9b86-0fec9dc95596"
      },
      "execution_count": null,
      "outputs": [
        {
          "output_type": "execute_result",
          "data": {
            "text/plain": [
              "Canada            35.467\n",
              "Germany           80.940\n",
              "Japan            127.061\n",
              "United States    318.523\n",
              "Name: G7 Population in millions, dtype: float64"
            ]
          },
          "metadata": {},
          "execution_count": 114
        }
      ]
    },
    {
      "cell_type": "code",
      "source": [
        "g7_pop[(g7_pop > 80) & (g7_pop < 200)]"
      ],
      "metadata": {
        "colab": {
          "base_uri": "https://localhost:8080/"
        },
        "id": "ctzY3UpN3lky",
        "outputId": "3971b5dd-9d69-4b36-9dbb-73519e20318c"
      },
      "execution_count": null,
      "outputs": [
        {
          "output_type": "execute_result",
          "data": {
            "text/plain": [
              "Germany     80.940\n",
              "Japan      127.061\n",
              "Name: G7 Population in millions, dtype: float64"
            ]
          },
          "metadata": {},
          "execution_count": 115
        }
      ]
    },
    {
      "cell_type": "markdown",
      "source": [
        "## Modifying Series"
      ],
      "metadata": {
        "id": "7qXKdDZh3tEP"
      }
    },
    {
      "cell_type": "code",
      "source": [
        "# Modify an element using the index\n",
        "g7_pop['Canada'] = 40.5"
      ],
      "metadata": {
        "id": "cZe6glLX3vOg"
      },
      "execution_count": null,
      "outputs": []
    },
    {
      "cell_type": "code",
      "source": [
        "g7_pop"
      ],
      "metadata": {
        "colab": {
          "base_uri": "https://localhost:8080/"
        },
        "id": "TBk5nikX31zi",
        "outputId": "574ec2f8-162c-4775-b6b1-78a9a979c375"
      },
      "execution_count": null,
      "outputs": [
        {
          "output_type": "execute_result",
          "data": {
            "text/plain": [
              "Canada             40.500\n",
              "France             63.951\n",
              "Germany            80.940\n",
              "Italy              60.665\n",
              "Japan             127.061\n",
              "United Kingdom     64.511\n",
              "United States     318.523\n",
              "Name: G7 Population in millions, dtype: float64"
            ]
          },
          "metadata": {},
          "execution_count": 117
        }
      ]
    },
    {
      "cell_type": "code",
      "source": [
        "# Modify last element using iloc\n",
        "g7_pop.iloc[-1] = 500 "
      ],
      "metadata": {
        "id": "9FWnmxWz34lJ"
      },
      "execution_count": null,
      "outputs": []
    },
    {
      "cell_type": "code",
      "source": [
        "g7_pop"
      ],
      "metadata": {
        "colab": {
          "base_uri": "https://localhost:8080/"
        },
        "id": "dC1KFbBH4Gg6",
        "outputId": "98f08427-864a-46ce-9483-6726909dfa11"
      },
      "execution_count": null,
      "outputs": [
        {
          "output_type": "execute_result",
          "data": {
            "text/plain": [
              "Canada             40.500\n",
              "France             63.951\n",
              "Germany            80.940\n",
              "Italy              60.665\n",
              "Japan             127.061\n",
              "United Kingdom     64.511\n",
              "United States     500.000\n",
              "Name: G7 Population in millions, dtype: float64"
            ]
          },
          "metadata": {},
          "execution_count": 119
        }
      ]
    },
    {
      "cell_type": "code",
      "source": [
        "# Modify elements based on a condition\n",
        "g7_pop[g7_pop < 70] = 99.99"
      ],
      "metadata": {
        "id": "zJTYioF44Iua"
      },
      "execution_count": null,
      "outputs": []
    },
    {
      "cell_type": "code",
      "source": [
        "g7_pop"
      ],
      "metadata": {
        "colab": {
          "base_uri": "https://localhost:8080/"
        },
        "id": "WRuIuqg24OGJ",
        "outputId": "751242cd-cb70-4f11-e974-12a7120f2144"
      },
      "execution_count": null,
      "outputs": [
        {
          "output_type": "execute_result",
          "data": {
            "text/plain": [
              "Canada             99.990\n",
              "France             99.990\n",
              "Germany            80.940\n",
              "Italy              99.990\n",
              "Japan             127.061\n",
              "United Kingdom     99.990\n",
              "United States     500.000\n",
              "Name: G7 Population in millions, dtype: float64"
            ]
          },
          "metadata": {},
          "execution_count": 121
        }
      ]
    }
  ]
}